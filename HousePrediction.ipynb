{
 "cells": [
  {
   "cell_type": "markdown",
   "id": "c8e8d37e",
   "metadata": {},
   "source": [
    "# LINEAR REGRESSION:"
   ]
  },
  {
   "cell_type": "markdown",
   "id": "3f8a836e",
   "metadata": {},
   "source": [
    "# Approaches:\n",
    "1.Load data & libraries.\n",
    "2.Data Preparation & transformation.\n",
    "3.Visualization.\n",
    "4.Analysis:\n",
    "    -Uni-variate\n",
    "    -Bi-variate(correlation and chi-square)\n",
    "    -Muti-variate:\n",
    "        1.supervised:\n",
    "            ! Regression.\n",
    "            ! Classification.\n",
    "        2.Unsupervised:\n",
    "            !Dimensionality Reduction.\n",
    "            ! Clustering."
   ]
  },
  {
   "cell_type": "code",
   "execution_count": 2,
   "id": "87bdafa9",
   "metadata": {},
   "outputs": [],
   "source": [
    "import pandas as pd\n",
    "import numpy as np\n",
    "import matplotlib.pyplot as plt\n",
    "import seaborn as sns\n",
    "from sklearn.model_selection import train_test_split\n",
    "from sklearn.linear_model import LinearRegression\n",
    "from sklearn.metrics import mean_squared_error, r2_score"
   ]
  },
  {
   "cell_type": "code",
   "execution_count": 3,
   "id": "b42b44ab",
   "metadata": {},
   "outputs": [],
   "source": [
    "train = pd.read_csv(\"C:/Users/DELL/OneDrive/Documents/HousePrices.csv\")"
   ]
  },
  {
   "cell_type": "code",
   "execution_count": 4,
   "id": "fc49edba",
   "metadata": {},
   "outputs": [
    {
     "name": "stdout",
     "output_type": "stream",
     "text": [
      "<class 'pandas.core.frame.DataFrame'>\n",
      "RangeIndex: 2073 entries, 0 to 2072\n",
      "Data columns (total 81 columns):\n",
      " #   Column               Non-Null Count  Dtype  \n",
      "---  ------               --------------  -----  \n",
      " 0   Id                   2073 non-null   int64  \n",
      " 1   Dwell_Type           2073 non-null   int64  \n",
      " 2   Zone_Class           2073 non-null   object \n",
      " 3   LotFrontage          1753 non-null   float64\n",
      " 4   LotArea              2073 non-null   int64  \n",
      " 5   Road_Type            2073 non-null   object \n",
      " 6   Alley                129 non-null    object \n",
      " 7   Property_Shape       2073 non-null   object \n",
      " 8   LandContour          2073 non-null   object \n",
      " 9   Utilities            2073 non-null   object \n",
      " 10  LotConfig            2073 non-null   object \n",
      " 11  LandSlope            2073 non-null   object \n",
      " 12  Neighborhood         2073 non-null   object \n",
      " 13  Condition1           2073 non-null   object \n",
      " 14  Condition2           2073 non-null   object \n",
      " 15  Dwelling_Type        2073 non-null   object \n",
      " 16  HouseStyle           2073 non-null   object \n",
      " 17  OverallQual          2073 non-null   int64  \n",
      " 18  OverallCond          2073 non-null   int64  \n",
      " 19  YearBuilt            2073 non-null   int64  \n",
      " 20  YearRemodAdd         2073 non-null   int64  \n",
      " 21  RoofStyle            2073 non-null   object \n",
      " 22  RoofMatl             2073 non-null   object \n",
      " 23  Exterior1st          2073 non-null   object \n",
      " 24  Exterior2nd          2073 non-null   object \n",
      " 25  MasVnrType           2059 non-null   object \n",
      " 26  MasVnrArea           2059 non-null   float64\n",
      " 27  ExterQual            2073 non-null   object \n",
      " 28  ExterCond            2073 non-null   object \n",
      " 29  Foundation           2073 non-null   object \n",
      " 30  BsmtQual             2014 non-null   object \n",
      " 31  BsmtCond             2014 non-null   object \n",
      " 32  BsmtExposure         2012 non-null   object \n",
      " 33  BsmtFinType1         2014 non-null   object \n",
      " 34  BsmtFinSF1           2073 non-null   int64  \n",
      " 35  BsmtFinType2         2013 non-null   object \n",
      " 36  BsmtFinSF2           2073 non-null   int64  \n",
      " 37  BsmtUnfSF            2073 non-null   int64  \n",
      " 38  TotalBsmtSF          2073 non-null   int64  \n",
      " 39  Heating              2073 non-null   object \n",
      " 40  HeatingQC            2073 non-null   object \n",
      " 41  CentralAir           2073 non-null   object \n",
      " 42  Electrical           2072 non-null   object \n",
      " 43  1stFlrSF             2073 non-null   int64  \n",
      " 44  2ndFlrSF             2073 non-null   int64  \n",
      " 45  LowQualFinSF         2073 non-null   int64  \n",
      " 46  GrLivArea            2073 non-null   int64  \n",
      " 47  BsmtFullBath         2073 non-null   int64  \n",
      " 48  BsmtHalfBath         2073 non-null   int64  \n",
      " 49  FullBath             2073 non-null   int64  \n",
      " 50  HalfBath             2073 non-null   int64  \n",
      " 51  BedroomAbvGr         2073 non-null   int64  \n",
      " 52  KitchenAbvGr         2073 non-null   int64  \n",
      " 53  KitchenQual          2073 non-null   object \n",
      " 54  TotRmsAbvGrd         2073 non-null   int64  \n",
      " 55  Functional           2073 non-null   object \n",
      " 56  Fireplaces           2073 non-null   int64  \n",
      " 57  FireplaceQu          1085 non-null   object \n",
      " 58  GarageType           1960 non-null   object \n",
      " 59  GarageYrBlt          1960 non-null   float64\n",
      " 60  GarageFinish         1960 non-null   object \n",
      " 61  GarageCars           2073 non-null   int64  \n",
      " 62  GarageArea           2073 non-null   int64  \n",
      " 63  GarageQual           1960 non-null   object \n",
      " 64  GarageCond           1960 non-null   object \n",
      " 65  PavedDrive           2073 non-null   object \n",
      " 66  WoodDeckSF           2073 non-null   int64  \n",
      " 67  OpenPorchSF          2073 non-null   int64  \n",
      " 68  EnclosedPorch        2073 non-null   int64  \n",
      " 69  3SsnPorch            2073 non-null   int64  \n",
      " 70  ScreenPorch          2073 non-null   int64  \n",
      " 71  PoolArea             2073 non-null   int64  \n",
      " 72  PoolQC               8 non-null      object \n",
      " 73  Fence                404 non-null    object \n",
      " 74  MiscFeature          80 non-null     object \n",
      " 75  MiscVal              2073 non-null   int64  \n",
      " 76  MoSold               2073 non-null   int64  \n",
      " 77  YrSold               2073 non-null   int64  \n",
      " 78  SaleType             2073 non-null   object \n",
      " 79  SaleCondition        2073 non-null   object \n",
      " 80  Property_Sale_Price  2073 non-null   int64  \n",
      "dtypes: float64(3), int64(35), object(43)\n",
      "memory usage: 1.3+ MB\n"
     ]
    }
   ],
   "source": [
    "train.info()"
   ]
  },
  {
   "cell_type": "code",
   "execution_count": 5,
   "id": "d354a5e5",
   "metadata": {},
   "outputs": [
    {
     "data": {
      "text/html": [
       "<div>\n",
       "<style scoped>\n",
       "    .dataframe tbody tr th:only-of-type {\n",
       "        vertical-align: middle;\n",
       "    }\n",
       "\n",
       "    .dataframe tbody tr th {\n",
       "        vertical-align: top;\n",
       "    }\n",
       "\n",
       "    .dataframe thead th {\n",
       "        text-align: right;\n",
       "    }\n",
       "</style>\n",
       "<table border=\"1\" class=\"dataframe\">\n",
       "  <thead>\n",
       "    <tr style=\"text-align: right;\">\n",
       "      <th></th>\n",
       "      <th>Id</th>\n",
       "      <th>Dwell_Type</th>\n",
       "      <th>Zone_Class</th>\n",
       "      <th>LotFrontage</th>\n",
       "      <th>LotArea</th>\n",
       "      <th>Road_Type</th>\n",
       "      <th>Alley</th>\n",
       "      <th>Property_Shape</th>\n",
       "      <th>LandContour</th>\n",
       "      <th>Utilities</th>\n",
       "      <th>...</th>\n",
       "      <th>PoolArea</th>\n",
       "      <th>PoolQC</th>\n",
       "      <th>Fence</th>\n",
       "      <th>MiscFeature</th>\n",
       "      <th>MiscVal</th>\n",
       "      <th>MoSold</th>\n",
       "      <th>YrSold</th>\n",
       "      <th>SaleType</th>\n",
       "      <th>SaleCondition</th>\n",
       "      <th>Property_Sale_Price</th>\n",
       "    </tr>\n",
       "  </thead>\n",
       "  <tbody>\n",
       "    <tr>\n",
       "      <th>0</th>\n",
       "      <td>1</td>\n",
       "      <td>60</td>\n",
       "      <td>RL</td>\n",
       "      <td>65.0</td>\n",
       "      <td>8450</td>\n",
       "      <td>Pave</td>\n",
       "      <td>NaN</td>\n",
       "      <td>Reg</td>\n",
       "      <td>Lvl</td>\n",
       "      <td>AllPub</td>\n",
       "      <td>...</td>\n",
       "      <td>0</td>\n",
       "      <td>NaN</td>\n",
       "      <td>NaN</td>\n",
       "      <td>NaN</td>\n",
       "      <td>0</td>\n",
       "      <td>2</td>\n",
       "      <td>2008</td>\n",
       "      <td>WD</td>\n",
       "      <td>Normal</td>\n",
       "      <td>208500</td>\n",
       "    </tr>\n",
       "    <tr>\n",
       "      <th>1</th>\n",
       "      <td>2</td>\n",
       "      <td>20</td>\n",
       "      <td>RL</td>\n",
       "      <td>80.0</td>\n",
       "      <td>9600</td>\n",
       "      <td>Pave</td>\n",
       "      <td>NaN</td>\n",
       "      <td>Reg</td>\n",
       "      <td>Lvl</td>\n",
       "      <td>AllPub</td>\n",
       "      <td>...</td>\n",
       "      <td>0</td>\n",
       "      <td>NaN</td>\n",
       "      <td>NaN</td>\n",
       "      <td>NaN</td>\n",
       "      <td>0</td>\n",
       "      <td>5</td>\n",
       "      <td>2007</td>\n",
       "      <td>WD</td>\n",
       "      <td>Normal</td>\n",
       "      <td>181500</td>\n",
       "    </tr>\n",
       "    <tr>\n",
       "      <th>2</th>\n",
       "      <td>3</td>\n",
       "      <td>60</td>\n",
       "      <td>RL</td>\n",
       "      <td>68.0</td>\n",
       "      <td>11250</td>\n",
       "      <td>Pave</td>\n",
       "      <td>NaN</td>\n",
       "      <td>IR1</td>\n",
       "      <td>Lvl</td>\n",
       "      <td>AllPub</td>\n",
       "      <td>...</td>\n",
       "      <td>0</td>\n",
       "      <td>NaN</td>\n",
       "      <td>NaN</td>\n",
       "      <td>NaN</td>\n",
       "      <td>0</td>\n",
       "      <td>9</td>\n",
       "      <td>2008</td>\n",
       "      <td>WD</td>\n",
       "      <td>Normal</td>\n",
       "      <td>223500</td>\n",
       "    </tr>\n",
       "    <tr>\n",
       "      <th>3</th>\n",
       "      <td>4</td>\n",
       "      <td>70</td>\n",
       "      <td>RL</td>\n",
       "      <td>60.0</td>\n",
       "      <td>9550</td>\n",
       "      <td>Pave</td>\n",
       "      <td>NaN</td>\n",
       "      <td>IR1</td>\n",
       "      <td>Lvl</td>\n",
       "      <td>AllPub</td>\n",
       "      <td>...</td>\n",
       "      <td>0</td>\n",
       "      <td>NaN</td>\n",
       "      <td>NaN</td>\n",
       "      <td>NaN</td>\n",
       "      <td>0</td>\n",
       "      <td>2</td>\n",
       "      <td>2006</td>\n",
       "      <td>WD</td>\n",
       "      <td>Abnorml</td>\n",
       "      <td>140000</td>\n",
       "    </tr>\n",
       "    <tr>\n",
       "      <th>4</th>\n",
       "      <td>5</td>\n",
       "      <td>60</td>\n",
       "      <td>RL</td>\n",
       "      <td>84.0</td>\n",
       "      <td>14260</td>\n",
       "      <td>Pave</td>\n",
       "      <td>NaN</td>\n",
       "      <td>IR1</td>\n",
       "      <td>Lvl</td>\n",
       "      <td>AllPub</td>\n",
       "      <td>...</td>\n",
       "      <td>0</td>\n",
       "      <td>NaN</td>\n",
       "      <td>NaN</td>\n",
       "      <td>NaN</td>\n",
       "      <td>0</td>\n",
       "      <td>12</td>\n",
       "      <td>2008</td>\n",
       "      <td>WD</td>\n",
       "      <td>Normal</td>\n",
       "      <td>250000</td>\n",
       "    </tr>\n",
       "  </tbody>\n",
       "</table>\n",
       "<p>5 rows × 81 columns</p>\n",
       "</div>"
      ],
      "text/plain": [
       "   Id  Dwell_Type Zone_Class  LotFrontage  LotArea Road_Type Alley  \\\n",
       "0   1          60         RL         65.0     8450      Pave   NaN   \n",
       "1   2          20         RL         80.0     9600      Pave   NaN   \n",
       "2   3          60         RL         68.0    11250      Pave   NaN   \n",
       "3   4          70         RL         60.0     9550      Pave   NaN   \n",
       "4   5          60         RL         84.0    14260      Pave   NaN   \n",
       "\n",
       "  Property_Shape LandContour Utilities  ... PoolArea PoolQC Fence MiscFeature  \\\n",
       "0            Reg         Lvl    AllPub  ...        0    NaN   NaN         NaN   \n",
       "1            Reg         Lvl    AllPub  ...        0    NaN   NaN         NaN   \n",
       "2            IR1         Lvl    AllPub  ...        0    NaN   NaN         NaN   \n",
       "3            IR1         Lvl    AllPub  ...        0    NaN   NaN         NaN   \n",
       "4            IR1         Lvl    AllPub  ...        0    NaN   NaN         NaN   \n",
       "\n",
       "  MiscVal MoSold YrSold  SaleType  SaleCondition  Property_Sale_Price  \n",
       "0       0      2   2008        WD         Normal               208500  \n",
       "1       0      5   2007        WD         Normal               181500  \n",
       "2       0      9   2008        WD         Normal               223500  \n",
       "3       0      2   2006        WD        Abnorml               140000  \n",
       "4       0     12   2008        WD         Normal               250000  \n",
       "\n",
       "[5 rows x 81 columns]"
      ]
     },
     "execution_count": 5,
     "metadata": {},
     "output_type": "execute_result"
    }
   ],
   "source": [
    "train.head()"
   ]
  },
  {
   "cell_type": "code",
   "execution_count": null,
   "id": "d6e48b94",
   "metadata": {},
   "outputs": [],
   "source": []
  },
  {
   "cell_type": "markdown",
   "id": "d8d78f16",
   "metadata": {},
   "source": [
    "# Exploaratory Data Analysis: (Uni-Variate & Bi-Variate)"
   ]
  },
  {
   "cell_type": "markdown",
   "id": "ddd9d712",
   "metadata": {},
   "source": [
    "For Continous variable:"
   ]
  },
  {
   "cell_type": "code",
   "execution_count": 6,
   "id": "0521dc33",
   "metadata": {},
   "outputs": [
    {
     "data": {
      "text/html": [
       "<div>\n",
       "<style scoped>\n",
       "    .dataframe tbody tr th:only-of-type {\n",
       "        vertical-align: middle;\n",
       "    }\n",
       "\n",
       "    .dataframe tbody tr th {\n",
       "        vertical-align: top;\n",
       "    }\n",
       "\n",
       "    .dataframe thead th {\n",
       "        text-align: right;\n",
       "    }\n",
       "</style>\n",
       "<table border=\"1\" class=\"dataframe\">\n",
       "  <thead>\n",
       "    <tr style=\"text-align: right;\">\n",
       "      <th></th>\n",
       "      <th>Id</th>\n",
       "      <th>Dwell_Type</th>\n",
       "      <th>LotFrontage</th>\n",
       "      <th>LotArea</th>\n",
       "      <th>OverallQual</th>\n",
       "      <th>OverallCond</th>\n",
       "      <th>YearBuilt</th>\n",
       "      <th>YearRemodAdd</th>\n",
       "      <th>MasVnrArea</th>\n",
       "      <th>BsmtFinSF1</th>\n",
       "      <th>...</th>\n",
       "      <th>WoodDeckSF</th>\n",
       "      <th>OpenPorchSF</th>\n",
       "      <th>EnclosedPorch</th>\n",
       "      <th>3SsnPorch</th>\n",
       "      <th>ScreenPorch</th>\n",
       "      <th>PoolArea</th>\n",
       "      <th>MiscVal</th>\n",
       "      <th>MoSold</th>\n",
       "      <th>YrSold</th>\n",
       "      <th>Property_Sale_Price</th>\n",
       "    </tr>\n",
       "  </thead>\n",
       "  <tbody>\n",
       "    <tr>\n",
       "      <th>count</th>\n",
       "      <td>2073.000000</td>\n",
       "      <td>2073.000000</td>\n",
       "      <td>1753.000000</td>\n",
       "      <td>2073.000000</td>\n",
       "      <td>2073.000000</td>\n",
       "      <td>2073.000000</td>\n",
       "      <td>2073.000000</td>\n",
       "      <td>2073.000000</td>\n",
       "      <td>2059.000000</td>\n",
       "      <td>2073.000000</td>\n",
       "      <td>...</td>\n",
       "      <td>2073.000000</td>\n",
       "      <td>2073.000000</td>\n",
       "      <td>2073.000000</td>\n",
       "      <td>2073.000000</td>\n",
       "      <td>2073.000000</td>\n",
       "      <td>2073.000000</td>\n",
       "      <td>2073.000000</td>\n",
       "      <td>2073.000000</td>\n",
       "      <td>2073.000000</td>\n",
       "      <td>2073.000000</td>\n",
       "    </tr>\n",
       "    <tr>\n",
       "      <th>mean</th>\n",
       "      <td>916.132176</td>\n",
       "      <td>60.556199</td>\n",
       "      <td>72.056475</td>\n",
       "      <td>10717.853353</td>\n",
       "      <td>6.233478</td>\n",
       "      <td>5.835022</td>\n",
       "      <td>1969.445731</td>\n",
       "      <td>1986.617463</td>\n",
       "      <td>101.875668</td>\n",
       "      <td>437.949349</td>\n",
       "      <td>...</td>\n",
       "      <td>94.168837</td>\n",
       "      <td>46.035697</td>\n",
       "      <td>21.029908</td>\n",
       "      <td>2.979257</td>\n",
       "      <td>14.552340</td>\n",
       "      <td>2.299083</td>\n",
       "      <td>39.736614</td>\n",
       "      <td>6.287506</td>\n",
       "      <td>2007.851905</td>\n",
       "      <td>180967.284129</td>\n",
       "    </tr>\n",
       "    <tr>\n",
       "      <th>std</th>\n",
       "      <td>493.014670</td>\n",
       "      <td>159.924810</td>\n",
       "      <td>27.987475</td>\n",
       "      <td>9215.982306</td>\n",
       "      <td>1.517115</td>\n",
       "      <td>1.360214</td>\n",
       "      <td>30.222647</td>\n",
       "      <td>20.432694</td>\n",
       "      <td>179.169217</td>\n",
       "      <td>448.051119</td>\n",
       "      <td>...</td>\n",
       "      <td>129.072113</td>\n",
       "      <td>64.768713</td>\n",
       "      <td>59.569928</td>\n",
       "      <td>26.817218</td>\n",
       "      <td>54.099626</td>\n",
       "      <td>37.411031</td>\n",
       "      <td>429.819512</td>\n",
       "      <td>2.690130</td>\n",
       "      <td>1.329705</td>\n",
       "      <td>78666.411112</td>\n",
       "    </tr>\n",
       "    <tr>\n",
       "      <th>min</th>\n",
       "      <td>1.000000</td>\n",
       "      <td>20.000000</td>\n",
       "      <td>21.000000</td>\n",
       "      <td>1300.000000</td>\n",
       "      <td>1.000000</td>\n",
       "      <td>1.000000</td>\n",
       "      <td>1872.000000</td>\n",
       "      <td>1950.000000</td>\n",
       "      <td>0.000000</td>\n",
       "      <td>0.000000</td>\n",
       "      <td>...</td>\n",
       "      <td>0.000000</td>\n",
       "      <td>0.000000</td>\n",
       "      <td>0.000000</td>\n",
       "      <td>0.000000</td>\n",
       "      <td>0.000000</td>\n",
       "      <td>0.000000</td>\n",
       "      <td>0.000000</td>\n",
       "      <td>1.000000</td>\n",
       "      <td>2006.000000</td>\n",
       "      <td>34900.000000</td>\n",
       "    </tr>\n",
       "    <tr>\n",
       "      <th>25%</th>\n",
       "      <td>519.000000</td>\n",
       "      <td>20.000000</td>\n",
       "      <td>60.000000</td>\n",
       "      <td>7620.000000</td>\n",
       "      <td>5.000000</td>\n",
       "      <td>5.000000</td>\n",
       "      <td>1950.000000</td>\n",
       "      <td>1970.000000</td>\n",
       "      <td>0.000000</td>\n",
       "      <td>0.000000</td>\n",
       "      <td>...</td>\n",
       "      <td>0.000000</td>\n",
       "      <td>0.000000</td>\n",
       "      <td>0.000000</td>\n",
       "      <td>0.000000</td>\n",
       "      <td>0.000000</td>\n",
       "      <td>0.000000</td>\n",
       "      <td>0.000000</td>\n",
       "      <td>5.000000</td>\n",
       "      <td>2007.000000</td>\n",
       "      <td>130000.000000</td>\n",
       "    </tr>\n",
       "    <tr>\n",
       "      <th>50%</th>\n",
       "      <td>932.000000</td>\n",
       "      <td>50.000000</td>\n",
       "      <td>70.000000</td>\n",
       "      <td>9492.000000</td>\n",
       "      <td>6.000000</td>\n",
       "      <td>5.000000</td>\n",
       "      <td>1971.000000</td>\n",
       "      <td>1995.000000</td>\n",
       "      <td>0.000000</td>\n",
       "      <td>381.000000</td>\n",
       "      <td>...</td>\n",
       "      <td>0.000000</td>\n",
       "      <td>24.000000</td>\n",
       "      <td>0.000000</td>\n",
       "      <td>0.000000</td>\n",
       "      <td>0.000000</td>\n",
       "      <td>0.000000</td>\n",
       "      <td>0.000000</td>\n",
       "      <td>6.000000</td>\n",
       "      <td>2008.000000</td>\n",
       "      <td>163990.000000</td>\n",
       "    </tr>\n",
       "    <tr>\n",
       "      <th>75%</th>\n",
       "      <td>1302.000000</td>\n",
       "      <td>70.000000</td>\n",
       "      <td>83.000000</td>\n",
       "      <td>11601.000000</td>\n",
       "      <td>7.000000</td>\n",
       "      <td>7.000000</td>\n",
       "      <td>1999.000000</td>\n",
       "      <td>2004.000000</td>\n",
       "      <td>161.500000</td>\n",
       "      <td>708.000000</td>\n",
       "      <td>...</td>\n",
       "      <td>168.000000</td>\n",
       "      <td>67.000000</td>\n",
       "      <td>0.000000</td>\n",
       "      <td>0.000000</td>\n",
       "      <td>0.000000</td>\n",
       "      <td>0.000000</td>\n",
       "      <td>0.000000</td>\n",
       "      <td>8.000000</td>\n",
       "      <td>2009.000000</td>\n",
       "      <td>214000.000000</td>\n",
       "    </tr>\n",
       "    <tr>\n",
       "      <th>max</th>\n",
       "      <td>1820.000000</td>\n",
       "      <td>7080.000000</td>\n",
       "      <td>313.000000</td>\n",
       "      <td>215245.000000</td>\n",
       "      <td>10.000000</td>\n",
       "      <td>9.000000</td>\n",
       "      <td>2010.000000</td>\n",
       "      <td>2023.000000</td>\n",
       "      <td>1600.000000</td>\n",
       "      <td>5644.000000</td>\n",
       "      <td>...</td>\n",
       "      <td>857.000000</td>\n",
       "      <td>547.000000</td>\n",
       "      <td>552.000000</td>\n",
       "      <td>508.000000</td>\n",
       "      <td>480.000000</td>\n",
       "      <td>738.000000</td>\n",
       "      <td>15500.000000</td>\n",
       "      <td>12.000000</td>\n",
       "      <td>2010.000000</td>\n",
       "      <td>755000.000000</td>\n",
       "    </tr>\n",
       "  </tbody>\n",
       "</table>\n",
       "<p>8 rows × 38 columns</p>\n",
       "</div>"
      ],
      "text/plain": [
       "                Id   Dwell_Type  LotFrontage        LotArea  OverallQual  \\\n",
       "count  2073.000000  2073.000000  1753.000000    2073.000000  2073.000000   \n",
       "mean    916.132176    60.556199    72.056475   10717.853353     6.233478   \n",
       "std     493.014670   159.924810    27.987475    9215.982306     1.517115   \n",
       "min       1.000000    20.000000    21.000000    1300.000000     1.000000   \n",
       "25%     519.000000    20.000000    60.000000    7620.000000     5.000000   \n",
       "50%     932.000000    50.000000    70.000000    9492.000000     6.000000   \n",
       "75%    1302.000000    70.000000    83.000000   11601.000000     7.000000   \n",
       "max    1820.000000  7080.000000   313.000000  215245.000000    10.000000   \n",
       "\n",
       "       OverallCond    YearBuilt  YearRemodAdd   MasVnrArea   BsmtFinSF1  ...  \\\n",
       "count  2073.000000  2073.000000   2073.000000  2059.000000  2073.000000  ...   \n",
       "mean      5.835022  1969.445731   1986.617463   101.875668   437.949349  ...   \n",
       "std       1.360214    30.222647     20.432694   179.169217   448.051119  ...   \n",
       "min       1.000000  1872.000000   1950.000000     0.000000     0.000000  ...   \n",
       "25%       5.000000  1950.000000   1970.000000     0.000000     0.000000  ...   \n",
       "50%       5.000000  1971.000000   1995.000000     0.000000   381.000000  ...   \n",
       "75%       7.000000  1999.000000   2004.000000   161.500000   708.000000  ...   \n",
       "max       9.000000  2010.000000   2023.000000  1600.000000  5644.000000  ...   \n",
       "\n",
       "        WoodDeckSF  OpenPorchSF  EnclosedPorch    3SsnPorch  ScreenPorch  \\\n",
       "count  2073.000000  2073.000000    2073.000000  2073.000000  2073.000000   \n",
       "mean     94.168837    46.035697      21.029908     2.979257    14.552340   \n",
       "std     129.072113    64.768713      59.569928    26.817218    54.099626   \n",
       "min       0.000000     0.000000       0.000000     0.000000     0.000000   \n",
       "25%       0.000000     0.000000       0.000000     0.000000     0.000000   \n",
       "50%       0.000000    24.000000       0.000000     0.000000     0.000000   \n",
       "75%     168.000000    67.000000       0.000000     0.000000     0.000000   \n",
       "max     857.000000   547.000000     552.000000   508.000000   480.000000   \n",
       "\n",
       "          PoolArea       MiscVal       MoSold       YrSold  \\\n",
       "count  2073.000000   2073.000000  2073.000000  2073.000000   \n",
       "mean      2.299083     39.736614     6.287506  2007.851905   \n",
       "std      37.411031    429.819512     2.690130     1.329705   \n",
       "min       0.000000      0.000000     1.000000  2006.000000   \n",
       "25%       0.000000      0.000000     5.000000  2007.000000   \n",
       "50%       0.000000      0.000000     6.000000  2008.000000   \n",
       "75%       0.000000      0.000000     8.000000  2009.000000   \n",
       "max     738.000000  15500.000000    12.000000  2010.000000   \n",
       "\n",
       "       Property_Sale_Price  \n",
       "count          2073.000000  \n",
       "mean         180967.284129  \n",
       "std           78666.411112  \n",
       "min           34900.000000  \n",
       "25%          130000.000000  \n",
       "50%          163990.000000  \n",
       "75%          214000.000000  \n",
       "max          755000.000000  \n",
       "\n",
       "[8 rows x 38 columns]"
      ]
     },
     "execution_count": 6,
     "metadata": {},
     "output_type": "execute_result"
    }
   ],
   "source": [
    "train.describe()"
   ]
  },
  {
   "cell_type": "code",
   "execution_count": 7,
   "id": "2e4cf134",
   "metadata": {},
   "outputs": [
    {
     "name": "stderr",
     "output_type": "stream",
     "text": [
      "C:\\Users\\DELL\\AppData\\Local\\Temp\\ipykernel_14440\\3574648760.py:1: FutureWarning: The default value of numeric_only in DataFrame.skew is deprecated. In a future version, it will default to False. In addition, specifying 'numeric_only=None' is deprecated. Select only valid columns or specify the value of numeric_only to silence this warning.\n",
      "  train.skew()\n"
     ]
    },
    {
     "data": {
      "text/plain": [
       "Id                     -0.033712\n",
       "Dwell_Type             40.872292\n",
       "LotFrontage             3.448015\n",
       "LotArea                11.239413\n",
       "OverallQual             0.196350\n",
       "OverallCond             0.649335\n",
       "YearBuilt              -0.516261\n",
       "YearRemodAdd           -0.579862\n",
       "MasVnrArea              2.576900\n",
       "BsmtFinSF1              1.468890\n",
       "BsmtFinSF2              4.027937\n",
       "BsmtUnfSF               0.924212\n",
       "TotalBsmtSF             1.156452\n",
       "1stFlrSF                1.247346\n",
       "2ndFlrSF                0.808616\n",
       "LowQualFinSF            8.652420\n",
       "GrLivArea               1.169644\n",
       "BsmtFullBath            0.619665\n",
       "BsmtHalfBath            4.169617\n",
       "FullBath               -0.045613\n",
       "HalfBath                0.674001\n",
       "BedroomAbvGr            0.123019\n",
       "KitchenAbvGr            4.312676\n",
       "TotRmsAbvGrd            0.721687\n",
       "Fireplaces              0.625415\n",
       "GarageYrBlt            -0.700172\n",
       "GarageCars             -0.373705\n",
       "GarageArea              0.135391\n",
       "WoodDeckSF              1.763668\n",
       "OpenPorchSF             2.257522\n",
       "EnclosedPorch           3.118448\n",
       "3SsnPorch              10.782305\n",
       "ScreenPorch             4.058727\n",
       "PoolArea               16.631719\n",
       "MiscVal                26.778418\n",
       "MoSold                  0.185306\n",
       "YrSold                  0.059461\n",
       "Property_Sale_Price     1.842123\n",
       "dtype: float64"
      ]
     },
     "execution_count": 7,
     "metadata": {},
     "output_type": "execute_result"
    }
   ],
   "source": [
    "train.skew()"
   ]
  },
  {
   "cell_type": "code",
   "execution_count": 8,
   "id": "fc319a39",
   "metadata": {
    "scrolled": true
   },
   "outputs": [
    {
     "name": "stderr",
     "output_type": "stream",
     "text": [
      "C:\\Users\\DELL\\AppData\\Local\\Temp\\ipykernel_14440\\4055251463.py:1: UserWarning: \n",
      "\n",
      "`distplot` is a deprecated function and will be removed in seaborn v0.14.0.\n",
      "\n",
      "Please adapt your code to use either `displot` (a figure-level function with\n",
      "similar flexibility) or `histplot` (an axes-level function for histograms).\n",
      "\n",
      "For a guide to updating your code to use the new functions, please see\n",
      "https://gist.github.com/mwaskom/de44147ed2974457ad6372750bbe5751\n",
      "\n",
      "  sns.distplot(train['Dwell_Type'] , kde = True)\n"
     ]
    },
    {
     "data": {
      "text/plain": [
       "<Axes: xlabel='Dwell_Type', ylabel='Density'>"
      ]
     },
     "execution_count": 8,
     "metadata": {},
     "output_type": "execute_result"
    },
    {
     "data": {
      "image/png": "[encoded data removed]",
      "text/plain": [
       "<Figure size 640x480 with 1 Axes>"
      ]
     },
     "metadata": {},
     "output_type": "display_data"
    }
   ],
   "source": [
    "sns.distplot(train['Dwell_Type'] , kde = True)"
   ]
  },
  {
   "cell_type": "code",
   "execution_count": 9,
   "id": "539caf46",
   "metadata": {},
   "outputs": [
    {
     "name": "stderr",
     "output_type": "stream",
     "text": [
      "C:\\Users\\DELL\\AppData\\Local\\Temp\\ipykernel_14440\\3145458143.py:1: UserWarning: \n",
      "\n",
      "`distplot` is a deprecated function and will be removed in seaborn v0.14.0.\n",
      "\n",
      "Please adapt your code to use either `displot` (a figure-level function with\n",
      "similar flexibility) or `histplot` (an axes-level function for histograms).\n",
      "\n",
      "For a guide to updating your code to use the new functions, please see\n",
      "https://gist.github.com/mwaskom/de44147ed2974457ad6372750bbe5751\n",
      "\n",
      "  sns.distplot(train['LotArea'] , kde = True)\n"
     ]
    },
    {
     "data": {
      "text/plain": [
       "<Axes: xlabel='LotArea', ylabel='Density'>"
      ]
     },
     "execution_count": 9,
     "metadata": {},
     "output_type": "execute_result"
    },
    {
     "data": {
      "image/png": "[encoded data removed]",
      "text/plain": [
       "<Figure size 640x480 with 1 Axes>"
      ]
     },
     "metadata": {},
     "output_type": "display_data"
    }
   ],
   "source": [
    "sns.distplot(train['LotArea'] , kde = True)"
   ]
  },
  {
   "cell_type": "code",
   "execution_count": 10,
   "id": "03065483",
   "metadata": {},
   "outputs": [
    {
     "name": "stderr",
     "output_type": "stream",
     "text": [
      "C:\\Users\\DELL\\AppData\\Local\\Temp\\ipykernel_14440\\1016613665.py:1: UserWarning: \n",
      "\n",
      "`distplot` is a deprecated function and will be removed in seaborn v0.14.0.\n",
      "\n",
      "Please adapt your code to use either `displot` (a figure-level function with\n",
      "similar flexibility) or `histplot` (an axes-level function for histograms).\n",
      "\n",
      "For a guide to updating your code to use the new functions, please see\n",
      "https://gist.github.com/mwaskom/de44147ed2974457ad6372750bbe5751\n",
      "\n",
      "  sns.distplot(train['YearBuilt'] , kde = True)\n"
     ]
    },
    {
     "data": {
      "text/plain": [
       "<Axes: xlabel='YearBuilt', ylabel='Density'>"
      ]
     },
     "execution_count": 10,
     "metadata": {},
     "output_type": "execute_result"
    },
    {
     "data": {
      "image/png": "[encoded data removed]",
      "text/plain": [
       "<Figure size 640x480 with 1 Axes>"
      ]
     },
     "metadata": {},
     "output_type": "display_data"
    }
   ],
   "source": [
    "sns.distplot(train['YearBuilt'] , kde = True)"
   ]
  },
  {
   "cell_type": "markdown",
   "id": "bee72263",
   "metadata": {},
   "source": [
    "YearBuilt : No Normal Distribution\n",
    "    Negative skew occurs"
   ]
  },
  {
   "cell_type": "code",
   "execution_count": 11,
   "id": "30dd757a",
   "metadata": {},
   "outputs": [
    {
     "name": "stderr",
     "output_type": "stream",
     "text": [
      "C:\\Users\\DELL\\AppData\\Local\\Temp\\ipykernel_14440\\2531418643.py:1: UserWarning: \n",
      "\n",
      "`distplot` is a deprecated function and will be removed in seaborn v0.14.0.\n",
      "\n",
      "Please adapt your code to use either `displot` (a figure-level function with\n",
      "similar flexibility) or `histplot` (an axes-level function for histograms).\n",
      "\n",
      "For a guide to updating your code to use the new functions, please see\n",
      "https://gist.github.com/mwaskom/de44147ed2974457ad6372750bbe5751\n",
      "\n",
      "  sns.distplot(train['YearRemodAdd'] , kde = True)\n"
     ]
    },
    {
     "data": {
      "text/plain": [
       "<Axes: xlabel='YearRemodAdd', ylabel='Density'>"
      ]
     },
     "execution_count": 11,
     "metadata": {},
     "output_type": "execute_result"
    },
    {
     "data": {
      "image/png": "[encoded data removed]",
      "text/plain": [
       "<Figure size 640x480 with 1 Axes>"
      ]
     },
     "metadata": {},
     "output_type": "display_data"
    }
   ],
   "source": [
    "sns.distplot(train['YearRemodAdd'] , kde = True)"
   ]
  },
  {
   "cell_type": "code",
   "execution_count": 12,
   "id": "2ac702a2",
   "metadata": {},
   "outputs": [
    {
     "name": "stderr",
     "output_type": "stream",
     "text": [
      "C:\\Users\\DELL\\AppData\\Local\\Temp\\ipykernel_14440\\3286731315.py:1: UserWarning: \n",
      "\n",
      "`distplot` is a deprecated function and will be removed in seaborn v0.14.0.\n",
      "\n",
      "Please adapt your code to use either `displot` (a figure-level function with\n",
      "similar flexibility) or `histplot` (an axes-level function for histograms).\n",
      "\n",
      "For a guide to updating your code to use the new functions, please see\n",
      "https://gist.github.com/mwaskom/de44147ed2974457ad6372750bbe5751\n",
      "\n",
      "  sns.distplot(train['MasVnrArea'] , kde = True)\n"
     ]
    },
    {
     "data": {
      "text/plain": [
       "<Axes: xlabel='MasVnrArea', ylabel='Density'>"
      ]
     },
     "execution_count": 12,
     "metadata": {},
     "output_type": "execute_result"
    },
    {
     "data": {
      "image/png": "[encoded data removed]",
      "text/plain": [
       "<Figure size 640x480 with 1 Axes>"
      ]
     },
     "metadata": {},
     "output_type": "display_data"
    }
   ],
   "source": [
    "sns.distplot(train['MasVnrArea'] , kde = True)"
   ]
  },
  {
   "cell_type": "code",
   "execution_count": 13,
   "id": "eafcbb16",
   "metadata": {
    "scrolled": true
   },
   "outputs": [
    {
     "name": "stderr",
     "output_type": "stream",
     "text": [
      "C:\\Users\\DELL\\AppData\\Local\\Temp\\ipykernel_14440\\2387253246.py:1: UserWarning: \n",
      "\n",
      "`distplot` is a deprecated function and will be removed in seaborn v0.14.0.\n",
      "\n",
      "Please adapt your code to use either `displot` (a figure-level function with\n",
      "similar flexibility) or `histplot` (an axes-level function for histograms).\n",
      "\n",
      "For a guide to updating your code to use the new functions, please see\n",
      "https://gist.github.com/mwaskom/de44147ed2974457ad6372750bbe5751\n",
      "\n",
      "  sns.distplot(train['BsmtFinSF1'] , kde = True)\n"
     ]
    },
    {
     "data": {
      "text/plain": [
       "<Axes: xlabel='BsmtFinSF1', ylabel='Density'>"
      ]
     },
     "execution_count": 13,
     "metadata": {},
     "output_type": "execute_result"
    },
    {
     "data": {
      "image/png": "[encoded data removed]",
      "text/plain": [
       "<Figure size 640x480 with 1 Axes>"
      ]
     },
     "metadata": {},
     "output_type": "display_data"
    }
   ],
   "source": [
    "sns.distplot(train['BsmtFinSF1'] , kde = True) "
   ]
  },
  {
   "cell_type": "code",
   "execution_count": 14,
   "id": "646d55d1",
   "metadata": {
    "scrolled": true
   },
   "outputs": [
    {
     "name": "stderr",
     "output_type": "stream",
     "text": [
      "C:\\Users\\DELL\\AppData\\Local\\Temp\\ipykernel_14440\\3366634240.py:1: UserWarning: \n",
      "\n",
      "`distplot` is a deprecated function and will be removed in seaborn v0.14.0.\n",
      "\n",
      "Please adapt your code to use either `displot` (a figure-level function with\n",
      "similar flexibility) or `histplot` (an axes-level function for histograms).\n",
      "\n",
      "For a guide to updating your code to use the new functions, please see\n",
      "https://gist.github.com/mwaskom/de44147ed2974457ad6372750bbe5751\n",
      "\n",
      "  sns.distplot(train['GrLivArea'] , kde = True)\n"
     ]
    },
    {
     "data": {
      "text/plain": [
       "<Axes: xlabel='GrLivArea', ylabel='Density'>"
      ]
     },
     "execution_count": 14,
     "metadata": {},
     "output_type": "execute_result"
    },
    {
     "data": {
      "image/png": "[encoded data removed]",
      "text/plain": [
       "<Figure size 640x480 with 1 Axes>"
      ]
     },
     "metadata": {},
     "output_type": "display_data"
    }
   ],
   "source": [
    "sns.distplot(train['GrLivArea'] , kde = True) "
   ]
  },
  {
   "cell_type": "code",
   "execution_count": 15,
   "id": "9d12a4eb",
   "metadata": {
    "scrolled": true
   },
   "outputs": [
    {
     "name": "stderr",
     "output_type": "stream",
     "text": [
      "C:\\Users\\DELL\\AppData\\Local\\Temp\\ipykernel_14440\\3259013995.py:1: UserWarning: \n",
      "\n",
      "`distplot` is a deprecated function and will be removed in seaborn v0.14.0.\n",
      "\n",
      "Please adapt your code to use either `displot` (a figure-level function with\n",
      "similar flexibility) or `histplot` (an axes-level function for histograms).\n",
      "\n",
      "For a guide to updating your code to use the new functions, please see\n",
      "https://gist.github.com/mwaskom/de44147ed2974457ad6372750bbe5751\n",
      "\n",
      "  sns.distplot(train['GarageYrBlt'] , kde = True)\n"
     ]
    },
    {
     "data": {
      "text/plain": [
       "<Axes: xlabel='GarageYrBlt', ylabel='Density'>"
      ]
     },
     "execution_count": 15,
     "metadata": {},
     "output_type": "execute_result"
    },
    {
     "data": {
      "image/png": "[encoded data removed]",
      "text/plain": [
       "<Figure size 640x480 with 1 Axes>"
      ]
     },
     "metadata": {},
     "output_type": "display_data"
    }
   ],
   "source": [
    "sns.distplot(train['GarageYrBlt'] , kde = True) "
   ]
  },
  {
   "cell_type": "code",
   "execution_count": 16,
   "id": "b1b2e99b",
   "metadata": {
    "scrolled": true
   },
   "outputs": [
    {
     "name": "stderr",
     "output_type": "stream",
     "text": [
      "C:\\Users\\DELL\\AppData\\Local\\Temp\\ipykernel_14440\\1527033550.py:1: UserWarning: \n",
      "\n",
      "`distplot` is a deprecated function and will be removed in seaborn v0.14.0.\n",
      "\n",
      "Please adapt your code to use either `displot` (a figure-level function with\n",
      "similar flexibility) or `histplot` (an axes-level function for histograms).\n",
      "\n",
      "For a guide to updating your code to use the new functions, please see\n",
      "https://gist.github.com/mwaskom/de44147ed2974457ad6372750bbe5751\n",
      "\n",
      "  sns.distplot(train['GarageArea'] , kde = True)\n"
     ]
    },
    {
     "data": {
      "text/plain": [
       "<Axes: xlabel='GarageArea', ylabel='Density'>"
      ]
     },
     "execution_count": 16,
     "metadata": {},
     "output_type": "execute_result"
    },
    {
     "data": {
      "image/png": "[encoded data removed]",
      "text/plain": [
       "<Figure size 640x480 with 1 Axes>"
      ]
     },
     "metadata": {},
     "output_type": "display_data"
    }
   ],
   "source": [
    "sns.distplot(train['GarageArea'] , kde = True) "
   ]
  },
  {
   "cell_type": "code",
   "execution_count": 17,
   "id": "079ee303",
   "metadata": {},
   "outputs": [
    {
     "name": "stderr",
     "output_type": "stream",
     "text": [
      "C:\\Users\\DELL\\AppData\\Local\\Temp\\ipykernel_14440\\417861525.py:1: UserWarning: \n",
      "\n",
      "`distplot` is a deprecated function and will be removed in seaborn v0.14.0.\n",
      "\n",
      "Please adapt your code to use either `displot` (a figure-level function with\n",
      "similar flexibility) or `histplot` (an axes-level function for histograms).\n",
      "\n",
      "For a guide to updating your code to use the new functions, please see\n",
      "https://gist.github.com/mwaskom/de44147ed2974457ad6372750bbe5751\n",
      "\n",
      "  sns.distplot(train['YrSold'] , kde = True)\n"
     ]
    },
    {
     "data": {
      "text/plain": [
       "<Axes: xlabel='YrSold', ylabel='Density'>"
      ]
     },
     "execution_count": 17,
     "metadata": {},
     "output_type": "execute_result"
    },
    {
     "data": {
      "image/png": "[encoded data removed]",
      "text/plain": [
       "<Figure size 640x480 with 1 Axes>"
      ]
     },
     "metadata": {},
     "output_type": "display_data"
    }
   ],
   "source": [
    "sns.distplot(train['YrSold'] , kde = True) "
   ]
  },
  {
   "cell_type": "markdown",
   "id": "a0c8afff",
   "metadata": {},
   "source": [
    "For Categorical Data:"
   ]
  },
  {
   "cell_type": "code",
   "execution_count": 18,
   "id": "c7d89454",
   "metadata": {},
   "outputs": [
    {
     "data": {
      "text/plain": [
       "<Axes: >"
      ]
     },
     "execution_count": 18,
     "metadata": {},
     "output_type": "execute_result"
    },
    {
     "data": {
      "image/png": "[encoded data removed]",
      "text/plain": [
       "<Figure size 640x480 with 1 Axes>"
      ]
     },
     "metadata": {},
     "output_type": "display_data"
    }
   ],
   "source": [
    "train['Property_Shape'].value_counts().plot(kind = 'bar')"
   ]
  },
  {
   "cell_type": "code",
   "execution_count": 19,
   "id": "878eb213",
   "metadata": {},
   "outputs": [
    {
     "data": {
      "text/plain": [
       "<Axes: >"
      ]
     },
     "execution_count": 19,
     "metadata": {},
     "output_type": "execute_result"
    },
    {
     "data": {
      "image/png": "[encoded data removed]",
      "text/plain": [
       "<Figure size 640x480 with 1 Axes>"
      ]
     },
     "metadata": {},
     "output_type": "display_data"
    }
   ],
   "source": [
    "train['LandContour'].value_counts().plot(kind = 'bar')"
   ]
  },
  {
   "cell_type": "code",
   "execution_count": 20,
   "id": "5fd1cbdd",
   "metadata": {},
   "outputs": [
    {
     "data": {
      "text/plain": [
       "<Axes: >"
      ]
     },
     "execution_count": 20,
     "metadata": {},
     "output_type": "execute_result"
    },
    {
     "data": {
      "image/png": "[encoded data removed]",
      "text/plain": [
       "<Figure size 640x480 with 1 Axes>"
      ]
     },
     "metadata": {},
     "output_type": "display_data"
    }
   ],
   "source": [
    "train['LotConfig'].value_counts().plot(kind = 'bar')"
   ]
  },
  {
   "cell_type": "code",
   "execution_count": 21,
   "id": "dd51146f",
   "metadata": {},
   "outputs": [
    {
     "data": {
      "text/plain": [
       "<Axes: >"
      ]
     },
     "execution_count": 21,
     "metadata": {},
     "output_type": "execute_result"
    },
    {
     "data": {
      "image/png": "[encoded data removed]",
      "text/plain": [
       "<Figure size 640x480 with 1 Axes>"
      ]
     },
     "metadata": {},
     "output_type": "display_data"
    }
   ],
   "source": [
    "train['HouseStyle'].value_counts().plot(kind = 'bar')"
   ]
  },
  {
   "cell_type": "code",
   "execution_count": 22,
   "id": "34e31991",
   "metadata": {},
   "outputs": [
    {
     "data": {
      "text/plain": [
       "<Axes: >"
      ]
     },
     "execution_count": 22,
     "metadata": {},
     "output_type": "execute_result"
    },
    {
     "data": {
      "image/png": "[encoded data removed]",
      "text/plain": [
       "<Figure size 640x480 with 1 Axes>"
      ]
     },
     "metadata": {},
     "output_type": "display_data"
    }
   ],
   "source": [
    "train['Neighborhood'].value_counts().plot(kind = 'bar')"
   ]
  },
  {
   "cell_type": "markdown",
   "id": "bf62c599",
   "metadata": {},
   "source": [
    "Bi-Variate Analysis\n",
    "    Categorical : Chi-Square."
   ]
  },
  {
   "cell_type": "code",
   "execution_count": 23,
   "id": "862d7dbd",
   "metadata": {},
   "outputs": [
    {
     "data": {
      "text/plain": [
       "<Axes: >"
      ]
     },
     "execution_count": 23,
     "metadata": {},
     "output_type": "execute_result"
    },
    {
     "data": {
      "image/png": "[encoded data removed]",
      "text/plain": [
       "<Figure size 640x480 with 1 Axes>"
      ]
     },
     "metadata": {},
     "output_type": "display_data"
    }
   ],
   "source": [
    "train['HouseStyle'].value_counts().plot(kind = 'bar')"
   ]
  },
  {
   "cell_type": "code",
   "execution_count": 24,
   "id": "f2268be6",
   "metadata": {},
   "outputs": [],
   "source": [
    "from scipy.stats import chi2_contingency"
   ]
  },
  {
   "cell_type": "code",
   "execution_count": 25,
   "id": "30a77e30",
   "metadata": {},
   "outputs": [],
   "source": [
    "def chi2_sq_test(var1, var2):\n",
    "    contingency_table = pd.crosstab(var1, var2)\n",
    "    _,pvalue,_,_ = chi2_contingency(contingency_table)\n",
    "    if pvalue< 0.05:\n",
    "        print('Accept the alternative hypothesis ', round(pvalue,2))\n",
    "    else: \n",
    "        print('Don not Accept the alternative hypothesis', round(pvalue,2) )\n",
    "    return contingency_table"
   ]
  },
  {
   "cell_type": "code",
   "execution_count": 26,
   "id": "e815f8b2",
   "metadata": {
    "scrolled": true
   },
   "outputs": [
    {
     "name": "stdout",
     "output_type": "stream",
     "text": [
      "Accept the alternative hypothesis  0.0\n"
     ]
    },
    {
     "data": {
      "text/html": [
       "<div>\n",
       "<style scoped>\n",
       "    .dataframe tbody tr th:only-of-type {\n",
       "        vertical-align: middle;\n",
       "    }\n",
       "\n",
       "    .dataframe tbody tr th {\n",
       "        vertical-align: top;\n",
       "    }\n",
       "\n",
       "    .dataframe thead th {\n",
       "        text-align: right;\n",
       "    }\n",
       "</style>\n",
       "<table border=\"1\" class=\"dataframe\">\n",
       "  <thead>\n",
       "    <tr style=\"text-align: right;\">\n",
       "      <th>Property_Shape</th>\n",
       "      <th>IR1</th>\n",
       "      <th>IR2</th>\n",
       "      <th>IR3</th>\n",
       "      <th>Reg</th>\n",
       "    </tr>\n",
       "    <tr>\n",
       "      <th>Zone_Class</th>\n",
       "      <th></th>\n",
       "      <th></th>\n",
       "      <th></th>\n",
       "      <th></th>\n",
       "    </tr>\n",
       "  </thead>\n",
       "  <tbody>\n",
       "    <tr>\n",
       "      <th>C (all)</th>\n",
       "      <td>2</td>\n",
       "      <td>0</td>\n",
       "      <td>0</td>\n",
       "      <td>12</td>\n",
       "    </tr>\n",
       "    <tr>\n",
       "      <th>FV</th>\n",
       "      <td>20</td>\n",
       "      <td>3</td>\n",
       "      <td>0</td>\n",
       "      <td>79</td>\n",
       "    </tr>\n",
       "    <tr>\n",
       "      <th>RH</th>\n",
       "      <td>3</td>\n",
       "      <td>1</td>\n",
       "      <td>0</td>\n",
       "      <td>18</td>\n",
       "    </tr>\n",
       "    <tr>\n",
       "      <th>RL</th>\n",
       "      <td>638</td>\n",
       "      <td>50</td>\n",
       "      <td>13</td>\n",
       "      <td>910</td>\n",
       "    </tr>\n",
       "    <tr>\n",
       "      <th>RM</th>\n",
       "      <td>35</td>\n",
       "      <td>6</td>\n",
       "      <td>2</td>\n",
       "      <td>281</td>\n",
       "    </tr>\n",
       "  </tbody>\n",
       "</table>\n",
       "</div>"
      ],
      "text/plain": [
       "Property_Shape  IR1  IR2  IR3  Reg\n",
       "Zone_Class                        \n",
       "C (all)           2    0    0   12\n",
       "FV               20    3    0   79\n",
       "RH                3    1    0   18\n",
       "RL              638   50   13  910\n",
       "RM               35    6    2  281"
      ]
     },
     "execution_count": 26,
     "metadata": {},
     "output_type": "execute_result"
    }
   ],
   "source": [
    "chi2_sq_test(train['Zone_Class'], train['Property_Shape'])"
   ]
  },
  {
   "cell_type": "code",
   "execution_count": 27,
   "id": "f904025c",
   "metadata": {},
   "outputs": [
    {
     "name": "stdout",
     "output_type": "stream",
     "text": [
      "Accept the alternative hypothesis  0.0\n"
     ]
    },
    {
     "data": {
      "text/html": [
       "<div>\n",
       "<style scoped>\n",
       "    .dataframe tbody tr th:only-of-type {\n",
       "        vertical-align: middle;\n",
       "    }\n",
       "\n",
       "    .dataframe tbody tr th {\n",
       "        vertical-align: top;\n",
       "    }\n",
       "\n",
       "    .dataframe thead th {\n",
       "        text-align: right;\n",
       "    }\n",
       "</style>\n",
       "<table border=\"1\" class=\"dataframe\">\n",
       "  <thead>\n",
       "    <tr style=\"text-align: right;\">\n",
       "      <th>Property_Shape</th>\n",
       "      <th>IR1</th>\n",
       "      <th>IR2</th>\n",
       "      <th>IR3</th>\n",
       "      <th>Reg</th>\n",
       "    </tr>\n",
       "    <tr>\n",
       "      <th>Road_Type</th>\n",
       "      <th></th>\n",
       "      <th></th>\n",
       "      <th></th>\n",
       "      <th></th>\n",
       "    </tr>\n",
       "  </thead>\n",
       "  <tbody>\n",
       "    <tr>\n",
       "      <th>Grvl</th>\n",
       "      <td>1</td>\n",
       "      <td>4</td>\n",
       "      <td>0</td>\n",
       "      <td>5</td>\n",
       "    </tr>\n",
       "    <tr>\n",
       "      <th>Pave</th>\n",
       "      <td>697</td>\n",
       "      <td>56</td>\n",
       "      <td>15</td>\n",
       "      <td>1295</td>\n",
       "    </tr>\n",
       "  </tbody>\n",
       "</table>\n",
       "</div>"
      ],
      "text/plain": [
       "Property_Shape  IR1  IR2  IR3   Reg\n",
       "Road_Type                          \n",
       "Grvl              1    4    0     5\n",
       "Pave            697   56   15  1295"
      ]
     },
     "execution_count": 27,
     "metadata": {},
     "output_type": "execute_result"
    }
   ],
   "source": [
    "chi2_sq_test(train['Road_Type'], train['Property_Shape'])"
   ]
  },
  {
   "cell_type": "code",
   "execution_count": 28,
   "id": "914e3bfe",
   "metadata": {},
   "outputs": [
    {
     "name": "stdout",
     "output_type": "stream",
     "text": [
      "Accept the alternative hypothesis  0.0\n"
     ]
    },
    {
     "data": {
      "text/html": [
       "<div>\n",
       "<style scoped>\n",
       "    .dataframe tbody tr th:only-of-type {\n",
       "        vertical-align: middle;\n",
       "    }\n",
       "\n",
       "    .dataframe tbody tr th {\n",
       "        vertical-align: top;\n",
       "    }\n",
       "\n",
       "    .dataframe thead th {\n",
       "        text-align: right;\n",
       "    }\n",
       "</style>\n",
       "<table border=\"1\" class=\"dataframe\">\n",
       "  <thead>\n",
       "    <tr style=\"text-align: right;\">\n",
       "      <th>Property_Shape</th>\n",
       "      <th>IR1</th>\n",
       "      <th>IR2</th>\n",
       "      <th>IR3</th>\n",
       "      <th>Reg</th>\n",
       "    </tr>\n",
       "    <tr>\n",
       "      <th>LotConfig</th>\n",
       "      <th></th>\n",
       "      <th></th>\n",
       "      <th></th>\n",
       "      <th></th>\n",
       "    </tr>\n",
       "  </thead>\n",
       "  <tbody>\n",
       "    <tr>\n",
       "      <th>Corner</th>\n",
       "      <td>160</td>\n",
       "      <td>16</td>\n",
       "      <td>2</td>\n",
       "      <td>208</td>\n",
       "    </tr>\n",
       "    <tr>\n",
       "      <th>CulDSac</th>\n",
       "      <td>114</td>\n",
       "      <td>17</td>\n",
       "      <td>2</td>\n",
       "      <td>4</td>\n",
       "    </tr>\n",
       "    <tr>\n",
       "      <th>FR2</th>\n",
       "      <td>18</td>\n",
       "      <td>6</td>\n",
       "      <td>0</td>\n",
       "      <td>41</td>\n",
       "    </tr>\n",
       "    <tr>\n",
       "      <th>FR3</th>\n",
       "      <td>1</td>\n",
       "      <td>0</td>\n",
       "      <td>0</td>\n",
       "      <td>3</td>\n",
       "    </tr>\n",
       "    <tr>\n",
       "      <th>Inside</th>\n",
       "      <td>405</td>\n",
       "      <td>21</td>\n",
       "      <td>11</td>\n",
       "      <td>1044</td>\n",
       "    </tr>\n",
       "  </tbody>\n",
       "</table>\n",
       "</div>"
      ],
      "text/plain": [
       "Property_Shape  IR1  IR2  IR3   Reg\n",
       "LotConfig                          \n",
       "Corner          160   16    2   208\n",
       "CulDSac         114   17    2     4\n",
       "FR2              18    6    0    41\n",
       "FR3               1    0    0     3\n",
       "Inside          405   21   11  1044"
      ]
     },
     "execution_count": 28,
     "metadata": {},
     "output_type": "execute_result"
    }
   ],
   "source": [
    "chi2_sq_test(train['LotConfig'], train['Property_Shape'])"
   ]
  },
  {
   "cell_type": "code",
   "execution_count": 29,
   "id": "1957587b",
   "metadata": {
    "scrolled": false
   },
   "outputs": [
    {
     "name": "stdout",
     "output_type": "stream",
     "text": [
      "Accept the alternative hypothesis  0.0\n"
     ]
    },
    {
     "data": {
      "text/html": [
       "<div>\n",
       "<style scoped>\n",
       "    .dataframe tbody tr th:only-of-type {\n",
       "        vertical-align: middle;\n",
       "    }\n",
       "\n",
       "    .dataframe tbody tr th {\n",
       "        vertical-align: top;\n",
       "    }\n",
       "\n",
       "    .dataframe thead th {\n",
       "        text-align: right;\n",
       "    }\n",
       "</style>\n",
       "<table border=\"1\" class=\"dataframe\">\n",
       "  <thead>\n",
       "    <tr style=\"text-align: right;\">\n",
       "      <th>Exterior2nd</th>\n",
       "      <th>AsbShng</th>\n",
       "      <th>AsphShn</th>\n",
       "      <th>Brk Cmn</th>\n",
       "      <th>BrkFace</th>\n",
       "      <th>CBlock</th>\n",
       "      <th>CmentBd</th>\n",
       "      <th>HdBoard</th>\n",
       "      <th>ImStucc</th>\n",
       "      <th>MetalSd</th>\n",
       "      <th>Other</th>\n",
       "      <th>Plywood</th>\n",
       "      <th>Stone</th>\n",
       "      <th>Stucco</th>\n",
       "      <th>VinylSd</th>\n",
       "      <th>Wd Sdng</th>\n",
       "      <th>Wd Shng</th>\n",
       "    </tr>\n",
       "    <tr>\n",
       "      <th>Exterior1st</th>\n",
       "      <th></th>\n",
       "      <th></th>\n",
       "      <th></th>\n",
       "      <th></th>\n",
       "      <th></th>\n",
       "      <th></th>\n",
       "      <th></th>\n",
       "      <th></th>\n",
       "      <th></th>\n",
       "      <th></th>\n",
       "      <th></th>\n",
       "      <th></th>\n",
       "      <th></th>\n",
       "      <th></th>\n",
       "      <th></th>\n",
       "      <th></th>\n",
       "    </tr>\n",
       "  </thead>\n",
       "  <tbody>\n",
       "    <tr>\n",
       "      <th>AsbShng</th>\n",
       "      <td>21</td>\n",
       "      <td>0</td>\n",
       "      <td>0</td>\n",
       "      <td>0</td>\n",
       "      <td>0</td>\n",
       "      <td>0</td>\n",
       "      <td>0</td>\n",
       "      <td>0</td>\n",
       "      <td>0</td>\n",
       "      <td>0</td>\n",
       "      <td>2</td>\n",
       "      <td>0</td>\n",
       "      <td>1</td>\n",
       "      <td>0</td>\n",
       "      <td>0</td>\n",
       "      <td>0</td>\n",
       "    </tr>\n",
       "    <tr>\n",
       "      <th>AsphShn</th>\n",
       "      <td>0</td>\n",
       "      <td>2</td>\n",
       "      <td>0</td>\n",
       "      <td>0</td>\n",
       "      <td>0</td>\n",
       "      <td>0</td>\n",
       "      <td>0</td>\n",
       "      <td>0</td>\n",
       "      <td>0</td>\n",
       "      <td>0</td>\n",
       "      <td>0</td>\n",
       "      <td>0</td>\n",
       "      <td>0</td>\n",
       "      <td>0</td>\n",
       "      <td>0</td>\n",
       "      <td>0</td>\n",
       "    </tr>\n",
       "    <tr>\n",
       "      <th>BrkComm</th>\n",
       "      <td>0</td>\n",
       "      <td>0</td>\n",
       "      <td>3</td>\n",
       "      <td>0</td>\n",
       "      <td>0</td>\n",
       "      <td>0</td>\n",
       "      <td>0</td>\n",
       "      <td>0</td>\n",
       "      <td>0</td>\n",
       "      <td>0</td>\n",
       "      <td>0</td>\n",
       "      <td>0</td>\n",
       "      <td>0</td>\n",
       "      <td>0</td>\n",
       "      <td>0</td>\n",
       "      <td>0</td>\n",
       "    </tr>\n",
       "    <tr>\n",
       "      <th>BrkFace</th>\n",
       "      <td>1</td>\n",
       "      <td>0</td>\n",
       "      <td>0</td>\n",
       "      <td>34</td>\n",
       "      <td>0</td>\n",
       "      <td>0</td>\n",
       "      <td>5</td>\n",
       "      <td>0</td>\n",
       "      <td>0</td>\n",
       "      <td>0</td>\n",
       "      <td>7</td>\n",
       "      <td>5</td>\n",
       "      <td>1</td>\n",
       "      <td>0</td>\n",
       "      <td>18</td>\n",
       "      <td>1</td>\n",
       "    </tr>\n",
       "    <tr>\n",
       "      <th>CBlock</th>\n",
       "      <td>0</td>\n",
       "      <td>0</td>\n",
       "      <td>0</td>\n",
       "      <td>0</td>\n",
       "      <td>1</td>\n",
       "      <td>0</td>\n",
       "      <td>0</td>\n",
       "      <td>0</td>\n",
       "      <td>0</td>\n",
       "      <td>0</td>\n",
       "      <td>0</td>\n",
       "      <td>0</td>\n",
       "      <td>0</td>\n",
       "      <td>0</td>\n",
       "      <td>0</td>\n",
       "      <td>0</td>\n",
       "    </tr>\n",
       "    <tr>\n",
       "      <th>CemntBd</th>\n",
       "      <td>0</td>\n",
       "      <td>0</td>\n",
       "      <td>0</td>\n",
       "      <td>0</td>\n",
       "      <td>0</td>\n",
       "      <td>84</td>\n",
       "      <td>0</td>\n",
       "      <td>0</td>\n",
       "      <td>0</td>\n",
       "      <td>0</td>\n",
       "      <td>0</td>\n",
       "      <td>0</td>\n",
       "      <td>0</td>\n",
       "      <td>0</td>\n",
       "      <td>1</td>\n",
       "      <td>2</td>\n",
       "    </tr>\n",
       "    <tr>\n",
       "      <th>HdBoard</th>\n",
       "      <td>0</td>\n",
       "      <td>1</td>\n",
       "      <td>0</td>\n",
       "      <td>0</td>\n",
       "      <td>0</td>\n",
       "      <td>0</td>\n",
       "      <td>269</td>\n",
       "      <td>2</td>\n",
       "      <td>1</td>\n",
       "      <td>0</td>\n",
       "      <td>36</td>\n",
       "      <td>0</td>\n",
       "      <td>0</td>\n",
       "      <td>0</td>\n",
       "      <td>3</td>\n",
       "      <td>4</td>\n",
       "    </tr>\n",
       "    <tr>\n",
       "      <th>ImStucc</th>\n",
       "      <td>0</td>\n",
       "      <td>0</td>\n",
       "      <td>0</td>\n",
       "      <td>0</td>\n",
       "      <td>0</td>\n",
       "      <td>0</td>\n",
       "      <td>0</td>\n",
       "      <td>1</td>\n",
       "      <td>0</td>\n",
       "      <td>0</td>\n",
       "      <td>0</td>\n",
       "      <td>0</td>\n",
       "      <td>0</td>\n",
       "      <td>0</td>\n",
       "      <td>0</td>\n",
       "      <td>0</td>\n",
       "    </tr>\n",
       "    <tr>\n",
       "      <th>MetalSd</th>\n",
       "      <td>0</td>\n",
       "      <td>1</td>\n",
       "      <td>0</td>\n",
       "      <td>0</td>\n",
       "      <td>0</td>\n",
       "      <td>0</td>\n",
       "      <td>5</td>\n",
       "      <td>0</td>\n",
       "      <td>297</td>\n",
       "      <td>0</td>\n",
       "      <td>0</td>\n",
       "      <td>0</td>\n",
       "      <td>2</td>\n",
       "      <td>0</td>\n",
       "      <td>2</td>\n",
       "      <td>1</td>\n",
       "    </tr>\n",
       "    <tr>\n",
       "      <th>Plywood</th>\n",
       "      <td>0</td>\n",
       "      <td>0</td>\n",
       "      <td>8</td>\n",
       "      <td>0</td>\n",
       "      <td>0</td>\n",
       "      <td>0</td>\n",
       "      <td>2</td>\n",
       "      <td>4</td>\n",
       "      <td>0</td>\n",
       "      <td>0</td>\n",
       "      <td>140</td>\n",
       "      <td>0</td>\n",
       "      <td>0</td>\n",
       "      <td>0</td>\n",
       "      <td>2</td>\n",
       "      <td>0</td>\n",
       "    </tr>\n",
       "    <tr>\n",
       "      <th>Stone</th>\n",
       "      <td>0</td>\n",
       "      <td>0</td>\n",
       "      <td>0</td>\n",
       "      <td>0</td>\n",
       "      <td>0</td>\n",
       "      <td>0</td>\n",
       "      <td>2</td>\n",
       "      <td>0</td>\n",
       "      <td>0</td>\n",
       "      <td>0</td>\n",
       "      <td>0</td>\n",
       "      <td>1</td>\n",
       "      <td>0</td>\n",
       "      <td>0</td>\n",
       "      <td>0</td>\n",
       "      <td>0</td>\n",
       "    </tr>\n",
       "    <tr>\n",
       "      <th>Stucco</th>\n",
       "      <td>0</td>\n",
       "      <td>0</td>\n",
       "      <td>0</td>\n",
       "      <td>0</td>\n",
       "      <td>0</td>\n",
       "      <td>1</td>\n",
       "      <td>0</td>\n",
       "      <td>0</td>\n",
       "      <td>0</td>\n",
       "      <td>0</td>\n",
       "      <td>0</td>\n",
       "      <td>2</td>\n",
       "      <td>22</td>\n",
       "      <td>0</td>\n",
       "      <td>0</td>\n",
       "      <td>3</td>\n",
       "    </tr>\n",
       "    <tr>\n",
       "      <th>VinylSd</th>\n",
       "      <td>4</td>\n",
       "      <td>0</td>\n",
       "      <td>0</td>\n",
       "      <td>0</td>\n",
       "      <td>0</td>\n",
       "      <td>0</td>\n",
       "      <td>4</td>\n",
       "      <td>3</td>\n",
       "      <td>0</td>\n",
       "      <td>1</td>\n",
       "      <td>2</td>\n",
       "      <td>0</td>\n",
       "      <td>1</td>\n",
       "      <td>726</td>\n",
       "      <td>2</td>\n",
       "      <td>7</td>\n",
       "    </tr>\n",
       "    <tr>\n",
       "      <th>Wd Sdng</th>\n",
       "      <td>1</td>\n",
       "      <td>0</td>\n",
       "      <td>0</td>\n",
       "      <td>1</td>\n",
       "      <td>0</td>\n",
       "      <td>0</td>\n",
       "      <td>2</td>\n",
       "      <td>4</td>\n",
       "      <td>1</td>\n",
       "      <td>0</td>\n",
       "      <td>12</td>\n",
       "      <td>1</td>\n",
       "      <td>1</td>\n",
       "      <td>3</td>\n",
       "      <td>248</td>\n",
       "      <td>11</td>\n",
       "    </tr>\n",
       "    <tr>\n",
       "      <th>WdShing</th>\n",
       "      <td>0</td>\n",
       "      <td>0</td>\n",
       "      <td>0</td>\n",
       "      <td>0</td>\n",
       "      <td>0</td>\n",
       "      <td>0</td>\n",
       "      <td>3</td>\n",
       "      <td>0</td>\n",
       "      <td>0</td>\n",
       "      <td>0</td>\n",
       "      <td>6</td>\n",
       "      <td>0</td>\n",
       "      <td>1</td>\n",
       "      <td>0</td>\n",
       "      <td>1</td>\n",
       "      <td>26</td>\n",
       "    </tr>\n",
       "  </tbody>\n",
       "</table>\n",
       "</div>"
      ],
      "text/plain": [
       "Exterior2nd  AsbShng  AsphShn  Brk Cmn  BrkFace  CBlock  CmentBd  HdBoard  \\\n",
       "Exterior1st                                                                 \n",
       "AsbShng           21        0        0        0       0        0        0   \n",
       "AsphShn            0        2        0        0       0        0        0   \n",
       "BrkComm            0        0        3        0       0        0        0   \n",
       "BrkFace            1        0        0       34       0        0        5   \n",
       "CBlock             0        0        0        0       1        0        0   \n",
       "CemntBd            0        0        0        0       0       84        0   \n",
       "HdBoard            0        1        0        0       0        0      269   \n",
       "ImStucc            0        0        0        0       0        0        0   \n",
       "MetalSd            0        1        0        0       0        0        5   \n",
       "Plywood            0        0        8        0       0        0        2   \n",
       "Stone              0        0        0        0       0        0        2   \n",
       "Stucco             0        0        0        0       0        1        0   \n",
       "VinylSd            4        0        0        0       0        0        4   \n",
       "Wd Sdng            1        0        0        1       0        0        2   \n",
       "WdShing            0        0        0        0       0        0        3   \n",
       "\n",
       "Exterior2nd  ImStucc  MetalSd  Other  Plywood  Stone  Stucco  VinylSd  \\\n",
       "Exterior1st                                                             \n",
       "AsbShng            0        0      0        2      0       1        0   \n",
       "AsphShn            0        0      0        0      0       0        0   \n",
       "BrkComm            0        0      0        0      0       0        0   \n",
       "BrkFace            0        0      0        7      5       1        0   \n",
       "CBlock             0        0      0        0      0       0        0   \n",
       "CemntBd            0        0      0        0      0       0        0   \n",
       "HdBoard            2        1      0       36      0       0        0   \n",
       "ImStucc            1        0      0        0      0       0        0   \n",
       "MetalSd            0      297      0        0      0       2        0   \n",
       "Plywood            4        0      0      140      0       0        0   \n",
       "Stone              0        0      0        0      1       0        0   \n",
       "Stucco             0        0      0        0      2      22        0   \n",
       "VinylSd            3        0      1        2      0       1      726   \n",
       "Wd Sdng            4        1      0       12      1       1        3   \n",
       "WdShing            0        0      0        6      0       1        0   \n",
       "\n",
       "Exterior2nd  Wd Sdng  Wd Shng  \n",
       "Exterior1st                    \n",
       "AsbShng            0        0  \n",
       "AsphShn            0        0  \n",
       "BrkComm            0        0  \n",
       "BrkFace           18        1  \n",
       "CBlock             0        0  \n",
       "CemntBd            1        2  \n",
       "HdBoard            3        4  \n",
       "ImStucc            0        0  \n",
       "MetalSd            2        1  \n",
       "Plywood            2        0  \n",
       "Stone              0        0  \n",
       "Stucco             0        3  \n",
       "VinylSd            2        7  \n",
       "Wd Sdng          248       11  \n",
       "WdShing            1       26  "
      ]
     },
     "execution_count": 29,
     "metadata": {},
     "output_type": "execute_result"
    }
   ],
   "source": [
    "chi2_sq_test(train['Exterior1st'], train['Exterior2nd'])"
   ]
  },
  {
   "cell_type": "code",
   "execution_count": 30,
   "id": "c5b89edd",
   "metadata": {},
   "outputs": [
    {
     "name": "stdout",
     "output_type": "stream",
     "text": [
      "Accept the alternative hypothesis  0.0\n"
     ]
    },
    {
     "data": {
      "text/html": [
       "<div>\n",
       "<style scoped>\n",
       "    .dataframe tbody tr th:only-of-type {\n",
       "        vertical-align: middle;\n",
       "    }\n",
       "\n",
       "    .dataframe tbody tr th {\n",
       "        vertical-align: top;\n",
       "    }\n",
       "\n",
       "    .dataframe thead th {\n",
       "        text-align: right;\n",
       "    }\n",
       "</style>\n",
       "<table border=\"1\" class=\"dataframe\">\n",
       "  <thead>\n",
       "    <tr style=\"text-align: right;\">\n",
       "      <th>Property_Shape</th>\n",
       "      <th>IR1</th>\n",
       "      <th>IR2</th>\n",
       "      <th>IR3</th>\n",
       "      <th>Reg</th>\n",
       "    </tr>\n",
       "    <tr>\n",
       "      <th>LandSlope</th>\n",
       "      <th></th>\n",
       "      <th></th>\n",
       "      <th></th>\n",
       "      <th></th>\n",
       "    </tr>\n",
       "  </thead>\n",
       "  <tbody>\n",
       "    <tr>\n",
       "      <th>Gtl</th>\n",
       "      <td>646</td>\n",
       "      <td>46</td>\n",
       "      <td>14</td>\n",
       "      <td>1252</td>\n",
       "    </tr>\n",
       "    <tr>\n",
       "      <th>Mod</th>\n",
       "      <td>44</td>\n",
       "      <td>11</td>\n",
       "      <td>0</td>\n",
       "      <td>46</td>\n",
       "    </tr>\n",
       "    <tr>\n",
       "      <th>Sev</th>\n",
       "      <td>8</td>\n",
       "      <td>3</td>\n",
       "      <td>1</td>\n",
       "      <td>2</td>\n",
       "    </tr>\n",
       "  </tbody>\n",
       "</table>\n",
       "</div>"
      ],
      "text/plain": [
       "Property_Shape  IR1  IR2  IR3   Reg\n",
       "LandSlope                          \n",
       "Gtl             646   46   14  1252\n",
       "Mod              44   11    0    46\n",
       "Sev               8    3    1     2"
      ]
     },
     "execution_count": 30,
     "metadata": {},
     "output_type": "execute_result"
    }
   ],
   "source": [
    "chi2_sq_test(train['LandSlope'], train['Property_Shape'])"
   ]
  },
  {
   "cell_type": "code",
   "execution_count": 31,
   "id": "28dae46d",
   "metadata": {},
   "outputs": [
    {
     "name": "stdout",
     "output_type": "stream",
     "text": [
      "Accept the alternative hypothesis  0.0\n"
     ]
    },
    {
     "data": {
      "text/html": [
       "<div>\n",
       "<style scoped>\n",
       "    .dataframe tbody tr th:only-of-type {\n",
       "        vertical-align: middle;\n",
       "    }\n",
       "\n",
       "    .dataframe tbody tr th {\n",
       "        vertical-align: top;\n",
       "    }\n",
       "\n",
       "    .dataframe thead th {\n",
       "        text-align: right;\n",
       "    }\n",
       "</style>\n",
       "<table border=\"1\" class=\"dataframe\">\n",
       "  <thead>\n",
       "    <tr style=\"text-align: right;\">\n",
       "      <th>Property_Shape</th>\n",
       "      <th>IR1</th>\n",
       "      <th>IR2</th>\n",
       "      <th>IR3</th>\n",
       "      <th>Reg</th>\n",
       "    </tr>\n",
       "    <tr>\n",
       "      <th>Neighborhood</th>\n",
       "      <th></th>\n",
       "      <th></th>\n",
       "      <th></th>\n",
       "      <th></th>\n",
       "    </tr>\n",
       "  </thead>\n",
       "  <tbody>\n",
       "    <tr>\n",
       "      <th>Blmngtn</th>\n",
       "      <td>0</td>\n",
       "      <td>0</td>\n",
       "      <td>0</td>\n",
       "      <td>27</td>\n",
       "    </tr>\n",
       "    <tr>\n",
       "      <th>Blueste</th>\n",
       "      <td>0</td>\n",
       "      <td>0</td>\n",
       "      <td>0</td>\n",
       "      <td>3</td>\n",
       "    </tr>\n",
       "    <tr>\n",
       "      <th>BrDale</th>\n",
       "      <td>0</td>\n",
       "      <td>0</td>\n",
       "      <td>0</td>\n",
       "      <td>17</td>\n",
       "    </tr>\n",
       "    <tr>\n",
       "      <th>BrkSide</th>\n",
       "      <td>25</td>\n",
       "      <td>0</td>\n",
       "      <td>0</td>\n",
       "      <td>55</td>\n",
       "    </tr>\n",
       "    <tr>\n",
       "      <th>ClearCr</th>\n",
       "      <td>15</td>\n",
       "      <td>5</td>\n",
       "      <td>0</td>\n",
       "      <td>13</td>\n",
       "    </tr>\n",
       "    <tr>\n",
       "      <th>CollgCr</th>\n",
       "      <td>75</td>\n",
       "      <td>14</td>\n",
       "      <td>1</td>\n",
       "      <td>127</td>\n",
       "    </tr>\n",
       "    <tr>\n",
       "      <th>Crawfor</th>\n",
       "      <td>38</td>\n",
       "      <td>0</td>\n",
       "      <td>0</td>\n",
       "      <td>34</td>\n",
       "    </tr>\n",
       "    <tr>\n",
       "      <th>Edwards</th>\n",
       "      <td>25</td>\n",
       "      <td>0</td>\n",
       "      <td>1</td>\n",
       "      <td>112</td>\n",
       "    </tr>\n",
       "    <tr>\n",
       "      <th>Gilbert</th>\n",
       "      <td>69</td>\n",
       "      <td>15</td>\n",
       "      <td>8</td>\n",
       "      <td>27</td>\n",
       "    </tr>\n",
       "    <tr>\n",
       "      <th>IDOTRR</th>\n",
       "      <td>3</td>\n",
       "      <td>4</td>\n",
       "      <td>0</td>\n",
       "      <td>44</td>\n",
       "    </tr>\n",
       "    <tr>\n",
       "      <th>MeadowV</th>\n",
       "      <td>0</td>\n",
       "      <td>0</td>\n",
       "      <td>0</td>\n",
       "      <td>24</td>\n",
       "    </tr>\n",
       "    <tr>\n",
       "      <th>Mitchel</th>\n",
       "      <td>36</td>\n",
       "      <td>0</td>\n",
       "      <td>0</td>\n",
       "      <td>42</td>\n",
       "    </tr>\n",
       "    <tr>\n",
       "      <th>NAmes</th>\n",
       "      <td>87</td>\n",
       "      <td>3</td>\n",
       "      <td>2</td>\n",
       "      <td>225</td>\n",
       "    </tr>\n",
       "    <tr>\n",
       "      <th>NPkVill</th>\n",
       "      <td>6</td>\n",
       "      <td>0</td>\n",
       "      <td>0</td>\n",
       "      <td>11</td>\n",
       "    </tr>\n",
       "    <tr>\n",
       "      <th>NWAmes</th>\n",
       "      <td>46</td>\n",
       "      <td>1</td>\n",
       "      <td>0</td>\n",
       "      <td>58</td>\n",
       "    </tr>\n",
       "    <tr>\n",
       "      <th>NoRidge</th>\n",
       "      <td>45</td>\n",
       "      <td>4</td>\n",
       "      <td>0</td>\n",
       "      <td>16</td>\n",
       "    </tr>\n",
       "    <tr>\n",
       "      <th>NridgHt</th>\n",
       "      <td>42</td>\n",
       "      <td>1</td>\n",
       "      <td>0</td>\n",
       "      <td>56</td>\n",
       "    </tr>\n",
       "    <tr>\n",
       "      <th>OldTown</th>\n",
       "      <td>12</td>\n",
       "      <td>1</td>\n",
       "      <td>1</td>\n",
       "      <td>142</td>\n",
       "    </tr>\n",
       "    <tr>\n",
       "      <th>SWISU</th>\n",
       "      <td>1</td>\n",
       "      <td>1</td>\n",
       "      <td>0</td>\n",
       "      <td>29</td>\n",
       "    </tr>\n",
       "    <tr>\n",
       "      <th>Sawyer</th>\n",
       "      <td>44</td>\n",
       "      <td>1</td>\n",
       "      <td>0</td>\n",
       "      <td>63</td>\n",
       "    </tr>\n",
       "    <tr>\n",
       "      <th>SawyerW</th>\n",
       "      <td>29</td>\n",
       "      <td>1</td>\n",
       "      <td>1</td>\n",
       "      <td>62</td>\n",
       "    </tr>\n",
       "    <tr>\n",
       "      <th>Somerst</th>\n",
       "      <td>30</td>\n",
       "      <td>4</td>\n",
       "      <td>0</td>\n",
       "      <td>89</td>\n",
       "    </tr>\n",
       "    <tr>\n",
       "      <th>StoneBr</th>\n",
       "      <td>22</td>\n",
       "      <td>3</td>\n",
       "      <td>0</td>\n",
       "      <td>7</td>\n",
       "    </tr>\n",
       "    <tr>\n",
       "      <th>Timber</th>\n",
       "      <td>36</td>\n",
       "      <td>1</td>\n",
       "      <td>1</td>\n",
       "      <td>15</td>\n",
       "    </tr>\n",
       "    <tr>\n",
       "      <th>Veenker</th>\n",
       "      <td>12</td>\n",
       "      <td>1</td>\n",
       "      <td>0</td>\n",
       "      <td>2</td>\n",
       "    </tr>\n",
       "  </tbody>\n",
       "</table>\n",
       "</div>"
      ],
      "text/plain": [
       "Property_Shape  IR1  IR2  IR3  Reg\n",
       "Neighborhood                      \n",
       "Blmngtn           0    0    0   27\n",
       "Blueste           0    0    0    3\n",
       "BrDale            0    0    0   17\n",
       "BrkSide          25    0    0   55\n",
       "ClearCr          15    5    0   13\n",
       "CollgCr          75   14    1  127\n",
       "Crawfor          38    0    0   34\n",
       "Edwards          25    0    1  112\n",
       "Gilbert          69   15    8   27\n",
       "IDOTRR            3    4    0   44\n",
       "MeadowV           0    0    0   24\n",
       "Mitchel          36    0    0   42\n",
       "NAmes            87    3    2  225\n",
       "NPkVill           6    0    0   11\n",
       "NWAmes           46    1    0   58\n",
       "NoRidge          45    4    0   16\n",
       "NridgHt          42    1    0   56\n",
       "OldTown          12    1    1  142\n",
       "SWISU             1    1    0   29\n",
       "Sawyer           44    1    0   63\n",
       "SawyerW          29    1    1   62\n",
       "Somerst          30    4    0   89\n",
       "StoneBr          22    3    0    7\n",
       "Timber           36    1    1   15\n",
       "Veenker          12    1    0    2"
      ]
     },
     "execution_count": 31,
     "metadata": {},
     "output_type": "execute_result"
    }
   ],
   "source": [
    "chi2_sq_test(train['Neighborhood'], train['Property_Shape'])"
   ]
  },
  {
   "cell_type": "code",
   "execution_count": 32,
   "id": "bb14c736",
   "metadata": {},
   "outputs": [
    {
     "name": "stdout",
     "output_type": "stream",
     "text": [
      "Accept the alternative hypothesis  0.0\n"
     ]
    },
    {
     "data": {
      "text/html": [
       "<div>\n",
       "<style scoped>\n",
       "    .dataframe tbody tr th:only-of-type {\n",
       "        vertical-align: middle;\n",
       "    }\n",
       "\n",
       "    .dataframe tbody tr th {\n",
       "        vertical-align: top;\n",
       "    }\n",
       "\n",
       "    .dataframe thead th {\n",
       "        text-align: right;\n",
       "    }\n",
       "</style>\n",
       "<table border=\"1\" class=\"dataframe\">\n",
       "  <thead>\n",
       "    <tr style=\"text-align: right;\">\n",
       "      <th>RoofMatl</th>\n",
       "      <th>ClyTile</th>\n",
       "      <th>CompShg</th>\n",
       "      <th>Membran</th>\n",
       "      <th>Metal</th>\n",
       "      <th>Roll</th>\n",
       "      <th>Tar&amp;Grv</th>\n",
       "      <th>WdShake</th>\n",
       "      <th>WdShngl</th>\n",
       "    </tr>\n",
       "    <tr>\n",
       "      <th>RoofStyle</th>\n",
       "      <th></th>\n",
       "      <th></th>\n",
       "      <th></th>\n",
       "      <th></th>\n",
       "      <th></th>\n",
       "      <th></th>\n",
       "      <th></th>\n",
       "      <th></th>\n",
       "    </tr>\n",
       "  </thead>\n",
       "  <tbody>\n",
       "    <tr>\n",
       "      <th>Flat</th>\n",
       "      <td>0</td>\n",
       "      <td>1</td>\n",
       "      <td>1</td>\n",
       "      <td>1</td>\n",
       "      <td>0</td>\n",
       "      <td>16</td>\n",
       "      <td>0</td>\n",
       "      <td>0</td>\n",
       "    </tr>\n",
       "    <tr>\n",
       "      <th>Gable</th>\n",
       "      <td>0</td>\n",
       "      <td>1596</td>\n",
       "      <td>0</td>\n",
       "      <td>0</td>\n",
       "      <td>1</td>\n",
       "      <td>1</td>\n",
       "      <td>0</td>\n",
       "      <td>8</td>\n",
       "    </tr>\n",
       "    <tr>\n",
       "      <th>Gambrel</th>\n",
       "      <td>0</td>\n",
       "      <td>15</td>\n",
       "      <td>0</td>\n",
       "      <td>0</td>\n",
       "      <td>0</td>\n",
       "      <td>0</td>\n",
       "      <td>0</td>\n",
       "      <td>0</td>\n",
       "    </tr>\n",
       "    <tr>\n",
       "      <th>Hip</th>\n",
       "      <td>1</td>\n",
       "      <td>414</td>\n",
       "      <td>0</td>\n",
       "      <td>0</td>\n",
       "      <td>0</td>\n",
       "      <td>0</td>\n",
       "      <td>3</td>\n",
       "      <td>2</td>\n",
       "    </tr>\n",
       "    <tr>\n",
       "      <th>Mansard</th>\n",
       "      <td>0</td>\n",
       "      <td>9</td>\n",
       "      <td>0</td>\n",
       "      <td>0</td>\n",
       "      <td>0</td>\n",
       "      <td>0</td>\n",
       "      <td>2</td>\n",
       "      <td>0</td>\n",
       "    </tr>\n",
       "    <tr>\n",
       "      <th>Shed</th>\n",
       "      <td>0</td>\n",
       "      <td>1</td>\n",
       "      <td>0</td>\n",
       "      <td>0</td>\n",
       "      <td>0</td>\n",
       "      <td>0</td>\n",
       "      <td>1</td>\n",
       "      <td>0</td>\n",
       "    </tr>\n",
       "  </tbody>\n",
       "</table>\n",
       "</div>"
      ],
      "text/plain": [
       "RoofMatl   ClyTile  CompShg  Membran  Metal  Roll  Tar&Grv  WdShake  WdShngl\n",
       "RoofStyle                                                                   \n",
       "Flat             0        1        1      1     0       16        0        0\n",
       "Gable            0     1596        0      0     1        1        0        8\n",
       "Gambrel          0       15        0      0     0        0        0        0\n",
       "Hip              1      414        0      0     0        0        3        2\n",
       "Mansard          0        9        0      0     0        0        2        0\n",
       "Shed             0        1        0      0     0        0        1        0"
      ]
     },
     "execution_count": 32,
     "metadata": {},
     "output_type": "execute_result"
    }
   ],
   "source": [
    "chi2_sq_test(train['RoofStyle'], train['RoofMatl'])"
   ]
  },
  {
   "cell_type": "code",
   "execution_count": 33,
   "id": "cfedd61b",
   "metadata": {},
   "outputs": [
    {
     "name": "stdout",
     "output_type": "stream",
     "text": [
      "Don not Accept the alternative hypothesis 0.42\n"
     ]
    },
    {
     "data": {
      "text/html": [
       "<div>\n",
       "<style scoped>\n",
       "    .dataframe tbody tr th:only-of-type {\n",
       "        vertical-align: middle;\n",
       "    }\n",
       "\n",
       "    .dataframe tbody tr th {\n",
       "        vertical-align: top;\n",
       "    }\n",
       "\n",
       "    .dataframe thead th {\n",
       "        text-align: right;\n",
       "    }\n",
       "</style>\n",
       "<table border=\"1\" class=\"dataframe\">\n",
       "  <thead>\n",
       "    <tr style=\"text-align: right;\">\n",
       "      <th>Property_Shape</th>\n",
       "      <th>IR1</th>\n",
       "      <th>IR2</th>\n",
       "      <th>IR3</th>\n",
       "      <th>Reg</th>\n",
       "    </tr>\n",
       "    <tr>\n",
       "      <th>SaleCondition</th>\n",
       "      <th></th>\n",
       "      <th></th>\n",
       "      <th></th>\n",
       "      <th></th>\n",
       "    </tr>\n",
       "  </thead>\n",
       "  <tbody>\n",
       "    <tr>\n",
       "      <th>Abnorml</th>\n",
       "      <td>51</td>\n",
       "      <td>2</td>\n",
       "      <td>0</td>\n",
       "      <td>102</td>\n",
       "    </tr>\n",
       "    <tr>\n",
       "      <th>AdjLand</th>\n",
       "      <td>2</td>\n",
       "      <td>0</td>\n",
       "      <td>0</td>\n",
       "      <td>3</td>\n",
       "    </tr>\n",
       "    <tr>\n",
       "      <th>Alloca</th>\n",
       "      <td>3</td>\n",
       "      <td>0</td>\n",
       "      <td>0</td>\n",
       "      <td>16</td>\n",
       "    </tr>\n",
       "    <tr>\n",
       "      <th>Family</th>\n",
       "      <td>5</td>\n",
       "      <td>0</td>\n",
       "      <td>1</td>\n",
       "      <td>18</td>\n",
       "    </tr>\n",
       "    <tr>\n",
       "      <th>Normal</th>\n",
       "      <td>572</td>\n",
       "      <td>54</td>\n",
       "      <td>12</td>\n",
       "      <td>1057</td>\n",
       "    </tr>\n",
       "    <tr>\n",
       "      <th>Partial</th>\n",
       "      <td>65</td>\n",
       "      <td>4</td>\n",
       "      <td>2</td>\n",
       "      <td>104</td>\n",
       "    </tr>\n",
       "  </tbody>\n",
       "</table>\n",
       "</div>"
      ],
      "text/plain": [
       "Property_Shape  IR1  IR2  IR3   Reg\n",
       "SaleCondition                      \n",
       "Abnorml          51    2    0   102\n",
       "AdjLand           2    0    0     3\n",
       "Alloca            3    0    0    16\n",
       "Family            5    0    1    18\n",
       "Normal          572   54   12  1057\n",
       "Partial          65    4    2   104"
      ]
     },
     "execution_count": 33,
     "metadata": {},
     "output_type": "execute_result"
    }
   ],
   "source": [
    "chi2_sq_test(train['SaleCondition'], train['Property_Shape'])"
   ]
  },
  {
   "cell_type": "markdown",
   "id": "bda11175",
   "metadata": {},
   "source": [
    "# Bi-Variate Analysis:\n",
    "    Continous : correlation."
   ]
  },
  {
   "cell_type": "code",
   "execution_count": 34,
   "id": "29da1c40",
   "metadata": {},
   "outputs": [
    {
     "name": "stderr",
     "output_type": "stream",
     "text": [
      "C:\\Users\\DELL\\AppData\\Local\\Temp\\ipykernel_14440\\1524494364.py:1: FutureWarning: The default value of numeric_only in DataFrame.corr is deprecated. In a future version, it will default to False. Select only valid columns or specify the value of numeric_only to silence this warning.\n",
      "  sns.heatmap(train.corr())\n"
     ]
    },
    {
     "data": {
      "text/plain": [
       "<Axes: >"
      ]
     },
     "execution_count": 34,
     "metadata": {},
     "output_type": "execute_result"
    },
    {
     "data": {
      "image/png": "[encoded data removed]",
      "text/plain": [
       "<Figure size 640x480 with 2 Axes>"
      ]
     },
     "metadata": {},
     "output_type": "display_data"
    }
   ],
   "source": [
    "sns.heatmap(train.corr())"
   ]
  },
  {
   "cell_type": "code",
   "execution_count": 35,
   "id": "dcaf583b",
   "metadata": {},
   "outputs": [
    {
     "name": "stdout",
     "output_type": "stream",
     "text": [
      "<class 'pandas.core.frame.DataFrame'>\n",
      "RangeIndex: 2073 entries, 0 to 2072\n",
      "Data columns (total 81 columns):\n",
      " #   Column               Non-Null Count  Dtype  \n",
      "---  ------               --------------  -----  \n",
      " 0   Id                   2073 non-null   int64  \n",
      " 1   Dwell_Type           2073 non-null   int64  \n",
      " 2   Zone_Class           2073 non-null   object \n",
      " 3   LotFrontage          1753 non-null   float64\n",
      " 4   LotArea              2073 non-null   int64  \n",
      " 5   Road_Type            2073 non-null   object \n",
      " 6   Alley                129 non-null    object \n",
      " 7   Property_Shape       2073 non-null   object \n",
      " 8   LandContour          2073 non-null   object \n",
      " 9   Utilities            2073 non-null   object \n",
      " 10  LotConfig            2073 non-null   object \n",
      " 11  LandSlope            2073 non-null   object \n",
      " 12  Neighborhood         2073 non-null   object \n",
      " 13  Condition1           2073 non-null   object \n",
      " 14  Condition2           2073 non-null   object \n",
      " 15  Dwelling_Type        2073 non-null   object \n",
      " 16  HouseStyle           2073 non-null   object \n",
      " 17  OverallQual          2073 non-null   int64  \n",
      " 18  OverallCond          2073 non-null   int64  \n",
      " 19  YearBuilt            2073 non-null   int64  \n",
      " 20  YearRemodAdd         2073 non-null   int64  \n",
      " 21  RoofStyle            2073 non-null   object \n",
      " 22  RoofMatl             2073 non-null   object \n",
      " 23  Exterior1st          2073 non-null   object \n",
      " 24  Exterior2nd          2073 non-null   object \n",
      " 25  MasVnrType           2059 non-null   object \n",
      " 26  MasVnrArea           2059 non-null   float64\n",
      " 27  ExterQual            2073 non-null   object \n",
      " 28  ExterCond            2073 non-null   object \n",
      " 29  Foundation           2073 non-null   object \n",
      " 30  BsmtQual             2014 non-null   object \n",
      " 31  BsmtCond             2014 non-null   object \n",
      " 32  BsmtExposure         2012 non-null   object \n",
      " 33  BsmtFinType1         2014 non-null   object \n",
      " 34  BsmtFinSF1           2073 non-null   int64  \n",
      " 35  BsmtFinType2         2013 non-null   object \n",
      " 36  BsmtFinSF2           2073 non-null   int64  \n",
      " 37  BsmtUnfSF            2073 non-null   int64  \n",
      " 38  TotalBsmtSF          2073 non-null   int64  \n",
      " 39  Heating              2073 non-null   object \n",
      " 40  HeatingQC            2073 non-null   object \n",
      " 41  CentralAir           2073 non-null   object \n",
      " 42  Electrical           2072 non-null   object \n",
      " 43  1stFlrSF             2073 non-null   int64  \n",
      " 44  2ndFlrSF             2073 non-null   int64  \n",
      " 45  LowQualFinSF         2073 non-null   int64  \n",
      " 46  GrLivArea            2073 non-null   int64  \n",
      " 47  BsmtFullBath         2073 non-null   int64  \n",
      " 48  BsmtHalfBath         2073 non-null   int64  \n",
      " 49  FullBath             2073 non-null   int64  \n",
      " 50  HalfBath             2073 non-null   int64  \n",
      " 51  BedroomAbvGr         2073 non-null   int64  \n",
      " 52  KitchenAbvGr         2073 non-null   int64  \n",
      " 53  KitchenQual          2073 non-null   object \n",
      " 54  TotRmsAbvGrd         2073 non-null   int64  \n",
      " 55  Functional           2073 non-null   object \n",
      " 56  Fireplaces           2073 non-null   int64  \n",
      " 57  FireplaceQu          1085 non-null   object \n",
      " 58  GarageType           1960 non-null   object \n",
      " 59  GarageYrBlt          1960 non-null   float64\n",
      " 60  GarageFinish         1960 non-null   object \n",
      " 61  GarageCars           2073 non-null   int64  \n",
      " 62  GarageArea           2073 non-null   int64  \n",
      " 63  GarageQual           1960 non-null   object \n",
      " 64  GarageCond           1960 non-null   object \n",
      " 65  PavedDrive           2073 non-null   object \n",
      " 66  WoodDeckSF           2073 non-null   int64  \n",
      " 67  OpenPorchSF          2073 non-null   int64  \n",
      " 68  EnclosedPorch        2073 non-null   int64  \n",
      " 69  3SsnPorch            2073 non-null   int64  \n",
      " 70  ScreenPorch          2073 non-null   int64  \n",
      " 71  PoolArea             2073 non-null   int64  \n",
      " 72  PoolQC               8 non-null      object \n",
      " 73  Fence                404 non-null    object \n",
      " 74  MiscFeature          80 non-null     object \n",
      " 75  MiscVal              2073 non-null   int64  \n",
      " 76  MoSold               2073 non-null   int64  \n",
      " 77  YrSold               2073 non-null   int64  \n",
      " 78  SaleType             2073 non-null   object \n",
      " 79  SaleCondition        2073 non-null   object \n",
      " 80  Property_Sale_Price  2073 non-null   int64  \n",
      "dtypes: float64(3), int64(35), object(43)\n",
      "memory usage: 1.3+ MB\n"
     ]
    }
   ],
   "source": [
    "train.info()"
   ]
  },
  {
   "cell_type": "markdown",
   "id": "3d540aa7",
   "metadata": {},
   "source": [
    "# DATA PREPARATION:"
   ]
  },
  {
   "cell_type": "code",
   "execution_count": 40,
   "id": "6b7d665f",
   "metadata": {},
   "outputs": [],
   "source": [
    "def data_prep(data):\n",
    "#Imputation of Missing Values\n",
    "\n",
    "    data['MasVnrArea'] = np.where(data['MasVnrArea'].isna(), \n",
    "                                data['MasVnrArea'].median(skipna=True),data['MasVnrArea'])\n",
    "    data['LotFrontage'] = np.where(data['LotFrontage'].isna(), \n",
    "                                data['LotFrontage'].median(skipna=True),data['LotFrontage'])\n",
    "    data['GarageYrBlt'] = np.where(data['GarageYrBlt'].isna(), \n",
    "                                data['GarageYrBlt'].median(skipna=True),data['GarageYrBlt'])\n",
    "    \n",
    "    \n",
    "    \n",
    "    data['BsmtQual'] = np.where(data['BsmtQual'].isna(),\n",
    "                                data['BsmtQual'].mode(dropna = True)[0], data['BsmtQual'])\n",
    "    data['MasVnrType'] = np.where(data['MasVnrType'].isna(),\n",
    "                                data['MasVnrType'].mode(dropna = True)[0], data['MasVnrType'])\n",
    "    data['BsmtCond'] = np.where(data['BsmtCond'].isna(),\n",
    "                                data['BsmtCond'].mode(dropna = True)[0], data['BsmtCond'])\n",
    "    data['BsmtExposure'] = np.where(data['BsmtExposure'].isna(),\n",
    "                                data['BsmtExposure'].mode(dropna = True)[0], data['BsmtExposure'])\n",
    "    data['BsmtFinType1'] = np.where(data['BsmtFinType1'].isna(),\n",
    "                                data['BsmtFinType1'].mode(dropna = True)[0], data['BsmtFinType1'])\n",
    "    data['GarageType'] = np.where(data['GarageType'].isna(),\n",
    "                                data['GarageType'].mode(dropna = True)[0], data['GarageType'])\n",
    "    data['GarageFinish'] = np.where(data['GarageFinish'].isna(),\n",
    "                                data['GarageFinish'].mode(dropna = True)[0], data['GarageFinish'])\n",
    "    data['GarageQual'] = np.where(data['GarageQual'].isna(),\n",
    "                                data['GarageQual'].mode(dropna = True)[0], data['GarageQual'])\n",
    "    data['GarageCond'] = np.where(data['GarageCond'].isna(),\n",
    "                                data['GarageCond'].mode(dropna = True)[0], data['GarageCond'])\n",
    "    \n",
    "    \n",
    "   \n",
    "    \n",
    "    data['MasVnrArea'] = data['MasVnrArea'].astype('int')\n",
    "    data['LotFrontage'] = data['LotFrontage'].astype('int')\n",
    "    data['GarageYrBlt'] = data['GarageYrBlt'].astype('int')\n",
    "    return data"
   ]
  },
  {
   "cell_type": "code",
   "execution_count": 41,
   "id": "520288dd",
   "metadata": {},
   "outputs": [
    {
     "data": {
      "text/html": [
       "<div>\n",
       "<style scoped>\n",
       "    .dataframe tbody tr th:only-of-type {\n",
       "        vertical-align: middle;\n",
       "    }\n",
       "\n",
       "    .dataframe tbody tr th {\n",
       "        vertical-align: top;\n",
       "    }\n",
       "\n",
       "    .dataframe thead th {\n",
       "        text-align: right;\n",
       "    }\n",
       "</style>\n",
       "<table border=\"1\" class=\"dataframe\">\n",
       "  <thead>\n",
       "    <tr style=\"text-align: right;\">\n",
       "      <th></th>\n",
       "      <th>Id</th>\n",
       "      <th>Dwell_Type</th>\n",
       "      <th>Zone_Class</th>\n",
       "      <th>LotFrontage</th>\n",
       "      <th>LotArea</th>\n",
       "      <th>Road_Type</th>\n",
       "      <th>Alley</th>\n",
       "      <th>Property_Shape</th>\n",
       "      <th>LandContour</th>\n",
       "      <th>Utilities</th>\n",
       "      <th>...</th>\n",
       "      <th>PoolArea</th>\n",
       "      <th>PoolQC</th>\n",
       "      <th>Fence</th>\n",
       "      <th>MiscFeature</th>\n",
       "      <th>MiscVal</th>\n",
       "      <th>MoSold</th>\n",
       "      <th>YrSold</th>\n",
       "      <th>SaleType</th>\n",
       "      <th>SaleCondition</th>\n",
       "      <th>Property_Sale_Price</th>\n",
       "    </tr>\n",
       "  </thead>\n",
       "  <tbody>\n",
       "    <tr>\n",
       "      <th>0</th>\n",
       "      <td>1</td>\n",
       "      <td>60</td>\n",
       "      <td>RL</td>\n",
       "      <td>65</td>\n",
       "      <td>8450</td>\n",
       "      <td>Pave</td>\n",
       "      <td>NaN</td>\n",
       "      <td>Reg</td>\n",
       "      <td>Lvl</td>\n",
       "      <td>AllPub</td>\n",
       "      <td>...</td>\n",
       "      <td>0</td>\n",
       "      <td>NaN</td>\n",
       "      <td>NaN</td>\n",
       "      <td>NaN</td>\n",
       "      <td>0</td>\n",
       "      <td>2</td>\n",
       "      <td>2008</td>\n",
       "      <td>WD</td>\n",
       "      <td>Normal</td>\n",
       "      <td>208500</td>\n",
       "    </tr>\n",
       "    <tr>\n",
       "      <th>1</th>\n",
       "      <td>2</td>\n",
       "      <td>20</td>\n",
       "      <td>RL</td>\n",
       "      <td>80</td>\n",
       "      <td>9600</td>\n",
       "      <td>Pave</td>\n",
       "      <td>NaN</td>\n",
       "      <td>Reg</td>\n",
       "      <td>Lvl</td>\n",
       "      <td>AllPub</td>\n",
       "      <td>...</td>\n",
       "      <td>0</td>\n",
       "      <td>NaN</td>\n",
       "      <td>NaN</td>\n",
       "      <td>NaN</td>\n",
       "      <td>0</td>\n",
       "      <td>5</td>\n",
       "      <td>2007</td>\n",
       "      <td>WD</td>\n",
       "      <td>Normal</td>\n",
       "      <td>181500</td>\n",
       "    </tr>\n",
       "    <tr>\n",
       "      <th>2</th>\n",
       "      <td>3</td>\n",
       "      <td>60</td>\n",
       "      <td>RL</td>\n",
       "      <td>68</td>\n",
       "      <td>11250</td>\n",
       "      <td>Pave</td>\n",
       "      <td>NaN</td>\n",
       "      <td>IR1</td>\n",
       "      <td>Lvl</td>\n",
       "      <td>AllPub</td>\n",
       "      <td>...</td>\n",
       "      <td>0</td>\n",
       "      <td>NaN</td>\n",
       "      <td>NaN</td>\n",
       "      <td>NaN</td>\n",
       "      <td>0</td>\n",
       "      <td>9</td>\n",
       "      <td>2008</td>\n",
       "      <td>WD</td>\n",
       "      <td>Normal</td>\n",
       "      <td>223500</td>\n",
       "    </tr>\n",
       "    <tr>\n",
       "      <th>3</th>\n",
       "      <td>4</td>\n",
       "      <td>70</td>\n",
       "      <td>RL</td>\n",
       "      <td>60</td>\n",
       "      <td>9550</td>\n",
       "      <td>Pave</td>\n",
       "      <td>NaN</td>\n",
       "      <td>IR1</td>\n",
       "      <td>Lvl</td>\n",
       "      <td>AllPub</td>\n",
       "      <td>...</td>\n",
       "      <td>0</td>\n",
       "      <td>NaN</td>\n",
       "      <td>NaN</td>\n",
       "      <td>NaN</td>\n",
       "      <td>0</td>\n",
       "      <td>2</td>\n",
       "      <td>2006</td>\n",
       "      <td>WD</td>\n",
       "      <td>Abnorml</td>\n",
       "      <td>140000</td>\n",
       "    </tr>\n",
       "    <tr>\n",
       "      <th>4</th>\n",
       "      <td>5</td>\n",
       "      <td>60</td>\n",
       "      <td>RL</td>\n",
       "      <td>84</td>\n",
       "      <td>14260</td>\n",
       "      <td>Pave</td>\n",
       "      <td>NaN</td>\n",
       "      <td>IR1</td>\n",
       "      <td>Lvl</td>\n",
       "      <td>AllPub</td>\n",
       "      <td>...</td>\n",
       "      <td>0</td>\n",
       "      <td>NaN</td>\n",
       "      <td>NaN</td>\n",
       "      <td>NaN</td>\n",
       "      <td>0</td>\n",
       "      <td>12</td>\n",
       "      <td>2008</td>\n",
       "      <td>WD</td>\n",
       "      <td>Normal</td>\n",
       "      <td>250000</td>\n",
       "    </tr>\n",
       "    <tr>\n",
       "      <th>...</th>\n",
       "      <td>...</td>\n",
       "      <td>...</td>\n",
       "      <td>...</td>\n",
       "      <td>...</td>\n",
       "      <td>...</td>\n",
       "      <td>...</td>\n",
       "      <td>...</td>\n",
       "      <td>...</td>\n",
       "      <td>...</td>\n",
       "      <td>...</td>\n",
       "      <td>...</td>\n",
       "      <td>...</td>\n",
       "      <td>...</td>\n",
       "      <td>...</td>\n",
       "      <td>...</td>\n",
       "      <td>...</td>\n",
       "      <td>...</td>\n",
       "      <td>...</td>\n",
       "      <td>...</td>\n",
       "      <td>...</td>\n",
       "      <td>...</td>\n",
       "    </tr>\n",
       "    <tr>\n",
       "      <th>2068</th>\n",
       "      <td>942</td>\n",
       "      <td>60</td>\n",
       "      <td>RL</td>\n",
       "      <td>70</td>\n",
       "      <td>8755</td>\n",
       "      <td>Pave</td>\n",
       "      <td>NaN</td>\n",
       "      <td>IR1</td>\n",
       "      <td>Lvl</td>\n",
       "      <td>AllPub</td>\n",
       "      <td>...</td>\n",
       "      <td>0</td>\n",
       "      <td>NaN</td>\n",
       "      <td>GdPrv</td>\n",
       "      <td>NaN</td>\n",
       "      <td>0</td>\n",
       "      <td>6</td>\n",
       "      <td>2009</td>\n",
       "      <td>WD</td>\n",
       "      <td>Normal</td>\n",
       "      <td>214000</td>\n",
       "    </tr>\n",
       "    <tr>\n",
       "      <th>2069</th>\n",
       "      <td>943</td>\n",
       "      <td>90</td>\n",
       "      <td>RL</td>\n",
       "      <td>63</td>\n",
       "      <td>7711</td>\n",
       "      <td>Pave</td>\n",
       "      <td>NaN</td>\n",
       "      <td>IR1</td>\n",
       "      <td>Lvl</td>\n",
       "      <td>AllPub</td>\n",
       "      <td>...</td>\n",
       "      <td>0</td>\n",
       "      <td>NaN</td>\n",
       "      <td>NaN</td>\n",
       "      <td>NaN</td>\n",
       "      <td>0</td>\n",
       "      <td>8</td>\n",
       "      <td>2007</td>\n",
       "      <td>Oth</td>\n",
       "      <td>Abnorml</td>\n",
       "      <td>150000</td>\n",
       "    </tr>\n",
       "    <tr>\n",
       "      <th>2070</th>\n",
       "      <td>944</td>\n",
       "      <td>90</td>\n",
       "      <td>RL</td>\n",
       "      <td>313</td>\n",
       "      <td>25000</td>\n",
       "      <td>Pave</td>\n",
       "      <td>NaN</td>\n",
       "      <td>Reg</td>\n",
       "      <td>Low</td>\n",
       "      <td>AllPub</td>\n",
       "      <td>...</td>\n",
       "      <td>0</td>\n",
       "      <td>NaN</td>\n",
       "      <td>NaN</td>\n",
       "      <td>NaN</td>\n",
       "      <td>0</td>\n",
       "      <td>6</td>\n",
       "      <td>2007</td>\n",
       "      <td>WD</td>\n",
       "      <td>Normal</td>\n",
       "      <td>143000</td>\n",
       "    </tr>\n",
       "    <tr>\n",
       "      <th>2071</th>\n",
       "      <td>945</td>\n",
       "      <td>20</td>\n",
       "      <td>RL</td>\n",
       "      <td>52</td>\n",
       "      <td>14375</td>\n",
       "      <td>Pave</td>\n",
       "      <td>NaN</td>\n",
       "      <td>IR1</td>\n",
       "      <td>Lvl</td>\n",
       "      <td>NoSeWa</td>\n",
       "      <td>...</td>\n",
       "      <td>0</td>\n",
       "      <td>NaN</td>\n",
       "      <td>NaN</td>\n",
       "      <td>NaN</td>\n",
       "      <td>0</td>\n",
       "      <td>1</td>\n",
       "      <td>2009</td>\n",
       "      <td>COD</td>\n",
       "      <td>Abnorml</td>\n",
       "      <td>137500</td>\n",
       "    </tr>\n",
       "    <tr>\n",
       "      <th>2072</th>\n",
       "      <td>946</td>\n",
       "      <td>50</td>\n",
       "      <td>RM</td>\n",
       "      <td>98</td>\n",
       "      <td>8820</td>\n",
       "      <td>Pave</td>\n",
       "      <td>NaN</td>\n",
       "      <td>Reg</td>\n",
       "      <td>Lvl</td>\n",
       "      <td>AllPub</td>\n",
       "      <td>...</td>\n",
       "      <td>0</td>\n",
       "      <td>NaN</td>\n",
       "      <td>MnWw</td>\n",
       "      <td>NaN</td>\n",
       "      <td>0</td>\n",
       "      <td>9</td>\n",
       "      <td>2009</td>\n",
       "      <td>WD</td>\n",
       "      <td>Normal</td>\n",
       "      <td>124900</td>\n",
       "    </tr>\n",
       "  </tbody>\n",
       "</table>\n",
       "<p>2073 rows × 81 columns</p>\n",
       "</div>"
      ],
      "text/plain": [
       "       Id  Dwell_Type Zone_Class  LotFrontage  LotArea Road_Type Alley  \\\n",
       "0       1          60         RL           65     8450      Pave   NaN   \n",
       "1       2          20         RL           80     9600      Pave   NaN   \n",
       "2       3          60         RL           68    11250      Pave   NaN   \n",
       "3       4          70         RL           60     9550      Pave   NaN   \n",
       "4       5          60         RL           84    14260      Pave   NaN   \n",
       "...   ...         ...        ...          ...      ...       ...   ...   \n",
       "2068  942          60         RL           70     8755      Pave   NaN   \n",
       "2069  943          90         RL           63     7711      Pave   NaN   \n",
       "2070  944          90         RL          313    25000      Pave   NaN   \n",
       "2071  945          20         RL           52    14375      Pave   NaN   \n",
       "2072  946          50         RM           98     8820      Pave   NaN   \n",
       "\n",
       "     Property_Shape LandContour Utilities  ... PoolArea PoolQC  Fence  \\\n",
       "0               Reg         Lvl    AllPub  ...        0    NaN    NaN   \n",
       "1               Reg         Lvl    AllPub  ...        0    NaN    NaN   \n",
       "2               IR1         Lvl    AllPub  ...        0    NaN    NaN   \n",
       "3               IR1         Lvl    AllPub  ...        0    NaN    NaN   \n",
       "4               IR1         Lvl    AllPub  ...        0    NaN    NaN   \n",
       "...             ...         ...       ...  ...      ...    ...    ...   \n",
       "2068            IR1         Lvl    AllPub  ...        0    NaN  GdPrv   \n",
       "2069            IR1         Lvl    AllPub  ...        0    NaN    NaN   \n",
       "2070            Reg         Low    AllPub  ...        0    NaN    NaN   \n",
       "2071            IR1         Lvl    NoSeWa  ...        0    NaN    NaN   \n",
       "2072            Reg         Lvl    AllPub  ...        0    NaN   MnWw   \n",
       "\n",
       "     MiscFeature MiscVal MoSold YrSold  SaleType  SaleCondition  \\\n",
       "0            NaN       0      2   2008        WD         Normal   \n",
       "1            NaN       0      5   2007        WD         Normal   \n",
       "2            NaN       0      9   2008        WD         Normal   \n",
       "3            NaN       0      2   2006        WD        Abnorml   \n",
       "4            NaN       0     12   2008        WD         Normal   \n",
       "...          ...     ...    ...    ...       ...            ...   \n",
       "2068         NaN       0      6   2009        WD         Normal   \n",
       "2069         NaN       0      8   2007       Oth        Abnorml   \n",
       "2070         NaN       0      6   2007        WD         Normal   \n",
       "2071         NaN       0      1   2009       COD        Abnorml   \n",
       "2072         NaN       0      9   2009        WD         Normal   \n",
       "\n",
       "      Property_Sale_Price  \n",
       "0                  208500  \n",
       "1                  181500  \n",
       "2                  223500  \n",
       "3                  140000  \n",
       "4                  250000  \n",
       "...                   ...  \n",
       "2068               214000  \n",
       "2069               150000  \n",
       "2070               143000  \n",
       "2071               137500  \n",
       "2072               124900  \n",
       "\n",
       "[2073 rows x 81 columns]"
      ]
     },
     "execution_count": 41,
     "metadata": {},
     "output_type": "execute_result"
    }
   ],
   "source": [
    "data_prep(train)"
   ]
  },
  {
   "cell_type": "code",
   "execution_count": 42,
   "id": "b20c9503",
   "metadata": {
    "scrolled": true
   },
   "outputs": [
    {
     "name": "stdout",
     "output_type": "stream",
     "text": [
      "<class 'pandas.core.frame.DataFrame'>\n",
      "RangeIndex: 2073 entries, 0 to 2072\n",
      "Data columns (total 81 columns):\n",
      " #   Column               Non-Null Count  Dtype \n",
      "---  ------               --------------  ----- \n",
      " 0   Id                   2073 non-null   int64 \n",
      " 1   Dwell_Type           2073 non-null   int64 \n",
      " 2   Zone_Class           2073 non-null   object\n",
      " 3   LotFrontage          2073 non-null   int32 \n",
      " 4   LotArea              2073 non-null   int64 \n",
      " 5   Road_Type            2073 non-null   object\n",
      " 6   Alley                129 non-null    object\n",
      " 7   Property_Shape       2073 non-null   object\n",
      " 8   LandContour          2073 non-null   object\n",
      " 9   Utilities            2073 non-null   object\n",
      " 10  LotConfig            2073 non-null   object\n",
      " 11  LandSlope            2073 non-null   object\n",
      " 12  Neighborhood         2073 non-null   object\n",
      " 13  Condition1           2073 non-null   object\n",
      " 14  Condition2           2073 non-null   object\n",
      " 15  Dwelling_Type        2073 non-null   object\n",
      " 16  HouseStyle           2073 non-null   object\n",
      " 17  OverallQual          2073 non-null   int64 \n",
      " 18  OverallCond          2073 non-null   int64 \n",
      " 19  YearBuilt            2073 non-null   int64 \n",
      " 20  YearRemodAdd         2073 non-null   int64 \n",
      " 21  RoofStyle            2073 non-null   object\n",
      " 22  RoofMatl             2073 non-null   object\n",
      " 23  Exterior1st          2073 non-null   object\n",
      " 24  Exterior2nd          2073 non-null   object\n",
      " 25  MasVnrType           2073 non-null   object\n",
      " 26  MasVnrArea           2073 non-null   int32 \n",
      " 27  ExterQual            2073 non-null   object\n",
      " 28  ExterCond            2073 non-null   object\n",
      " 29  Foundation           2073 non-null   object\n",
      " 30  BsmtQual             2073 non-null   object\n",
      " 31  BsmtCond             2073 non-null   object\n",
      " 32  BsmtExposure         2073 non-null   object\n",
      " 33  BsmtFinType1         2073 non-null   object\n",
      " 34  BsmtFinSF1           2073 non-null   int64 \n",
      " 35  BsmtFinType2         2013 non-null   object\n",
      " 36  BsmtFinSF2           2073 non-null   int64 \n",
      " 37  BsmtUnfSF            2073 non-null   int64 \n",
      " 38  TotalBsmtSF          2073 non-null   int64 \n",
      " 39  Heating              2073 non-null   object\n",
      " 40  HeatingQC            2073 non-null   object\n",
      " 41  CentralAir           2073 non-null   object\n",
      " 42  Electrical           2072 non-null   object\n",
      " 43  1stFlrSF             2073 non-null   int64 \n",
      " 44  2ndFlrSF             2073 non-null   int64 \n",
      " 45  LowQualFinSF         2073 non-null   int64 \n",
      " 46  GrLivArea            2073 non-null   int64 \n",
      " 47  BsmtFullBath         2073 non-null   int64 \n",
      " 48  BsmtHalfBath         2073 non-null   int64 \n",
      " 49  FullBath             2073 non-null   int64 \n",
      " 50  HalfBath             2073 non-null   int64 \n",
      " 51  BedroomAbvGr         2073 non-null   int64 \n",
      " 52  KitchenAbvGr         2073 non-null   int64 \n",
      " 53  KitchenQual          2073 non-null   object\n",
      " 54  TotRmsAbvGrd         2073 non-null   int64 \n",
      " 55  Functional           2073 non-null   object\n",
      " 56  Fireplaces           2073 non-null   int64 \n",
      " 57  FireplaceQu          1085 non-null   object\n",
      " 58  GarageType           2073 non-null   object\n",
      " 59  GarageYrBlt          2073 non-null   int32 \n",
      " 60  GarageFinish         2073 non-null   object\n",
      " 61  GarageCars           2073 non-null   int64 \n",
      " 62  GarageArea           2073 non-null   int64 \n",
      " 63  GarageQual           2073 non-null   object\n",
      " 64  GarageCond           2073 non-null   object\n",
      " 65  PavedDrive           2073 non-null   object\n",
      " 66  WoodDeckSF           2073 non-null   int64 \n",
      " 67  OpenPorchSF          2073 non-null   int64 \n",
      " 68  EnclosedPorch        2073 non-null   int64 \n",
      " 69  3SsnPorch            2073 non-null   int64 \n",
      " 70  ScreenPorch          2073 non-null   int64 \n",
      " 71  PoolArea             2073 non-null   int64 \n",
      " 72  PoolQC               8 non-null      object\n",
      " 73  Fence                404 non-null    object\n",
      " 74  MiscFeature          80 non-null     object\n",
      " 75  MiscVal              2073 non-null   int64 \n",
      " 76  MoSold               2073 non-null   int64 \n",
      " 77  YrSold               2073 non-null   int64 \n",
      " 78  SaleType             2073 non-null   object\n",
      " 79  SaleCondition        2073 non-null   object\n",
      " 80  Property_Sale_Price  2073 non-null   int64 \n",
      "dtypes: int32(3), int64(35), object(43)\n",
      "memory usage: 1.3+ MB\n"
     ]
    }
   ],
   "source": [
    "train.info()"
   ]
  },
  {
   "cell_type": "markdown",
   "id": "f6de1cdb",
   "metadata": {},
   "source": [
    "# ONE HOT ENCODING :"
   ]
  },
  {
   "cell_type": "code",
   "execution_count": 43,
   "id": "396011eb",
   "metadata": {},
   "outputs": [],
   "source": [
    "train_enc = pd.get_dummies(train)"
   ]
  },
  {
   "cell_type": "code",
   "execution_count": 44,
   "id": "a3c3aed3",
   "metadata": {},
   "outputs": [
    {
     "data": {
      "text/html": [
       "<div>\n",
       "<style scoped>\n",
       "    .dataframe tbody tr th:only-of-type {\n",
       "        vertical-align: middle;\n",
       "    }\n",
       "\n",
       "    .dataframe tbody tr th {\n",
       "        vertical-align: top;\n",
       "    }\n",
       "\n",
       "    .dataframe thead th {\n",
       "        text-align: right;\n",
       "    }\n",
       "</style>\n",
       "<table border=\"1\" class=\"dataframe\">\n",
       "  <thead>\n",
       "    <tr style=\"text-align: right;\">\n",
       "      <th></th>\n",
       "      <th>Id</th>\n",
       "      <th>Dwell_Type</th>\n",
       "      <th>LotFrontage</th>\n",
       "      <th>LotArea</th>\n",
       "      <th>OverallQual</th>\n",
       "      <th>OverallCond</th>\n",
       "      <th>YearBuilt</th>\n",
       "      <th>YearRemodAdd</th>\n",
       "      <th>MasVnrArea</th>\n",
       "      <th>BsmtFinSF1</th>\n",
       "      <th>...</th>\n",
       "      <th>SaleType_ConLw</th>\n",
       "      <th>SaleType_New</th>\n",
       "      <th>SaleType_Oth</th>\n",
       "      <th>SaleType_WD</th>\n",
       "      <th>SaleCondition_Abnorml</th>\n",
       "      <th>SaleCondition_AdjLand</th>\n",
       "      <th>SaleCondition_Alloca</th>\n",
       "      <th>SaleCondition_Family</th>\n",
       "      <th>SaleCondition_Normal</th>\n",
       "      <th>SaleCondition_Partial</th>\n",
       "    </tr>\n",
       "  </thead>\n",
       "  <tbody>\n",
       "    <tr>\n",
       "      <th>0</th>\n",
       "      <td>1</td>\n",
       "      <td>60</td>\n",
       "      <td>65</td>\n",
       "      <td>8450</td>\n",
       "      <td>7</td>\n",
       "      <td>5</td>\n",
       "      <td>2003</td>\n",
       "      <td>2003</td>\n",
       "      <td>196</td>\n",
       "      <td>706</td>\n",
       "      <td>...</td>\n",
       "      <td>0</td>\n",
       "      <td>0</td>\n",
       "      <td>0</td>\n",
       "      <td>1</td>\n",
       "      <td>0</td>\n",
       "      <td>0</td>\n",
       "      <td>0</td>\n",
       "      <td>0</td>\n",
       "      <td>1</td>\n",
       "      <td>0</td>\n",
       "    </tr>\n",
       "    <tr>\n",
       "      <th>1</th>\n",
       "      <td>2</td>\n",
       "      <td>20</td>\n",
       "      <td>80</td>\n",
       "      <td>9600</td>\n",
       "      <td>6</td>\n",
       "      <td>8</td>\n",
       "      <td>1976</td>\n",
       "      <td>1976</td>\n",
       "      <td>0</td>\n",
       "      <td>978</td>\n",
       "      <td>...</td>\n",
       "      <td>0</td>\n",
       "      <td>0</td>\n",
       "      <td>0</td>\n",
       "      <td>1</td>\n",
       "      <td>0</td>\n",
       "      <td>0</td>\n",
       "      <td>0</td>\n",
       "      <td>0</td>\n",
       "      <td>1</td>\n",
       "      <td>0</td>\n",
       "    </tr>\n",
       "    <tr>\n",
       "      <th>2</th>\n",
       "      <td>3</td>\n",
       "      <td>60</td>\n",
       "      <td>68</td>\n",
       "      <td>11250</td>\n",
       "      <td>7</td>\n",
       "      <td>5</td>\n",
       "      <td>2001</td>\n",
       "      <td>2002</td>\n",
       "      <td>162</td>\n",
       "      <td>486</td>\n",
       "      <td>...</td>\n",
       "      <td>0</td>\n",
       "      <td>0</td>\n",
       "      <td>0</td>\n",
       "      <td>1</td>\n",
       "      <td>0</td>\n",
       "      <td>0</td>\n",
       "      <td>0</td>\n",
       "      <td>0</td>\n",
       "      <td>1</td>\n",
       "      <td>0</td>\n",
       "    </tr>\n",
       "    <tr>\n",
       "      <th>3</th>\n",
       "      <td>4</td>\n",
       "      <td>70</td>\n",
       "      <td>60</td>\n",
       "      <td>9550</td>\n",
       "      <td>7</td>\n",
       "      <td>5</td>\n",
       "      <td>1915</td>\n",
       "      <td>1970</td>\n",
       "      <td>0</td>\n",
       "      <td>216</td>\n",
       "      <td>...</td>\n",
       "      <td>0</td>\n",
       "      <td>0</td>\n",
       "      <td>0</td>\n",
       "      <td>1</td>\n",
       "      <td>1</td>\n",
       "      <td>0</td>\n",
       "      <td>0</td>\n",
       "      <td>0</td>\n",
       "      <td>0</td>\n",
       "      <td>0</td>\n",
       "    </tr>\n",
       "    <tr>\n",
       "      <th>4</th>\n",
       "      <td>5</td>\n",
       "      <td>60</td>\n",
       "      <td>84</td>\n",
       "      <td>14260</td>\n",
       "      <td>8</td>\n",
       "      <td>5</td>\n",
       "      <td>2000</td>\n",
       "      <td>2000</td>\n",
       "      <td>350</td>\n",
       "      <td>655</td>\n",
       "      <td>...</td>\n",
       "      <td>0</td>\n",
       "      <td>0</td>\n",
       "      <td>0</td>\n",
       "      <td>1</td>\n",
       "      <td>0</td>\n",
       "      <td>0</td>\n",
       "      <td>0</td>\n",
       "      <td>0</td>\n",
       "      <td>1</td>\n",
       "      <td>0</td>\n",
       "    </tr>\n",
       "  </tbody>\n",
       "</table>\n",
       "<p>5 rows × 290 columns</p>\n",
       "</div>"
      ],
      "text/plain": [
       "   Id  Dwell_Type  LotFrontage  LotArea  OverallQual  OverallCond  YearBuilt  \\\n",
       "0   1          60           65     8450            7            5       2003   \n",
       "1   2          20           80     9600            6            8       1976   \n",
       "2   3          60           68    11250            7            5       2001   \n",
       "3   4          70           60     9550            7            5       1915   \n",
       "4   5          60           84    14260            8            5       2000   \n",
       "\n",
       "   YearRemodAdd  MasVnrArea  BsmtFinSF1  ...  SaleType_ConLw  SaleType_New  \\\n",
       "0          2003         196         706  ...               0             0   \n",
       "1          1976           0         978  ...               0             0   \n",
       "2          2002         162         486  ...               0             0   \n",
       "3          1970           0         216  ...               0             0   \n",
       "4          2000         350         655  ...               0             0   \n",
       "\n",
       "   SaleType_Oth  SaleType_WD  SaleCondition_Abnorml  SaleCondition_AdjLand  \\\n",
       "0             0            1                      0                      0   \n",
       "1             0            1                      0                      0   \n",
       "2             0            1                      0                      0   \n",
       "3             0            1                      1                      0   \n",
       "4             0            1                      0                      0   \n",
       "\n",
       "   SaleCondition_Alloca  SaleCondition_Family  SaleCondition_Normal  \\\n",
       "0                     0                     0                     1   \n",
       "1                     0                     0                     1   \n",
       "2                     0                     0                     1   \n",
       "3                     0                     0                     0   \n",
       "4                     0                     0                     1   \n",
       "\n",
       "   SaleCondition_Partial  \n",
       "0                      0  \n",
       "1                      0  \n",
       "2                      0  \n",
       "3                      0  \n",
       "4                      0  \n",
       "\n",
       "[5 rows x 290 columns]"
      ]
     },
     "execution_count": 44,
     "metadata": {},
     "output_type": "execute_result"
    }
   ],
   "source": [
    "train_enc.head()"
   ]
  },
  {
   "cell_type": "code",
   "execution_count": 45,
   "id": "84b82542",
   "metadata": {},
   "outputs": [
    {
     "name": "stdout",
     "output_type": "stream",
     "text": [
      "(2073,)\n",
      "(2073, 289)\n"
     ]
    }
   ],
   "source": [
    "y = train_enc['Property_Sale_Price']\n",
    "x = train_enc.drop('Property_Sale_Price',axis=1)\n",
    "print(y.shape)\n",
    "print(x.shape)"
   ]
  },
  {
   "cell_type": "code",
   "execution_count": 46,
   "id": "f8528d8d",
   "metadata": {},
   "outputs": [],
   "source": [
    "X_train, X_test, y_train, y_test = train_test_split(x, y, test_size=0.2,random_state = 42)"
   ]
  },
  {
   "cell_type": "code",
   "execution_count": 47,
   "id": "d8d59b22",
   "metadata": {},
   "outputs": [
    {
     "data": {
      "text/html": [
       "<div>\n",
       "<style scoped>\n",
       "    .dataframe tbody tr th:only-of-type {\n",
       "        vertical-align: middle;\n",
       "    }\n",
       "\n",
       "    .dataframe tbody tr th {\n",
       "        vertical-align: top;\n",
       "    }\n",
       "\n",
       "    .dataframe thead th {\n",
       "        text-align: right;\n",
       "    }\n",
       "</style>\n",
       "<table border=\"1\" class=\"dataframe\">\n",
       "  <thead>\n",
       "    <tr style=\"text-align: right;\">\n",
       "      <th></th>\n",
       "      <th>Id</th>\n",
       "      <th>Dwell_Type</th>\n",
       "      <th>LotFrontage</th>\n",
       "      <th>LotArea</th>\n",
       "      <th>OverallQual</th>\n",
       "      <th>OverallCond</th>\n",
       "      <th>YearBuilt</th>\n",
       "      <th>YearRemodAdd</th>\n",
       "      <th>MasVnrArea</th>\n",
       "      <th>BsmtFinSF1</th>\n",
       "      <th>...</th>\n",
       "      <th>SaleType_ConLw</th>\n",
       "      <th>SaleType_New</th>\n",
       "      <th>SaleType_Oth</th>\n",
       "      <th>SaleType_WD</th>\n",
       "      <th>SaleCondition_Abnorml</th>\n",
       "      <th>SaleCondition_AdjLand</th>\n",
       "      <th>SaleCondition_Alloca</th>\n",
       "      <th>SaleCondition_Family</th>\n",
       "      <th>SaleCondition_Normal</th>\n",
       "      <th>SaleCondition_Partial</th>\n",
       "    </tr>\n",
       "  </thead>\n",
       "  <tbody>\n",
       "    <tr>\n",
       "      <th>1743</th>\n",
       "      <td>1744</td>\n",
       "      <td>80</td>\n",
       "      <td>73</td>\n",
       "      <td>9674</td>\n",
       "      <td>7</td>\n",
       "      <td>4</td>\n",
       "      <td>2010</td>\n",
       "      <td>2023</td>\n",
       "      <td>442</td>\n",
       "      <td>786</td>\n",
       "      <td>...</td>\n",
       "      <td>0</td>\n",
       "      <td>0</td>\n",
       "      <td>0</td>\n",
       "      <td>1</td>\n",
       "      <td>0</td>\n",
       "      <td>0</td>\n",
       "      <td>0</td>\n",
       "      <td>0</td>\n",
       "      <td>1</td>\n",
       "      <td>0</td>\n",
       "    </tr>\n",
       "    <tr>\n",
       "      <th>1640</th>\n",
       "      <td>1641</td>\n",
       "      <td>20</td>\n",
       "      <td>98</td>\n",
       "      <td>10942</td>\n",
       "      <td>4</td>\n",
       "      <td>4</td>\n",
       "      <td>1958</td>\n",
       "      <td>1983</td>\n",
       "      <td>0</td>\n",
       "      <td>457</td>\n",
       "      <td>...</td>\n",
       "      <td>0</td>\n",
       "      <td>0</td>\n",
       "      <td>0</td>\n",
       "      <td>1</td>\n",
       "      <td>0</td>\n",
       "      <td>0</td>\n",
       "      <td>0</td>\n",
       "      <td>0</td>\n",
       "      <td>1</td>\n",
       "      <td>0</td>\n",
       "    </tr>\n",
       "    <tr>\n",
       "      <th>2028</th>\n",
       "      <td>902</td>\n",
       "      <td>20</td>\n",
       "      <td>64</td>\n",
       "      <td>8712</td>\n",
       "      <td>9</td>\n",
       "      <td>4</td>\n",
       "      <td>1980</td>\n",
       "      <td>2000</td>\n",
       "      <td>0</td>\n",
       "      <td>860</td>\n",
       "      <td>...</td>\n",
       "      <td>0</td>\n",
       "      <td>0</td>\n",
       "      <td>0</td>\n",
       "      <td>1</td>\n",
       "      <td>0</td>\n",
       "      <td>0</td>\n",
       "      <td>0</td>\n",
       "      <td>0</td>\n",
       "      <td>1</td>\n",
       "      <td>0</td>\n",
       "    </tr>\n",
       "    <tr>\n",
       "      <th>1432</th>\n",
       "      <td>1433</td>\n",
       "      <td>30</td>\n",
       "      <td>60</td>\n",
       "      <td>10800</td>\n",
       "      <td>9</td>\n",
       "      <td>6</td>\n",
       "      <td>1927</td>\n",
       "      <td>2007</td>\n",
       "      <td>0</td>\n",
       "      <td>0</td>\n",
       "      <td>...</td>\n",
       "      <td>0</td>\n",
       "      <td>0</td>\n",
       "      <td>0</td>\n",
       "      <td>1</td>\n",
       "      <td>0</td>\n",
       "      <td>0</td>\n",
       "      <td>0</td>\n",
       "      <td>0</td>\n",
       "      <td>1</td>\n",
       "      <td>0</td>\n",
       "    </tr>\n",
       "    <tr>\n",
       "      <th>1586</th>\n",
       "      <td>1587</td>\n",
       "      <td>85</td>\n",
       "      <td>77</td>\n",
       "      <td>10786</td>\n",
       "      <td>6</td>\n",
       "      <td>7</td>\n",
       "      <td>1991</td>\n",
       "      <td>2003</td>\n",
       "      <td>0</td>\n",
       "      <td>747</td>\n",
       "      <td>...</td>\n",
       "      <td>0</td>\n",
       "      <td>0</td>\n",
       "      <td>0</td>\n",
       "      <td>1</td>\n",
       "      <td>0</td>\n",
       "      <td>0</td>\n",
       "      <td>0</td>\n",
       "      <td>0</td>\n",
       "      <td>1</td>\n",
       "      <td>0</td>\n",
       "    </tr>\n",
       "  </tbody>\n",
       "</table>\n",
       "<p>5 rows × 289 columns</p>\n",
       "</div>"
      ],
      "text/plain": [
       "        Id  Dwell_Type  LotFrontage  LotArea  OverallQual  OverallCond  \\\n",
       "1743  1744          80           73     9674            7            4   \n",
       "1640  1641          20           98    10942            4            4   \n",
       "2028   902          20           64     8712            9            4   \n",
       "1432  1433          30           60    10800            9            6   \n",
       "1586  1587          85           77    10786            6            7   \n",
       "\n",
       "      YearBuilt  YearRemodAdd  MasVnrArea  BsmtFinSF1  ...  SaleType_ConLw  \\\n",
       "1743       2010          2023         442         786  ...               0   \n",
       "1640       1958          1983           0         457  ...               0   \n",
       "2028       1980          2000           0         860  ...               0   \n",
       "1432       1927          2007           0           0  ...               0   \n",
       "1586       1991          2003           0         747  ...               0   \n",
       "\n",
       "      SaleType_New  SaleType_Oth  SaleType_WD  SaleCondition_Abnorml  \\\n",
       "1743             0             0            1                      0   \n",
       "1640             0             0            1                      0   \n",
       "2028             0             0            1                      0   \n",
       "1432             0             0            1                      0   \n",
       "1586             0             0            1                      0   \n",
       "\n",
       "      SaleCondition_AdjLand  SaleCondition_Alloca  SaleCondition_Family  \\\n",
       "1743                      0                     0                     0   \n",
       "1640                      0                     0                     0   \n",
       "2028                      0                     0                     0   \n",
       "1432                      0                     0                     0   \n",
       "1586                      0                     0                     0   \n",
       "\n",
       "      SaleCondition_Normal  SaleCondition_Partial  \n",
       "1743                     1                      0  \n",
       "1640                     1                      0  \n",
       "2028                     1                      0  \n",
       "1432                     1                      0  \n",
       "1586                     1                      0  \n",
       "\n",
       "[5 rows x 289 columns]"
      ]
     },
     "execution_count": 47,
     "metadata": {},
     "output_type": "execute_result"
    }
   ],
   "source": [
    "X_train.head()"
   ]
  },
  {
   "cell_type": "code",
   "execution_count": 48,
   "id": "877e4af8",
   "metadata": {},
   "outputs": [
    {
     "name": "stdout",
     "output_type": "stream",
     "text": [
      "(1658, 289)\n",
      "(415, 289)\n",
      "(1658,)\n",
      "(415,)\n"
     ]
    }
   ],
   "source": [
    "print(X_train.shape)\n",
    "print(X_test.shape)\n",
    "print(y_train.shape)\n",
    "print(y_test.shape)"
   ]
  },
  {
   "cell_type": "markdown",
   "id": "7ecdc672",
   "metadata": {},
   "source": [
    "# APPLYING LINEAR REGESSION:"
   ]
  },
  {
   "cell_type": "code",
   "execution_count": 49,
   "id": "9a98ca22",
   "metadata": {},
   "outputs": [
    {
     "data": {
      "text/html": [
       "<style>#sk-container-id-1 {color: black;background-color: white;}#sk-container-id-1 pre{padding: 0;}#sk-container-id-1 div.sk-toggleable {background-color: white;}#sk-container-id-1 label.sk-toggleable__label {cursor: pointer;display: block;width: 100%;margin-bottom: 0;padding: 0.3em;box-sizing: border-box;text-align: center;}#sk-container-id-1 label.sk-toggleable__label-arrow:before {content: \"▸\";float: left;margin-right: 0.25em;color: #696969;}#sk-container-id-1 label.sk-toggleable__label-arrow:hover:before {color: black;}#sk-container-id-1 div.sk-estimator:hover label.sk-toggleable__label-arrow:before {color: black;}#sk-container-id-1 div.sk-toggleable__content {max-height: 0;max-width: 0;overflow: hidden;text-align: left;background-color: #f0f8ff;}#sk-container-id-1 div.sk-toggleable__content pre {margin: 0.2em;color: black;border-radius: 0.25em;background-color: #f0f8ff;}#sk-container-id-1 input.sk-toggleable__control:checked~div.sk-toggleable__content {max-height: 200px;max-width: 100%;overflow: auto;}#sk-container-id-1 input.sk-toggleable__control:checked~label.sk-toggleable__label-arrow:before {content: \"▾\";}#sk-container-id-1 div.sk-estimator input.sk-toggleable__control:checked~label.sk-toggleable__label {background-color: #d4ebff;}#sk-container-id-1 div.sk-label input.sk-toggleable__control:checked~label.sk-toggleable__label {background-color: #d4ebff;}#sk-container-id-1 input.sk-hidden--visually {border: 0;clip: rect(1px 1px 1px 1px);clip: rect(1px, 1px, 1px, 1px);height: 1px;margin: -1px;overflow: hidden;padding: 0;position: absolute;width: 1px;}#sk-container-id-1 div.sk-estimator {font-family: monospace;background-color: #f0f8ff;border: 1px dotted black;border-radius: 0.25em;box-sizing: border-box;margin-bottom: 0.5em;}#sk-container-id-1 div.sk-estimator:hover {background-color: #d4ebff;}#sk-container-id-1 div.sk-parallel-item::after {content: \"\";width: 100%;border-bottom: 1px solid gray;flex-grow: 1;}#sk-container-id-1 div.sk-label:hover label.sk-toggleable__label {background-color: #d4ebff;}#sk-container-id-1 div.sk-serial::before {content: \"\";position: absolute;border-left: 1px solid gray;box-sizing: border-box;top: 0;bottom: 0;left: 50%;z-index: 0;}#sk-container-id-1 div.sk-serial {display: flex;flex-direction: column;align-items: center;background-color: white;padding-right: 0.2em;padding-left: 0.2em;position: relative;}#sk-container-id-1 div.sk-item {position: relative;z-index: 1;}#sk-container-id-1 div.sk-parallel {display: flex;align-items: stretch;justify-content: center;background-color: white;position: relative;}#sk-container-id-1 div.sk-item::before, #sk-container-id-1 div.sk-parallel-item::before {content: \"\";position: absolute;border-left: 1px solid gray;box-sizing: border-box;top: 0;bottom: 0;left: 50%;z-index: -1;}#sk-container-id-1 div.sk-parallel-item {display: flex;flex-direction: column;z-index: 1;position: relative;background-color: white;}#sk-container-id-1 div.sk-parallel-item:first-child::after {align-self: flex-end;width: 50%;}#sk-container-id-1 div.sk-parallel-item:last-child::after {align-self: flex-start;width: 50%;}#sk-container-id-1 div.sk-parallel-item:only-child::after {width: 0;}#sk-container-id-1 div.sk-dashed-wrapped {border: 1px dashed gray;margin: 0 0.4em 0.5em 0.4em;box-sizing: border-box;padding-bottom: 0.4em;background-color: white;}#sk-container-id-1 div.sk-label label {font-family: monospace;font-weight: bold;display: inline-block;line-height: 1.2em;}#sk-container-id-1 div.sk-label-container {text-align: center;}#sk-container-id-1 div.sk-container {/* jupyter's `normalize.less` sets `[hidden] { display: none; }` but bootstrap.min.css set `[hidden] { display: none !important; }` so we also need the `!important` here to be able to override the default hidden behavior on the sphinx rendered scikit-learn.org. See: https://github.com/scikit-learn/scikit-learn/issues/21755 */display: inline-block !important;position: relative;}#sk-container-id-1 div.sk-text-repr-fallback {display: none;}</style><div id=\"sk-container-id-1\" class=\"sk-top-container\"><div class=\"sk-text-repr-fallback\"><pre>LinearRegression()</pre><b>In a Jupyter environment, please rerun this cell to show the HTML representation or trust the notebook. <br />On GitHub, the HTML representation is unable to render, please try loading this page with nbviewer.org.</b></div><div class=\"sk-container\" hidden><div class=\"sk-item\"><div class=\"sk-estimator sk-toggleable\"><input class=\"sk-toggleable__control sk-hidden--visually\" id=\"sk-estimator-id-1\" type=\"checkbox\" checked><label for=\"sk-estimator-id-1\" class=\"sk-toggleable__label sk-toggleable__label-arrow\">LinearRegression</label><div class=\"sk-toggleable__content\"><pre>LinearRegression()</pre></div></div></div></div></div>"
      ],
      "text/plain": [
       "LinearRegression()"
      ]
     },
     "execution_count": 49,
     "metadata": {},
     "output_type": "execute_result"
    }
   ],
   "source": [
    "lr = LinearRegression()\n",
    "lr.fit(X_train, y_train)"
   ]
  },
  {
   "cell_type": "code",
   "execution_count": 50,
   "id": "67e1699e",
   "metadata": {},
   "outputs": [
    {
     "name": "stdout",
     "output_type": "stream",
     "text": [
      "-373502.24920501467\n"
     ]
    }
   ],
   "source": [
    "print(lr.intercept_)"
   ]
  },
  {
   "cell_type": "code",
   "execution_count": 51,
   "id": "63d2d77f",
   "metadata": {
    "scrolled": true
   },
   "outputs": [
    {
     "name": "stdout",
     "output_type": "stream",
     "text": [
      "[-5.30474176e-01 -1.78367566e+00  3.21711354e+01  4.42998497e-01\n",
      "  9.61533293e+02  1.95696744e+03  4.69770754e+01  6.12562731e+01\n",
      "  3.42101270e+01  1.90189357e+01  1.47001335e+00  6.14094839e-01\n",
      "  2.11030387e+01  2.48697830e+01  2.67746534e+01 -2.70269744e+01\n",
      "  2.46174582e+01 -4.86331399e+01  3.13192304e+02  6.09799494e+03\n",
      "  4.07805298e+03 -3.60061755e+03 -1.79609724e+04  2.21601937e+03\n",
      "  6.52356130e+03 -7.49718880e+01  1.92866896e+03  2.10281259e+01\n",
      "  1.49378675e+01  1.85206454e+01  1.04136416e+01  4.24350836e+01\n",
      "  3.26745924e+01  9.09968416e+01  2.21270612e+00 -3.64323585e+02\n",
      "  7.46758747e+01 -2.22625462e+04  7.03634246e+01  1.38178747e+04\n",
      "  4.67328311e+03  3.70102495e+03 -2.29225919e+04  2.29225919e+04\n",
      " -5.22877163e+02  7.21547432e+03 -4.99534911e+03  1.57709368e+03\n",
      "  7.17602291e+03 -3.75776748e+03 -2.42937192e+03  8.34125070e+03\n",
      " -9.28169486e+03  3.36981607e+03  2.39901862e+04 -2.39901862e+04\n",
      "  1.64924812e+03  9.55458003e+03 -6.16528973e+03 -6.08867481e+03\n",
      "  1.05013640e+03  1.18160684e+04  1.61013831e+04 -2.79174515e+04\n",
      "  6.50570750e+03  1.08553432e+04  2.85773597e+03 -1.20102963e+04\n",
      " -1.27808303e+04 -5.08576401e+03  9.86319584e+03 -2.55029552e+04\n",
      " -7.18315685e+03 -1.90725480e+04 -1.01497044e+04 -1.61163336e+04\n",
      " -1.63252046e+04  2.45116851e+04 -1.00283171e+04  2.81159190e+04\n",
      "  2.52577604e+04 -2.35331898e+04 -1.60729273e+04 -8.33895795e+03\n",
      " -1.54180116e+03  1.28902062e+04  4.88819784e+04 -2.29368718e+03\n",
      "  1.62961420e+04 -2.80079803e+03 -3.85523943e+03  7.22454145e+03\n",
      "  4.61172945e+03  1.75418189e+03 -1.49150909e+04 -8.58354054e+01\n",
      " -8.11692916e+02  8.87820394e+03  2.71414439e+04  4.00957588e+04\n",
      "  3.39520212e+04  6.42163629e+04 -1.95899855e+05 -2.72848411e-11\n",
      "  3.04942687e+04 -6.54836185e-11  1.45897613e+04  9.54238006e+03\n",
      " -2.00245235e+03 -1.21263284e+04 -1.00033606e+04  1.34470066e+02\n",
      "  1.99682137e+04  2.45665732e+03 -1.41737670e+04 -3.19221905e+03\n",
      " -9.37050879e+02 -4.15308824e+03 -1.03215931e+02  1.15099709e+04\n",
      " -4.21272102e+03 -5.14493217e+03 -3.09043068e+03  9.38112931e+02\n",
      " -1.90993887e-11 -6.05798839e+05  8.29348062e+04  1.62623417e+05\n",
      "  1.63709046e-10  7.16839027e+04  5.93245829e+04  8.53818325e+04\n",
      "  1.43850297e+05  3.86256574e+04 -2.02537264e+04  3.06545613e+04\n",
      "  1.00997385e+04 -1.51216377e+04  1.15275752e+04 -8.64098123e+03\n",
      "  1.31431921e+03 -1.78046772e+03 -6.53673464e+03 -1.77542721e+04\n",
      "  6.89135919e+03 -1.49229848e+04 -1.02316383e+04 -3.87076800e+03\n",
      " -2.98266820e+04  3.57365856e+04 -1.12236920e+04  6.49438533e+02\n",
      " -1.51216377e+04 -8.92804274e+03  6.33860669e+03  3.85993915e+02\n",
      "  3.53071701e+03 -2.05154594e+04  2.97375213e+03  1.15691670e+03\n",
      "  4.74815461e+03  1.57063092e+04  1.08622723e+04  3.52676711e+03\n",
      " -1.05017286e+04 -1.31909898e+03  4.54823246e+03  7.27259514e+03\n",
      "  1.83916585e+04  1.51021530e+03 -8.77503695e+03 -1.11268369e+04\n",
      "  2.06315157e+04 -4.41816360e+03 -1.54019859e+03 -1.31421264e+04\n",
      " -1.53102705e+03 -1.67975709e+03  6.50766816e+03  6.91670947e+03\n",
      " -1.78466695e+03  6.95250359e+03 -1.69124572e+04  1.18419067e+04\n",
      " -5.69408518e+03 -2.97068237e+03 -3.17713918e+03 -1.21331731e+04\n",
      " -4.99370371e+03  2.13800302e+04 -4.25315335e+03 -3.06524772e+03\n",
      "  1.63427893e+04 -5.60790579e+03 -7.66963577e+03 -4.75510041e+02\n",
      " -2.26828164e+03  7.96130622e+03 -6.85636650e+03 -2.11545800e+03\n",
      "  3.75430996e+03  7.02761057e+03 -9.98155270e+03  1.13055578e+04\n",
      " -6.82918095e+03 -4.73666256e+03 -8.45480192e+03  4.91680567e+03\n",
      "  3.55452354e+03 -1.16527972e+02 -7.29472076e+03 -1.05922045e+04\n",
      "  9.53212399e+03  4.45231073e+03  2.20923283e+02  1.79071997e+02\n",
      " -3.14453557e+03 -1.70777044e+03 -1.41072013e+03  1.41072013e+03\n",
      "  1.10479283e+04  6.77117254e+03 -6.52623647e+03 -2.11955873e+04\n",
      "  9.90272298e+03  1.87492732e+04 -5.96983680e+03 -4.64285082e+03\n",
      " -8.13658556e+03  1.53436215e+04 -3.62109645e+03  5.48928169e+03\n",
      "  5.78515549e+03 -6.03806522e+03 -3.79523572e+04  2.09934602e+04\n",
      " -8.68169711e+03 -1.15667718e+04 -5.26408879e+03 -1.47875329e+03\n",
      " -6.86133885e+03 -2.48846076e+04  2.28844489e+03  1.99299090e+03\n",
      "  5.88178619e+03  1.14037171e+04  3.31766848e+03  1.69709255e+03\n",
      " -3.15446052e+03  1.45736797e+03  2.77724794e+03 -3.93475037e+03\n",
      "  3.84491713e+03 -5.21777284e+03  2.53035813e+03  2.77724794e+03\n",
      " -9.96723724e+03  3.23696561e+02  7.80565174e+03 -9.39358998e+02\n",
      "  4.05104005e+03 -2.30980293e+03 -1.74123712e+03 -7.65248859e+04\n",
      " -2.68876368e+04 -1.26367712e+04 -4.20421607e+03  1.71739885e+03\n",
      "  9.81291123e+02 -1.02326145e+04 -1.42085569e+04  1.77752552e+04\n",
      "  4.28541231e+03 -4.43884722e+04 -9.05704717e+03  2.59108501e+04\n",
      "  8.28075468e+03  6.34785004e+03 -7.31156512e+03 -1.45826166e+04\n",
      "  8.80121828e+03 -7.26396604e+03 -1.11254782e+04 -9.29218645e+03\n",
      "  3.83248582e+03  1.54244521e+04 -5.56581053e+03 -1.11859455e+03\n",
      " -3.28034644e+03]\n"
     ]
    }
   ],
   "source": [
    "print(lr.coef_)"
   ]
  },
  {
   "cell_type": "code",
   "execution_count": 52,
   "id": "592b5d12",
   "metadata": {},
   "outputs": [
    {
     "name": "stdout",
     "output_type": "stream",
     "text": [
      "Id: -0.53\n",
      "Dwell_Type: -1.78\n",
      "LotFrontage: 32.17\n",
      "LotArea: 0.44\n",
      "OverallQual: 961.53\n",
      "OverallCond: 1956.97\n",
      "YearBuilt: 46.98\n",
      "YearRemodAdd: 61.26\n",
      "MasVnrArea: 34.21\n",
      "BsmtFinSF1: 19.02\n",
      "BsmtFinSF2: 1.47\n",
      "BsmtUnfSF: 0.61\n",
      "TotalBsmtSF: 21.10\n",
      "1stFlrSF: 24.87\n",
      "2ndFlrSF: 26.77\n",
      "LowQualFinSF: -27.03\n",
      "GrLivArea: 24.62\n",
      "BsmtFullBath: -48.63\n",
      "BsmtHalfBath: 313.19\n",
      "FullBath: 6097.99\n",
      "HalfBath: 4078.05\n",
      "BedroomAbvGr: -3600.62\n",
      "KitchenAbvGr: -17960.97\n",
      "TotRmsAbvGrd: 2216.02\n",
      "Fireplaces: 6523.56\n",
      "GarageYrBlt: -74.97\n",
      "GarageCars: 1928.67\n",
      "GarageArea: 21.03\n",
      "WoodDeckSF: 14.94\n",
      "OpenPorchSF: 18.52\n",
      "EnclosedPorch: 10.41\n",
      "3SsnPorch: 42.44\n",
      "ScreenPorch: 32.67\n",
      "PoolArea: 91.00\n",
      "MiscVal: 2.21\n",
      "MoSold: -364.32\n",
      "YrSold: 74.68\n",
      "Zone_Class_C (all): -22262.55\n",
      "Zone_Class_FV: 70.36\n",
      "Zone_Class_RH: 13817.87\n",
      "Zone_Class_RL: 4673.28\n",
      "Zone_Class_RM: 3701.02\n",
      "Road_Type_Grvl: -22922.59\n",
      "Road_Type_Pave: 22922.59\n",
      "Alley_Grvl: -522.88\n",
      "Alley_Pave: 7215.47\n",
      "Property_Shape_IR1: -4995.35\n",
      "Property_Shape_IR2: 1577.09\n",
      "Property_Shape_IR3: 7176.02\n",
      "Property_Shape_Reg: -3757.77\n",
      "LandContour_Bnk: -2429.37\n",
      "LandContour_HLS: 8341.25\n",
      "LandContour_Low: -9281.69\n",
      "LandContour_Lvl: 3369.82\n",
      "Utilities_AllPub: 23990.19\n",
      "Utilities_NoSeWa: -23990.19\n",
      "LotConfig_Corner: 1649.25\n",
      "LotConfig_CulDSac: 9554.58\n",
      "LotConfig_FR2: -6165.29\n",
      "LotConfig_FR3: -6088.67\n",
      "LotConfig_Inside: 1050.14\n",
      "LandSlope_Gtl: 11816.07\n",
      "LandSlope_Mod: 16101.38\n",
      "LandSlope_Sev: -27917.45\n",
      "Neighborhood_Blmngtn: 6505.71\n",
      "Neighborhood_Blueste: 10855.34\n",
      "Neighborhood_BrDale: 2857.74\n",
      "Neighborhood_BrkSide: -12010.30\n",
      "Neighborhood_ClearCr: -12780.83\n",
      "Neighborhood_CollgCr: -5085.76\n",
      "Neighborhood_Crawfor: 9863.20\n",
      "Neighborhood_Edwards: -25502.96\n",
      "Neighborhood_Gilbert: -7183.16\n",
      "Neighborhood_IDOTRR: -19072.55\n",
      "Neighborhood_MeadowV: -10149.70\n",
      "Neighborhood_Mitchel: -16116.33\n",
      "Neighborhood_NAmes: -16325.20\n",
      "Neighborhood_NPkVill: 24511.69\n",
      "Neighborhood_NWAmes: -10028.32\n",
      "Neighborhood_NoRidge: 28115.92\n",
      "Neighborhood_NridgHt: 25257.76\n",
      "Neighborhood_OldTown: -23533.19\n",
      "Neighborhood_SWISU: -16072.93\n",
      "Neighborhood_Sawyer: -8338.96\n",
      "Neighborhood_SawyerW: -1541.80\n",
      "Neighborhood_Somerst: 12890.21\n",
      "Neighborhood_StoneBr: 48881.98\n",
      "Neighborhood_Timber: -2293.69\n",
      "Neighborhood_Veenker: 16296.14\n",
      "Condition1_Artery: -2800.80\n",
      "Condition1_Feedr: -3855.24\n",
      "Condition1_Norm: 7224.54\n",
      "Condition1_PosA: 4611.73\n",
      "Condition1_PosN: 1754.18\n",
      "Condition1_RRAe: -14915.09\n",
      "Condition1_RRAn: -85.84\n",
      "Condition1_RRNe: -811.69\n",
      "Condition1_RRNn: 8878.20\n",
      "Condition2_Artery: 27141.44\n",
      "Condition2_Feedr: 40095.76\n",
      "Condition2_Norm: 33952.02\n",
      "Condition2_PosA: 64216.36\n",
      "Condition2_PosN: -195899.86\n",
      "Condition2_RRAe: -0.00\n",
      "Condition2_RRAn: 30494.27\n",
      "Condition2_RRNn: -0.00\n",
      "Dwelling_Type_1Fam: 14589.76\n",
      "Dwelling_Type_2fmCon: 9542.38\n",
      "Dwelling_Type_Duplex: -2002.45\n",
      "Dwelling_Type_Twnhs: -12126.33\n",
      "Dwelling_Type_TwnhsE: -10003.36\n",
      "HouseStyle_1.5Fin: 134.47\n",
      "HouseStyle_1.5Unf: 19968.21\n",
      "HouseStyle_1Story: 2456.66\n",
      "HouseStyle_2.5Fin: -14173.77\n",
      "HouseStyle_2.5Unf: -3192.22\n",
      "HouseStyle_2Story: -937.05\n",
      "HouseStyle_SFoyer: -4153.09\n",
      "HouseStyle_SLvl: -103.22\n",
      "RoofStyle_Flat: 11509.97\n",
      "RoofStyle_Gable: -4212.72\n",
      "RoofStyle_Gambrel: -5144.93\n",
      "RoofStyle_Hip: -3090.43\n",
      "RoofStyle_Mansard: 938.11\n",
      "RoofStyle_Shed: -0.00\n",
      "RoofMatl_ClyTile: -605798.84\n",
      "RoofMatl_CompShg: 82934.81\n",
      "RoofMatl_Membran: 162623.42\n",
      "RoofMatl_Metal: 0.00\n",
      "RoofMatl_Roll: 71683.90\n",
      "RoofMatl_Tar&Grv: 59324.58\n",
      "RoofMatl_WdShake: 85381.83\n",
      "RoofMatl_WdShngl: 143850.30\n",
      "Exterior1st_AsbShng: 38625.66\n",
      "Exterior1st_AsphShn: -20253.73\n",
      "Exterior1st_BrkComm: 30654.56\n",
      "Exterior1st_BrkFace: 10099.74\n",
      "Exterior1st_CBlock: -15121.64\n",
      "Exterior1st_CemntBd: 11527.58\n",
      "Exterior1st_HdBoard: -8640.98\n",
      "Exterior1st_ImStucc: 1314.32\n",
      "Exterior1st_MetalSd: -1780.47\n",
      "Exterior1st_Plywood: -6536.73\n",
      "Exterior1st_Stone: -17754.27\n",
      "Exterior1st_Stucco: 6891.36\n",
      "Exterior1st_VinylSd: -14922.98\n",
      "Exterior1st_Wd Sdng: -10231.64\n",
      "Exterior1st_WdShing: -3870.77\n",
      "Exterior2nd_AsbShng: -29826.68\n",
      "Exterior2nd_AsphShn: 35736.59\n",
      "Exterior2nd_Brk Cmn: -11223.69\n",
      "Exterior2nd_BrkFace: 649.44\n",
      "Exterior2nd_CBlock: -15121.64\n",
      "Exterior2nd_CmentBd: -8928.04\n",
      "Exterior2nd_HdBoard: 6338.61\n",
      "Exterior2nd_ImStucc: 385.99\n",
      "Exterior2nd_MetalSd: 3530.72\n",
      "Exterior2nd_Other: -20515.46\n",
      "Exterior2nd_Plywood: 2973.75\n",
      "Exterior2nd_Stone: 1156.92\n",
      "Exterior2nd_Stucco: 4748.15\n",
      "Exterior2nd_VinylSd: 15706.31\n",
      "Exterior2nd_Wd Sdng: 10862.27\n",
      "Exterior2nd_Wd Shng: 3526.77\n",
      "MasVnrType_BrkCmn: -10501.73\n",
      "MasVnrType_BrkFace: -1319.10\n",
      "MasVnrType_None: 4548.23\n",
      "MasVnrType_Stone: 7272.60\n",
      "ExterQual_Ex: 18391.66\n",
      "ExterQual_Fa: 1510.22\n",
      "ExterQual_Gd: -8775.04\n",
      "ExterQual_TA: -11126.84\n",
      "ExterCond_Ex: 20631.52\n",
      "ExterCond_Fa: -4418.16\n",
      "ExterCond_Gd: -1540.20\n",
      "ExterCond_Po: -13142.13\n",
      "ExterCond_TA: -1531.03\n",
      "Foundation_BrkTil: -1679.76\n",
      "Foundation_CBlock: 6507.67\n",
      "Foundation_PConc: 6916.71\n",
      "Foundation_Slab: -1784.67\n",
      "Foundation_Stone: 6952.50\n",
      "Foundation_Wood: -16912.46\n",
      "BsmtQual_Ex: 11841.91\n",
      "BsmtQual_Fa: -5694.09\n",
      "BsmtQual_Gd: -2970.68\n",
      "BsmtQual_TA: -3177.14\n",
      "BsmtCond_Fa: -12133.17\n",
      "BsmtCond_Gd: -4993.70\n",
      "BsmtCond_Po: 21380.03\n",
      "BsmtCond_TA: -4253.15\n",
      "BsmtExposure_Av: -3065.25\n",
      "BsmtExposure_Gd: 16342.79\n",
      "BsmtExposure_Mn: -5607.91\n",
      "BsmtExposure_No: -7669.64\n",
      "BsmtFinType1_ALQ: -475.51\n",
      "BsmtFinType1_BLQ: -2268.28\n",
      "BsmtFinType1_GLQ: 7961.31\n",
      "BsmtFinType1_LwQ: -6856.37\n",
      "BsmtFinType1_Rec: -2115.46\n",
      "BsmtFinType1_Unf: 3754.31\n",
      "BsmtFinType2_ALQ: 7027.61\n",
      "BsmtFinType2_BLQ: -9981.55\n",
      "BsmtFinType2_GLQ: 11305.56\n",
      "BsmtFinType2_LwQ: -6829.18\n",
      "BsmtFinType2_Rec: -4736.66\n",
      "BsmtFinType2_Unf: -8454.80\n",
      "Heating_Floor: 4916.81\n",
      "Heating_GasA: 3554.52\n",
      "Heating_GasW: -116.53\n",
      "Heating_Grav: -7294.72\n",
      "Heating_OthW: -10592.20\n",
      "Heating_Wall: 9532.12\n",
      "HeatingQC_Ex: 4452.31\n",
      "HeatingQC_Fa: 220.92\n",
      "HeatingQC_Gd: 179.07\n",
      "HeatingQC_Po: -3144.54\n",
      "HeatingQC_TA: -1707.77\n",
      "CentralAir_N: -1410.72\n",
      "CentralAir_Y: 1410.72\n",
      "Electrical_FuseA: 11047.93\n",
      "Electrical_FuseF: 6771.17\n",
      "Electrical_FuseP: -6526.24\n",
      "Electrical_Mix: -21195.59\n",
      "Electrical_SBrkr: 9902.72\n",
      "KitchenQual_Ex: 18749.27\n",
      "KitchenQual_Fa: -5969.84\n",
      "KitchenQual_Gd: -4642.85\n",
      "KitchenQual_TA: -8136.59\n",
      "Functional_Maj1: 15343.62\n",
      "Functional_Maj2: -3621.10\n",
      "Functional_Min1: 5489.28\n",
      "Functional_Min2: 5785.16\n",
      "Functional_Mod: -6038.07\n",
      "Functional_Sev: -37952.36\n",
      "Functional_Typ: 20993.46\n",
      "FireplaceQu_Ex: -8681.70\n",
      "FireplaceQu_Fa: -11566.77\n",
      "FireplaceQu_Gd: -5264.09\n",
      "FireplaceQu_Po: -1478.75\n",
      "FireplaceQu_TA: -6861.34\n",
      "GarageType_2Types: -24884.61\n",
      "GarageType_Attchd: 2288.44\n",
      "GarageType_Basment: 1992.99\n",
      "GarageType_BuiltIn: 5881.79\n",
      "GarageType_CarPort: 11403.72\n",
      "GarageType_Detchd: 3317.67\n",
      "GarageFinish_Fin: 1697.09\n",
      "GarageFinish_RFn: -3154.46\n",
      "GarageFinish_Unf: 1457.37\n",
      "GarageQual_Ex: 2777.25\n",
      "GarageQual_Fa: -3934.75\n",
      "GarageQual_Gd: 3844.92\n",
      "GarageQual_Po: -5217.77\n",
      "GarageQual_TA: 2530.36\n",
      "GarageCond_Ex: 2777.25\n",
      "GarageCond_Fa: -9967.24\n",
      "GarageCond_Gd: 323.70\n",
      "GarageCond_Po: 7805.65\n",
      "GarageCond_TA: -939.36\n",
      "PavedDrive_N: 4051.04\n",
      "PavedDrive_P: -2309.80\n",
      "PavedDrive_Y: -1741.24\n",
      "PoolQC_Ex: -76524.89\n",
      "PoolQC_Fa: -26887.64\n",
      "PoolQC_Gd: -12636.77\n",
      "Fence_GdPrv: -4204.22\n",
      "Fence_GdWo: 1717.40\n",
      "Fence_MnPrv: 981.29\n",
      "Fence_MnWw: -10232.61\n",
      "MiscFeature_Gar2: -14208.56\n",
      "MiscFeature_Othr: 17775.26\n",
      "MiscFeature_Shed: 4285.41\n",
      "MiscFeature_TenC: -44388.47\n",
      "SaleType_COD: -9057.05\n",
      "SaleType_CWD: 25910.85\n",
      "SaleType_Con: 8280.75\n",
      "SaleType_ConLD: 6347.85\n",
      "SaleType_ConLI: -7311.57\n",
      "SaleType_ConLw: -14582.62\n",
      "SaleType_New: 8801.22\n",
      "SaleType_Oth: -7263.97\n",
      "SaleType_WD: -11125.48\n",
      "SaleCondition_Abnorml: -9292.19\n",
      "SaleCondition_AdjLand: 3832.49\n",
      "SaleCondition_Alloca: 15424.45\n",
      "SaleCondition_Family: -5565.81\n",
      "SaleCondition_Normal: -1118.59\n",
      "SaleCondition_Partial: -3280.35\n"
     ]
    }
   ],
   "source": [
    "for coef, feature in zip(lr.coef_, X_train.columns):\n",
    "    print(f\"{feature}: {coef:.2f}\")  # Format to 4 decimal places"
   ]
  },
  {
   "cell_type": "markdown",
   "id": "ad2ac445",
   "metadata": {},
   "source": [
    "# Evaluating the model:"
   ]
  },
  {
   "cell_type": "code",
   "execution_count": 53,
   "id": "c7e99d0f",
   "metadata": {},
   "outputs": [],
   "source": [
    "y_hat_train = lr.predict(X_train)\n",
    "y_hat_test = lr.predict(X_test)"
   ]
  },
  {
   "cell_type": "code",
   "execution_count": 54,
   "id": "8a578102",
   "metadata": {},
   "outputs": [
    {
     "data": {
      "text/plain": [
       "array([204166.86923935, 133583.9422812 , 153008.91480552, ...,\n",
       "       161794.50229159, 108334.2151466 , 173045.86662055])"
      ]
     },
     "execution_count": 54,
     "metadata": {},
     "output_type": "execute_result"
    }
   ],
   "source": [
    "y_hat_train"
   ]
  },
  {
   "cell_type": "code",
   "execution_count": 55,
   "id": "d28c675a",
   "metadata": {
    "scrolled": true
   },
   "outputs": [
    {
     "data": {
      "text/plain": [
       "array([114048.11482033, 144569.0510825 , 144209.88016416, 280650.78413083,\n",
       "       239349.16729348, 110016.37259098, 221905.10233913, 140750.80087883,\n",
       "       237244.74514596, 140188.02267356, 109467.9828443 , 133222.3604553 ,\n",
       "       116259.97345046, 201160.90774074, 458591.27949461, 324251.09159991,\n",
       "       101982.56338274, 136226.36670364, 143573.70605955, 264255.37220004,\n",
       "       129012.1651219 , 296541.97957562, 124901.53338445, 130795.15986896,\n",
       "       212211.69942948, 236295.12990054, 123519.22892167, 217195.81949459,\n",
       "       108580.85832221, 121371.59085162, 262460.30415494, 143572.02615863,\n",
       "       161737.63404945, 434924.07153207, 232595.99824991, 194858.72774265,\n",
       "       212313.58659117, 258853.47695073, 283585.83935276, 100602.83341179,\n",
       "       105501.9330495 , 337754.21323632, 134856.194722  , 163307.99137902,\n",
       "       147429.49352774, 130033.26427548,  26544.01413331, 142241.99139651,\n",
       "       130233.97216817, 231777.35917339, 174419.13289471, 106764.04621446,\n",
       "       198958.09830795, 199349.55402954, 246148.23201432, 315023.03029805,\n",
       "       322443.63673573, 211453.02519395,  64758.64783796, 237870.81305917,\n",
       "       174466.52363913, 110798.53455748, 167854.41049603,  96419.97100305,\n",
       "       201337.07549696, 121274.54028188, 266616.67253638, 204384.1269193 ,\n",
       "       257782.7852895 , 122935.53056158, 190829.12724302, 148922.05100091,\n",
       "       104747.6170998 , 278202.50976054, 170403.28650414, 177701.67755161,\n",
       "       109829.12143873, 132923.44060529, 169905.1944406 ,  56599.69878377,\n",
       "       141605.30312501,  87267.31012098, 110338.11058125, 177500.27903293,\n",
       "       165384.04359339, 204097.90506886, 176476.46807875, 191840.19198618,\n",
       "       156333.51783992, 210500.01505998, 230889.0111843 , 197926.26201698,\n",
       "       173481.61448826, 131011.2241888 , 238373.11761014, 184917.90985847,\n",
       "       144508.38618384,  95277.97858677, 127027.36931742, 304237.61211513,\n",
       "       156418.53363004, 161199.89293309, 140336.35510937, 163532.37660981,\n",
       "       150331.79442702, 111101.94673652, 148933.50762196, 368577.02358317,\n",
       "       192554.99337093, 122024.44415299, 139249.7858963 , 212938.78098948,\n",
       "       103514.56383631, 232183.22222643, 198162.22489914, 120435.29264734,\n",
       "        78318.37222891, 222284.81975819, 101799.86646056, 279077.45689661,\n",
       "       189713.43529771, 471180.78643856, 144965.67843008, 159514.03073738,\n",
       "       203562.4748192 , 184063.45618212, 271617.47970188,  95815.18213098,\n",
       "       132530.95269913, 242460.83801366, 101241.59098527, 159159.73874877,\n",
       "       145597.48640971, 339445.04114791, 135078.75880897, 202302.39153738,\n",
       "       161536.05610693, 232611.88174573, 161987.00415633, 120095.56039101,\n",
       "       131416.5116655 , 108175.98876802, 130028.51915423, 109924.31940409,\n",
       "       155486.95835641, 148508.2972189 , 195218.07978593, 247117.99155505,\n",
       "       254334.33813262, 256817.89016815, 221386.55083186, 117442.61500156,\n",
       "       123223.24656041, 120820.75006109, 136221.13349198, 154072.29602229,\n",
       "       177645.21455141, 239389.78068206, 151737.92346807, 247545.53308662,\n",
       "       183815.61917063, 178635.80005314, 132492.28186775, 259621.55204008,\n",
       "       251380.0483735 , 127530.08256416, 216737.29192244, 246680.40850406,\n",
       "        94580.39560126, 148461.0080551 , 113288.10542483,  75877.39113692,\n",
       "       141468.41497585, 195777.80217934, 149874.09328702, 202829.15331241,\n",
       "       198798.12538258, 194749.24498413, 150693.45165431, 342090.02823687,\n",
       "       184424.43950263, 130792.54603876,  53800.67589531,  76630.03358197,\n",
       "       302729.02183131, 146264.4443368 , 253235.10716439,  80989.3872778 ,\n",
       "       108547.76100352, 143532.48945174, 200858.49744085, 119713.41293672,\n",
       "       359363.9751912 , 135912.01021675, 143771.14233036, 247802.27647511,\n",
       "       193678.65387973, 124068.90794196, 246138.11488588, 165968.30958698,\n",
       "       157234.2136304 , 155243.56666139, 128383.982301  , 180543.38430382,\n",
       "        75597.50254706, 152266.72834379, 197587.9368725 ,  62335.71185464,\n",
       "       205302.10184121, 139866.07390052, 109962.84901239, 179230.80619508,\n",
       "       133152.16199467, 140834.30004739, 152376.12077515,  66135.41431502,\n",
       "       181942.00200271, 233741.71782592, 212686.95676007, 205684.69286202,\n",
       "        99175.2736404 ,  90964.95437323, 107843.18754148, 185692.49267555,\n",
       "       236779.45843202, 219520.80342359,  96170.91989378,  70764.05902194,\n",
       "       211714.89058843, 153451.87500485, 277361.41846155, 248888.00877136,\n",
       "       130539.10243011, 221076.83094844, 235999.12766773, 216733.0974108 ,\n",
       "       200485.70680463, 187777.47054971, 350953.92130888, 232250.70881926,\n",
       "       119085.24028107, 114333.63619859, 140208.73565643, 240446.28631006,\n",
       "       184682.14386728, 219592.44515881, 159142.29080096, 171338.2819918 ,\n",
       "       208178.71539978, 265029.35965478, 197232.90951527, 206142.74565094,\n",
       "       278013.69115011, 114744.99742612, 143731.77382234, 163880.08642333,\n",
       "       127337.0538785 , 123421.63393761, 274900.24355051, 160031.0577346 ,\n",
       "       124982.6189273 , 146716.66600307, 135270.53927255, 113507.7750203 ,\n",
       "       130323.59013413, 201757.02982455,  98440.28706059, 135521.43807459,\n",
       "       156126.36270292, 159617.16559243, 174947.67124552,  99612.63981862,\n",
       "       219542.50049663, 175276.30666009, 119029.78055582, 162187.33557588,\n",
       "       273155.24307206, 153706.4003896 , 134311.66769327, 140808.00211853,\n",
       "       248539.04807868,  63352.5537374 ,  58665.40987982, 169344.39736056,\n",
       "       137717.97447064, 139632.60372464, 104462.22148677, 206543.79514112,\n",
       "       261561.74943313, 167850.84397191, 280745.8429394 , 217401.26892529,\n",
       "       189154.93373513, 180412.13355019,  95923.89274449, 243758.26964985,\n",
       "       293853.44163803, 151690.66108664, 138872.14226518, 188458.09633245,\n",
       "        33029.10104393, 207872.1572796 , 140515.02501215, 191865.33084126,\n",
       "       250585.66324818, 140554.51145245,  89224.27756106, 189578.37188381,\n",
       "       336656.09538466, 111307.26045492, 263172.88149383,  87601.0138427 ,\n",
       "       133449.39877105, 115042.99079197, 189992.07007277, 153081.32438749,\n",
       "       278756.69217658, 124886.45716406, 113462.776105  , 113550.01906118,\n",
       "       127138.01129325, 386531.5142076 , 117628.43432339, 154519.22888135,\n",
       "       192055.90990431, 285124.86237276, 134333.61805673, 184409.48847104,\n",
       "       240887.27783431, 202790.8833668 , 171968.7384039 , 197342.60292177,\n",
       "       117276.51099977, 236179.85275868, 166868.82955039, 120140.00747728,\n",
       "       214456.40591119, 184932.47279882, 121185.79116164, 140818.7298089 ,\n",
       "       136149.69388983, 126720.94125953, 208495.80576627, 302990.75341846,\n",
       "       367162.17180078, 130920.02434773, 238866.37494374, 261979.13099247,\n",
       "       186886.6769833 , 118644.44764812,  79306.7272264 , 165251.03722704,\n",
       "       109786.06527767, 125861.89940798, 183786.27588806, 307539.0986004 ,\n",
       "       246088.656555  , 184261.94144252, 203934.07153355, 156601.9259215 ,\n",
       "       117486.96694403, 215314.05199663, 335358.21293641, 273389.46001371,\n",
       "       121274.54028188, 156714.12516344, 130548.70378005,  94700.90324925,\n",
       "       111486.70808099, 124469.2822081 ,  76057.9525573 , 127582.04262033,\n",
       "       133662.67416741, 118869.89796583, 179606.75414254, 122085.33243366,\n",
       "       131018.69378573, 140346.39542032, 196667.55938831, 283895.01827387,\n",
       "       116635.50203017, 175047.44222234, 321433.11393249,  78986.74905619,\n",
       "       144878.28301158, 366625.94211148, 191645.77425738, 186789.50621611,\n",
       "       134778.34080764, 150667.39265586,  69799.87446531,  65163.13908555,\n",
       "       296239.7769224 , 174243.80360138, 313081.48739651, 266152.57581758,\n",
       "       159806.44093452, 162194.99758034, 157731.40744108, 137500.38153524,\n",
       "       155494.94077418, 155906.34921476,  89401.84845012,  80606.20585962,\n",
       "       206198.24030066, 176677.06285273, 348892.62971927, 152042.84503201,\n",
       "        75873.00688583, 183486.94179687, 128156.19426772, 177017.85532785,\n",
       "       122457.15788249, 304514.97445435,  81248.86094729])"
      ]
     },
     "execution_count": 55,
     "metadata": {},
     "output_type": "execute_result"
    }
   ],
   "source": [
    "y_hat_test"
   ]
  },
  {
   "cell_type": "code",
   "execution_count": 56,
   "id": "d4c10ff1",
   "metadata": {
    "scrolled": true
   },
   "outputs": [
    {
     "name": "stdout",
     "output_type": "stream",
     "text": [
      "The RMSE for the model is: 20455.43\n"
     ]
    }
   ],
   "source": [
    "rmse_train=np.sqrt(mean_squared_error(y_train,y_hat_train))\n",
    "print(\"The RMSE for the model is:\", round(rmse_train,2))"
   ]
  },
  {
   "cell_type": "code",
   "execution_count": 57,
   "id": "882965cf",
   "metadata": {},
   "outputs": [
    {
     "name": "stdout",
     "output_type": "stream",
     "text": [
      "The RMSE for the model is: 27845.68\n"
     ]
    }
   ],
   "source": [
    "rmse_test=np.sqrt(mean_squared_error(y_test,y_hat_test))\n",
    "print(\"The RMSE for the model is:\", round(rmse_test,2))"
   ]
  },
  {
   "cell_type": "code",
   "execution_count": 58,
   "id": "8a8d4db3",
   "metadata": {},
   "outputs": [
    {
     "name": "stdout",
     "output_type": "stream",
     "text": [
      "The R-squared for the model is:  0.93\n"
     ]
    }
   ],
   "source": [
    "r2_score_train = (r2_score(y_train, y_hat_train))\n",
    "print('The R-squared for the model is: ', round(r2_score_train,2))"
   ]
  },
  {
   "cell_type": "code",
   "execution_count": 59,
   "id": "952543b7",
   "metadata": {},
   "outputs": [
    {
     "name": "stdout",
     "output_type": "stream",
     "text": [
      "The R-squared for the model is:  0.87\n"
     ]
    }
   ],
   "source": [
    "r2_score_test = (r2_score(y_test, y_hat_test))\n",
    "print('The R-squared for the model is: ', round(r2_score_test,2))"
   ]
  },
  {
   "cell_type": "markdown",
   "id": "908438ba",
   "metadata": {},
   "source": [
    "# APPLYING DECISION TREE:"
   ]
  },
  {
   "cell_type": "code",
   "execution_count": 60,
   "id": "c8eaa81f",
   "metadata": {},
   "outputs": [
    {
     "data": {
      "text/html": [
       "<style>#sk-container-id-2 {color: black;background-color: white;}#sk-container-id-2 pre{padding: 0;}#sk-container-id-2 div.sk-toggleable {background-color: white;}#sk-container-id-2 label.sk-toggleable__label {cursor: pointer;display: block;width: 100%;margin-bottom: 0;padding: 0.3em;box-sizing: border-box;text-align: center;}#sk-container-id-2 label.sk-toggleable__label-arrow:before {content: \"▸\";float: left;margin-right: 0.25em;color: #696969;}#sk-container-id-2 label.sk-toggleable__label-arrow:hover:before {color: black;}#sk-container-id-2 div.sk-estimator:hover label.sk-toggleable__label-arrow:before {color: black;}#sk-container-id-2 div.sk-toggleable__content {max-height: 0;max-width: 0;overflow: hidden;text-align: left;background-color: #f0f8ff;}#sk-container-id-2 div.sk-toggleable__content pre {margin: 0.2em;color: black;border-radius: 0.25em;background-color: #f0f8ff;}#sk-container-id-2 input.sk-toggleable__control:checked~div.sk-toggleable__content {max-height: 200px;max-width: 100%;overflow: auto;}#sk-container-id-2 input.sk-toggleable__control:checked~label.sk-toggleable__label-arrow:before {content: \"▾\";}#sk-container-id-2 div.sk-estimator input.sk-toggleable__control:checked~label.sk-toggleable__label {background-color: #d4ebff;}#sk-container-id-2 div.sk-label input.sk-toggleable__control:checked~label.sk-toggleable__label {background-color: #d4ebff;}#sk-container-id-2 input.sk-hidden--visually {border: 0;clip: rect(1px 1px 1px 1px);clip: rect(1px, 1px, 1px, 1px);height: 1px;margin: -1px;overflow: hidden;padding: 0;position: absolute;width: 1px;}#sk-container-id-2 div.sk-estimator {font-family: monospace;background-color: #f0f8ff;border: 1px dotted black;border-radius: 0.25em;box-sizing: border-box;margin-bottom: 0.5em;}#sk-container-id-2 div.sk-estimator:hover {background-color: #d4ebff;}#sk-container-id-2 div.sk-parallel-item::after {content: \"\";width: 100%;border-bottom: 1px solid gray;flex-grow: 1;}#sk-container-id-2 div.sk-label:hover label.sk-toggleable__label {background-color: #d4ebff;}#sk-container-id-2 div.sk-serial::before {content: \"\";position: absolute;border-left: 1px solid gray;box-sizing: border-box;top: 0;bottom: 0;left: 50%;z-index: 0;}#sk-container-id-2 div.sk-serial {display: flex;flex-direction: column;align-items: center;background-color: white;padding-right: 0.2em;padding-left: 0.2em;position: relative;}#sk-container-id-2 div.sk-item {position: relative;z-index: 1;}#sk-container-id-2 div.sk-parallel {display: flex;align-items: stretch;justify-content: center;background-color: white;position: relative;}#sk-container-id-2 div.sk-item::before, #sk-container-id-2 div.sk-parallel-item::before {content: \"\";position: absolute;border-left: 1px solid gray;box-sizing: border-box;top: 0;bottom: 0;left: 50%;z-index: -1;}#sk-container-id-2 div.sk-parallel-item {display: flex;flex-direction: column;z-index: 1;position: relative;background-color: white;}#sk-container-id-2 div.sk-parallel-item:first-child::after {align-self: flex-end;width: 50%;}#sk-container-id-2 div.sk-parallel-item:last-child::after {align-self: flex-start;width: 50%;}#sk-container-id-2 div.sk-parallel-item:only-child::after {width: 0;}#sk-container-id-2 div.sk-dashed-wrapped {border: 1px dashed gray;margin: 0 0.4em 0.5em 0.4em;box-sizing: border-box;padding-bottom: 0.4em;background-color: white;}#sk-container-id-2 div.sk-label label {font-family: monospace;font-weight: bold;display: inline-block;line-height: 1.2em;}#sk-container-id-2 div.sk-label-container {text-align: center;}#sk-container-id-2 div.sk-container {/* jupyter's `normalize.less` sets `[hidden] { display: none; }` but bootstrap.min.css set `[hidden] { display: none !important; }` so we also need the `!important` here to be able to override the default hidden behavior on the sphinx rendered scikit-learn.org. See: https://github.com/scikit-learn/scikit-learn/issues/21755 */display: inline-block !important;position: relative;}#sk-container-id-2 div.sk-text-repr-fallback {display: none;}</style><div id=\"sk-container-id-2\" class=\"sk-top-container\"><div class=\"sk-text-repr-fallback\"><pre>DecisionTreeRegressor()</pre><b>In a Jupyter environment, please rerun this cell to show the HTML representation or trust the notebook. <br />On GitHub, the HTML representation is unable to render, please try loading this page with nbviewer.org.</b></div><div class=\"sk-container\" hidden><div class=\"sk-item\"><div class=\"sk-estimator sk-toggleable\"><input class=\"sk-toggleable__control sk-hidden--visually\" id=\"sk-estimator-id-2\" type=\"checkbox\" checked><label for=\"sk-estimator-id-2\" class=\"sk-toggleable__label sk-toggleable__label-arrow\">DecisionTreeRegressor</label><div class=\"sk-toggleable__content\"><pre>DecisionTreeRegressor()</pre></div></div></div></div></div>"
      ],
      "text/plain": [
       "DecisionTreeRegressor()"
      ]
     },
     "execution_count": 60,
     "metadata": {},
     "output_type": "execute_result"
    }
   ],
   "source": [
    "from sklearn.tree import DecisionTreeRegressor\n",
    "dtree = DecisionTreeRegressor()\n",
    "dtree.fit(X_train, y_train)"
   ]
  },
  {
   "cell_type": "code",
   "execution_count": 61,
   "id": "200bd66c",
   "metadata": {},
   "outputs": [],
   "source": [
    "y_hat_train_dtree = dtree.predict(X_train)\n",
    "y_hat_test_dtree = dtree.predict(X_test)"
   ]
  },
  {
   "cell_type": "code",
   "execution_count": 62,
   "id": "7a26bafd",
   "metadata": {},
   "outputs": [],
   "source": [
    "from sklearn.metrics import confusion_matrix"
   ]
  },
  {
   "cell_type": "code",
   "execution_count": 68,
   "id": "77b21dfb",
   "metadata": {},
   "outputs": [
    {
     "name": "stdout",
     "output_type": "stream",
     "text": [
      "r2 score of the model for train data is: 1.0\n"
     ]
    }
   ],
   "source": [
    "print(\"r2 score of the model for train data is:\",round(r2_score(y_train,y_hat_train_dtree),2))"
   ]
  },
  {
   "cell_type": "markdown",
   "id": "8d6613d4",
   "metadata": {},
   "source": [
    "The r2 score for train is :1.0. Because of 1 our train data is very good.\n",
    "    "
   ]
  },
  {
   "cell_type": "code",
   "execution_count": 69,
   "id": "3e09882f",
   "metadata": {},
   "outputs": [
    {
     "name": "stdout",
     "output_type": "stream",
     "text": [
      "r2 score of the model for test data is: 0.81\n"
     ]
    }
   ],
   "source": [
    "print(\"r2 score of the model for test data is:\",round(r2_score(y_test,y_hat_test_dtree),2))"
   ]
  },
  {
   "cell_type": "markdown",
   "id": "c471c98d",
   "metadata": {},
   "source": [
    "1.The r2 score for test data = 0.8. Diff bet train and test is 0.2."
   ]
  },
  {
   "cell_type": "code",
   "execution_count": 70,
   "id": "5fb767c8",
   "metadata": {},
   "outputs": [
    {
     "name": "stdout",
     "output_type": "stream",
     "text": [
      "0.0\n"
     ]
    }
   ],
   "source": [
    "rmse_train = np.sqrt(mean_squared_error(y_train,y_hat_train_dtree))\n",
    "print(round(rmse_train,2))"
   ]
  },
  {
   "cell_type": "code",
   "execution_count": 71,
   "id": "5a1322ba",
   "metadata": {},
   "outputs": [
    {
     "name": "stdout",
     "output_type": "stream",
     "text": [
      "33632.27\n"
     ]
    }
   ],
   "source": [
    "rmse_test_model = np.sqrt(mean_squared_error(y_test,y_hat_test_dtree))\n",
    "print(round(rmse_test_model,2))"
   ]
  },
  {
   "cell_type": "code",
   "execution_count": 73,
   "id": "5dcadc57",
   "metadata": {},
   "outputs": [
    {
     "data": {
      "text/plain": [
       "Text(0.5, 1.0, 'tree for the prediction columns')"
      ]
     },
     "execution_count": 73,
     "metadata": {},
     "output_type": "execute_result"
    },
    {
     "data": {
      "image/png": "[encoded data removed]",
      "text/plain": [
       "<Figure size 1000x500 with 1 Axes>"
      ]
     },
     "metadata": {},
     "output_type": "display_data"
    }
   ],
   "source": [
    "from sklearn.tree import plot_tree\n",
    "plt.figure(figsize=(10,5))\n",
    "clf = DecisionTreeRegressor(max_depth=3).fit(X_train,y_train)\n",
    "plot_tree(clf,filled=True)\n",
    "plt.title(\"tree for the prediction columns\")"
   ]
  },
  {
   "cell_type": "code",
   "execution_count": 63,
   "id": "b142278a",
   "metadata": {},
   "outputs": [],
   "source": []
  },
  {
   "cell_type": "code",
   "execution_count": null,
   "id": "70576800",
   "metadata": {},
   "outputs": [],
   "source": []
  },
  {
   "cell_type": "code",
   "execution_count": null,
   "id": "390684f3",
   "metadata": {},
   "outputs": [],
   "source": []
  },
  {
   "cell_type": "markdown",
   "id": "9ea8b97c",
   "metadata": {},
   "source": [
    "# FEATURE SELECTION:"
   ]
  },
  {
   "cell_type": "code",
   "execution_count": 65,
   "id": "fe138036",
   "metadata": {},
   "outputs": [
    {
     "data": {
      "text/html": [
       "<div>\n",
       "<style scoped>\n",
       "    .dataframe tbody tr th:only-of-type {\n",
       "        vertical-align: middle;\n",
       "    }\n",
       "\n",
       "    .dataframe tbody tr th {\n",
       "        vertical-align: top;\n",
       "    }\n",
       "\n",
       "    .dataframe thead th {\n",
       "        text-align: right;\n",
       "    }\n",
       "</style>\n",
       "<table border=\"1\" class=\"dataframe\">\n",
       "  <thead>\n",
       "    <tr style=\"text-align: right;\">\n",
       "      <th></th>\n",
       "      <th>col_name</th>\n",
       "    </tr>\n",
       "  </thead>\n",
       "  <tbody>\n",
       "    <tr>\n",
       "      <th>GarageCars</th>\n",
       "      <td>0.377871</td>\n",
       "    </tr>\n",
       "    <tr>\n",
       "      <th>GrLivArea</th>\n",
       "      <td>0.226583</td>\n",
       "    </tr>\n",
       "    <tr>\n",
       "      <th>1stFlrSF</th>\n",
       "      <td>0.076039</td>\n",
       "    </tr>\n",
       "    <tr>\n",
       "      <th>ExterQual_TA</th>\n",
       "      <td>0.049528</td>\n",
       "    </tr>\n",
       "    <tr>\n",
       "      <th>TotalBsmtSF</th>\n",
       "      <td>0.036261</td>\n",
       "    </tr>\n",
       "    <tr>\n",
       "      <th>...</th>\n",
       "      <td>...</td>\n",
       "    </tr>\n",
       "    <tr>\n",
       "      <th>Condition2_PosN</th>\n",
       "      <td>0.000000</td>\n",
       "    </tr>\n",
       "    <tr>\n",
       "      <th>Condition2_RRAe</th>\n",
       "      <td>0.000000</td>\n",
       "    </tr>\n",
       "    <tr>\n",
       "      <th>ExterCond_Po</th>\n",
       "      <td>0.000000</td>\n",
       "    </tr>\n",
       "    <tr>\n",
       "      <th>Condition2_RRNn</th>\n",
       "      <td>0.000000</td>\n",
       "    </tr>\n",
       "    <tr>\n",
       "      <th>Exterior1st_Stucco</th>\n",
       "      <td>0.000000</td>\n",
       "    </tr>\n",
       "  </tbody>\n",
       "</table>\n",
       "<p>289 rows × 1 columns</p>\n",
       "</div>"
      ],
      "text/plain": [
       "                    col_name\n",
       "GarageCars          0.377871\n",
       "GrLivArea           0.226583\n",
       "1stFlrSF            0.076039\n",
       "ExterQual_TA        0.049528\n",
       "TotalBsmtSF         0.036261\n",
       "...                      ...\n",
       "Condition2_PosN     0.000000\n",
       "Condition2_RRAe     0.000000\n",
       "ExterCond_Po        0.000000\n",
       "Condition2_RRNn     0.000000\n",
       "Exterior1st_Stucco  0.000000\n",
       "\n",
       "[289 rows x 1 columns]"
      ]
     },
     "execution_count": 65,
     "metadata": {},
     "output_type": "execute_result"
    }
   ],
   "source": [
    "pd.DataFrame({'col_name': dtree.feature_importances_}, index=x.columns).sort_values(by='col_name', ascending=False)"
   ]
  },
  {
   "cell_type": "code",
   "execution_count": 66,
   "id": "8d39f53d",
   "metadata": {},
   "outputs": [
    {
     "name": "stdout",
     "output_type": "stream",
     "text": [
      "                      col_name\n",
      "BsmtHalfBath               0.0\n",
      "PoolArea                   0.0\n",
      "Zone_Class_C (all)         0.0\n",
      "Road_Type_Grvl             0.0\n",
      "Road_Type_Pave             0.0\n",
      "...                        ...\n",
      "SaleType_ConLI             0.0\n",
      "SaleType_ConLw             0.0\n",
      "SaleType_New               0.0\n",
      "SaleType_Oth               0.0\n",
      "SaleCondition_Alloca       0.0\n",
      "\n",
      "[110 rows x 1 columns]\n"
     ]
    }
   ],
   "source": [
    "# Assuming dtree.feature_importances_ is a list or array containing feature importances\n",
    "# and x.columns is a list of column names\n",
    "feature_importances = dtree.feature_importances_\n",
    "columns = x.columns\n",
    "# Create a DataFrame with feature importances and column names\n",
    "feature_importance_df = pd.DataFrame({'col_name': feature_importances}, index=columns)\n",
    "# Filter out columns with feature importance of 0\n",
    "zero_importance_df = feature_importance_df[feature_importance_df['col_name'] == 0]\n",
    "# Display the columns with feature importance of 0\n",
    "print(zero_importance_df)"
   ]
  },
  {
   "cell_type": "code",
   "execution_count": 67,
   "id": "c871401e",
   "metadata": {},
   "outputs": [
    {
     "data": {
      "text/html": [
       "<div>\n",
       "<style scoped>\n",
       "    .dataframe tbody tr th:only-of-type {\n",
       "        vertical-align: middle;\n",
       "    }\n",
       "\n",
       "    .dataframe tbody tr th {\n",
       "        vertical-align: top;\n",
       "    }\n",
       "\n",
       "    .dataframe thead th {\n",
       "        text-align: right;\n",
       "    }\n",
       "</style>\n",
       "<table border=\"1\" class=\"dataframe\">\n",
       "  <thead>\n",
       "    <tr style=\"text-align: right;\">\n",
       "      <th></th>\n",
       "      <th>col_name</th>\n",
       "    </tr>\n",
       "  </thead>\n",
       "  <tbody>\n",
       "    <tr>\n",
       "      <th>BsmtHalfBath</th>\n",
       "      <td>0.0</td>\n",
       "    </tr>\n",
       "    <tr>\n",
       "      <th>PoolArea</th>\n",
       "      <td>0.0</td>\n",
       "    </tr>\n",
       "    <tr>\n",
       "      <th>Zone_Class_C (all)</th>\n",
       "      <td>0.0</td>\n",
       "    </tr>\n",
       "    <tr>\n",
       "      <th>Road_Type_Grvl</th>\n",
       "      <td>0.0</td>\n",
       "    </tr>\n",
       "    <tr>\n",
       "      <th>Road_Type_Pave</th>\n",
       "      <td>0.0</td>\n",
       "    </tr>\n",
       "    <tr>\n",
       "      <th>...</th>\n",
       "      <td>...</td>\n",
       "    </tr>\n",
       "    <tr>\n",
       "      <th>SaleType_ConLI</th>\n",
       "      <td>0.0</td>\n",
       "    </tr>\n",
       "    <tr>\n",
       "      <th>SaleType_ConLw</th>\n",
       "      <td>0.0</td>\n",
       "    </tr>\n",
       "    <tr>\n",
       "      <th>SaleType_New</th>\n",
       "      <td>0.0</td>\n",
       "    </tr>\n",
       "    <tr>\n",
       "      <th>SaleType_Oth</th>\n",
       "      <td>0.0</td>\n",
       "    </tr>\n",
       "    <tr>\n",
       "      <th>SaleCondition_Alloca</th>\n",
       "      <td>0.0</td>\n",
       "    </tr>\n",
       "  </tbody>\n",
       "</table>\n",
       "<p>110 rows × 1 columns</p>\n",
       "</div>"
      ],
      "text/plain": [
       "                      col_name\n",
       "BsmtHalfBath               0.0\n",
       "PoolArea                   0.0\n",
       "Zone_Class_C (all)         0.0\n",
       "Road_Type_Grvl             0.0\n",
       "Road_Type_Pave             0.0\n",
       "...                        ...\n",
       "SaleType_ConLI             0.0\n",
       "SaleType_ConLw             0.0\n",
       "SaleType_New               0.0\n",
       "SaleType_Oth               0.0\n",
       "SaleCondition_Alloca       0.0\n",
       "\n",
       "[110 rows x 1 columns]"
      ]
     },
     "execution_count": 67,
     "metadata": {},
     "output_type": "execute_result"
    }
   ],
   "source": [
    "zero_importance_df"
   ]
  },
  {
   "cell_type": "code",
   "execution_count": 78,
   "id": "8705060f",
   "metadata": {},
   "outputs": [],
   "source": [
    "#Dropping some features\n",
    "train_enc.drop(['3SsnPorch',\n",
    "'MiscVal',\n",
    "'Zone_Class_RH',\n",
    "'Road_Type_Grvl',\n",
    "'Road_Type_Pave',\n",
    "'Property_Shape_IR3',\n",
    "'LandContour_Bnk' ,\n",
    "'Utilities_AllPub',\n",
    "'Utilities_NoSeWa',\n",
    "'LotConfig_FR3' ,\n",
    "'LandSlope_Sev' ,\n",
    "'Neighborhood_Blueste',\n",
    "'Neighborhood_BrDale' ,\n",
    "'Neighborhood_MeadowV',\n",
    "'Condition1_PosA' ,\n",
    "'Condition1_PosN' ,\n",
    "'Condition1_RRAe' ,\n",
    "'Condition1_RRAn' ,\n",
    "'Condition1_RRNn' ,\n",
    "'Condition2_Artery',\n",
    "'Condition2_Feedr'  ,\n",
    "'Condition2_Norm' ,\n",
    "'Condition2_PosA' ,\n",
    "'Condition2_PosN' ,\n",
    "'Condition2_RRAe',\n",
    "'Condition2_RRAn' ,\n",
    "'Condition2_RRNn' ,\n",
    "'Dwelling_Type_Duplex',\n",
    "'HouseStyle_2.5Fin',\n",
    "'HouseStyle_SFoyer' ,\n",
    "'RoofStyle_Flat'  ,\n",
    "'RoofStyle_Mansard',\n",
    "'RoofStyle_Shed'  ,\n",
    "'RoofMatl_Membran',\n",
    "'RoofMatl_Metal'  ,\n",
    "'RoofMatl_Roll' ,\n",
    "'RoofMatl_Tar&Grv' ,\n",
    "'RoofMatl_WdShake',\n",
    "'RoofMatl_WdShngl',\n",
    "'Exterior1st_AsbShng',\n",
    "'Exterior1st_AsphShn' ,\n",
    "'Exterior1st_BrkComm' ,\n",
    "'Exterior1st_CBlock'  ,\n",
    "'Exterior1st_Stucco'  ,\n",
    "'Exterior2nd_AsphShn' ,\n",
    "'Exterior2nd_CBlock'  ,\n",
    "'Exterior2nd_Other' ,\n",
    "'Exterior2nd_Stone' ,\n",
    "'Exterior2nd_Stucco',\n",
    "'ExterCond_Ex',\n",
    "'ExterCond_Fa',\n",
    "'ExterCond_Po'  ,\n",
    "'Foundation_Slab',\n",
    "'Foundation_Stone',\n",
    "'Foundation_Wood' ,\n",
    "'BsmtQual_Fa' ,\n",
    "'BsmtCond_Gd' ,\n",
    "'BsmtCond_Po' ,\n",
    "'BsmtFinType2_ALQ',\n",
    "'BsmtFinType2_GLQ',\n",
    "'BsmtFinType2_Unf',\n",
    "'Heating_Floor' ,\n",
    "'Heating_GasW'  ,\n",
    "'Heating_OthW'  ,\n",
    "'Heating_Wall'  ,\n",
    "'HeatingQC_Fa'  ,\n",
    "'HeatingQC_Po'  ,\n",
    "'Electrical_Mix',\n",
    "'Functional_Maj1' ,\n",
    "'Functional_Maj2' ,\n",
    "'Functional_Min1' ,\n",
    "'Functional_Mod'  ,\n",
    "'Functional_Sev'  ,\n",
    "'SaleType_COD'  ,\n",
    "'SaleType_CWD',\n",
    "'SaleType_Con',\n",
    "'SaleType_ConLD',\n",
    "'SaleType_ConLI',\n",
    "'SaleType_ConLw',\n",
    "'SaleType_New'  ,\n",
    "'SaleCondition_AdjLand' ,\n",
    "'SaleCondition_Alloca'],inplace = True, axis=1)"
   ]
  },
  {
   "cell_type": "code",
   "execution_count": 79,
   "id": "70b3cd96",
   "metadata": {},
   "outputs": [
    {
     "name": "stdout",
     "output_type": "stream",
     "text": [
      "<class 'pandas.core.frame.DataFrame'>\n",
      "RangeIndex: 2073 entries, 0 to 2072\n",
      "Columns: 208 entries, Id to SaleCondition_Partial\n",
      "dtypes: int32(3), int64(33), uint8(172)\n",
      "memory usage: 907.1 KB\n"
     ]
    }
   ],
   "source": [
    "train_enc.info()"
   ]
  },
  {
   "cell_type": "markdown",
   "id": "90fc66f2",
   "metadata": {},
   "source": [
    "Dividing x and y"
   ]
  },
  {
   "cell_type": "code",
   "execution_count": 80,
   "id": "3e3cbe1a",
   "metadata": {},
   "outputs": [],
   "source": [
    "y=train_enc['Property_Sale_Price']\n",
    "x=train_enc.drop('Property_Sale_Price',axis=1)"
   ]
  },
  {
   "cell_type": "code",
   "execution_count": 81,
   "id": "eff61bf3",
   "metadata": {},
   "outputs": [
    {
     "name": "stdout",
     "output_type": "stream",
     "text": [
      "(2073,)\n",
      "(2073, 207)\n"
     ]
    }
   ],
   "source": [
    "print(y.shape)\n",
    "print(x.shape)"
   ]
  },
  {
   "cell_type": "markdown",
   "id": "80f76172",
   "metadata": {},
   "source": [
    "# Train Test Split:"
   ]
  },
  {
   "cell_type": "code",
   "execution_count": 82,
   "id": "30752bcf",
   "metadata": {},
   "outputs": [],
   "source": [
    "x_train, x_test, y_train, y_test = train_test_split(x, y, test_size=0.2,random_state=42)"
   ]
  },
  {
   "cell_type": "code",
   "execution_count": 83,
   "id": "d68828d0",
   "metadata": {},
   "outputs": [
    {
     "name": "stdout",
     "output_type": "stream",
     "text": [
      "(1658, 207)\n",
      "(1658,)\n",
      "(415, 207)\n",
      "(415,)\n"
     ]
    }
   ],
   "source": [
    "print(x_train.shape)\n",
    "print(y_train.shape)\n",
    "print(x_test.shape)\n",
    "print(y_test.shape)"
   ]
  },
  {
   "cell_type": "code",
   "execution_count": 84,
   "id": "656a2f8b",
   "metadata": {},
   "outputs": [
    {
     "data": {
      "text/html": [
       "<style>#sk-container-id-3 {color: black;background-color: white;}#sk-container-id-3 pre{padding: 0;}#sk-container-id-3 div.sk-toggleable {background-color: white;}#sk-container-id-3 label.sk-toggleable__label {cursor: pointer;display: block;width: 100%;margin-bottom: 0;padding: 0.3em;box-sizing: border-box;text-align: center;}#sk-container-id-3 label.sk-toggleable__label-arrow:before {content: \"▸\";float: left;margin-right: 0.25em;color: #696969;}#sk-container-id-3 label.sk-toggleable__label-arrow:hover:before {color: black;}#sk-container-id-3 div.sk-estimator:hover label.sk-toggleable__label-arrow:before {color: black;}#sk-container-id-3 div.sk-toggleable__content {max-height: 0;max-width: 0;overflow: hidden;text-align: left;background-color: #f0f8ff;}#sk-container-id-3 div.sk-toggleable__content pre {margin: 0.2em;color: black;border-radius: 0.25em;background-color: #f0f8ff;}#sk-container-id-3 input.sk-toggleable__control:checked~div.sk-toggleable__content {max-height: 200px;max-width: 100%;overflow: auto;}#sk-container-id-3 input.sk-toggleable__control:checked~label.sk-toggleable__label-arrow:before {content: \"▾\";}#sk-container-id-3 div.sk-estimator input.sk-toggleable__control:checked~label.sk-toggleable__label {background-color: #d4ebff;}#sk-container-id-3 div.sk-label input.sk-toggleable__control:checked~label.sk-toggleable__label {background-color: #d4ebff;}#sk-container-id-3 input.sk-hidden--visually {border: 0;clip: rect(1px 1px 1px 1px);clip: rect(1px, 1px, 1px, 1px);height: 1px;margin: -1px;overflow: hidden;padding: 0;position: absolute;width: 1px;}#sk-container-id-3 div.sk-estimator {font-family: monospace;background-color: #f0f8ff;border: 1px dotted black;border-radius: 0.25em;box-sizing: border-box;margin-bottom: 0.5em;}#sk-container-id-3 div.sk-estimator:hover {background-color: #d4ebff;}#sk-container-id-3 div.sk-parallel-item::after {content: \"\";width: 100%;border-bottom: 1px solid gray;flex-grow: 1;}#sk-container-id-3 div.sk-label:hover label.sk-toggleable__label {background-color: #d4ebff;}#sk-container-id-3 div.sk-serial::before {content: \"\";position: absolute;border-left: 1px solid gray;box-sizing: border-box;top: 0;bottom: 0;left: 50%;z-index: 0;}#sk-container-id-3 div.sk-serial {display: flex;flex-direction: column;align-items: center;background-color: white;padding-right: 0.2em;padding-left: 0.2em;position: relative;}#sk-container-id-3 div.sk-item {position: relative;z-index: 1;}#sk-container-id-3 div.sk-parallel {display: flex;align-items: stretch;justify-content: center;background-color: white;position: relative;}#sk-container-id-3 div.sk-item::before, #sk-container-id-3 div.sk-parallel-item::before {content: \"\";position: absolute;border-left: 1px solid gray;box-sizing: border-box;top: 0;bottom: 0;left: 50%;z-index: -1;}#sk-container-id-3 div.sk-parallel-item {display: flex;flex-direction: column;z-index: 1;position: relative;background-color: white;}#sk-container-id-3 div.sk-parallel-item:first-child::after {align-self: flex-end;width: 50%;}#sk-container-id-3 div.sk-parallel-item:last-child::after {align-self: flex-start;width: 50%;}#sk-container-id-3 div.sk-parallel-item:only-child::after {width: 0;}#sk-container-id-3 div.sk-dashed-wrapped {border: 1px dashed gray;margin: 0 0.4em 0.5em 0.4em;box-sizing: border-box;padding-bottom: 0.4em;background-color: white;}#sk-container-id-3 div.sk-label label {font-family: monospace;font-weight: bold;display: inline-block;line-height: 1.2em;}#sk-container-id-3 div.sk-label-container {text-align: center;}#sk-container-id-3 div.sk-container {/* jupyter's `normalize.less` sets `[hidden] { display: none; }` but bootstrap.min.css set `[hidden] { display: none !important; }` so we also need the `!important` here to be able to override the default hidden behavior on the sphinx rendered scikit-learn.org. See: https://github.com/scikit-learn/scikit-learn/issues/21755 */display: inline-block !important;position: relative;}#sk-container-id-3 div.sk-text-repr-fallback {display: none;}</style><div id=\"sk-container-id-3\" class=\"sk-top-container\"><div class=\"sk-text-repr-fallback\"><pre>LinearRegression()</pre><b>In a Jupyter environment, please rerun this cell to show the HTML representation or trust the notebook. <br />On GitHub, the HTML representation is unable to render, please try loading this page with nbviewer.org.</b></div><div class=\"sk-container\" hidden><div class=\"sk-item\"><div class=\"sk-estimator sk-toggleable\"><input class=\"sk-toggleable__control sk-hidden--visually\" id=\"sk-estimator-id-3\" type=\"checkbox\" checked><label for=\"sk-estimator-id-3\" class=\"sk-toggleable__label sk-toggleable__label-arrow\">LinearRegression</label><div class=\"sk-toggleable__content\"><pre>LinearRegression()</pre></div></div></div></div></div>"
      ],
      "text/plain": [
       "LinearRegression()"
      ]
     },
     "execution_count": 84,
     "metadata": {},
     "output_type": "execute_result"
    }
   ],
   "source": [
    "lr=LinearRegression()\n",
    "lr.fit(x_train,y_train)"
   ]
  },
  {
   "cell_type": "code",
   "execution_count": 85,
   "id": "2ab175bc",
   "metadata": {},
   "outputs": [
    {
     "name": "stdout",
     "output_type": "stream",
     "text": [
      "140575.63878103666\n"
     ]
    }
   ],
   "source": [
    "print(lr.intercept_)"
   ]
  },
  {
   "cell_type": "code",
   "execution_count": 86,
   "id": "15a2a87c",
   "metadata": {
    "collapsed": true
   },
   "outputs": [
    {
     "name": "stdout",
     "output_type": "stream",
     "text": [
      "[-1.43548667e+00 -1.75289191e+00 -9.68819217e+00  3.21408022e-01\n",
      "  8.81076290e+02  2.25689300e+03  2.35756037e+01  9.62499490e+01\n",
      "  2.29677556e+01  1.23612874e+01  1.24520518e+01 -2.06613638e+00\n",
      "  2.27471739e+01  2.30836965e+01  2.44146528e+01 -2.58643448e+01\n",
      "  2.16339900e+01  1.09280230e+03  2.33000578e+02  6.37941021e+03\n",
      "  4.22803789e+03 -3.28028555e+03 -1.16952680e+04  2.92552035e+03\n",
      "  8.87362973e+03 -5.99985803e+01  4.65639732e+03  1.38449569e+01\n",
      "  1.73175969e+01  7.41177592e+00  9.17905376e+00  2.24516275e+01\n",
      "  9.44334872e+01 -3.26103799e+02 -1.24824914e+02 -3.31349697e+04\n",
      " -9.87533304e+03 -7.38118674e+03 -6.98251257e+03  9.31967890e+01\n",
      "  7.65267645e+03 -1.55855504e+04 -8.91417024e+03 -1.39844174e+04\n",
      "  1.40613333e+04  1.65566577e+03  9.28763301e+03  6.10969121e+03\n",
      "  1.28968372e+04 -2.17061075e+03  4.98927550e+03  2.84930248e+04\n",
      "  3.26647163e+04  7.30521633e+01 -1.09433248e+04 -1.09221077e+04\n",
      " -6.29569048e+03  1.43635255e+04 -2.61803059e+04 -8.00067441e+03\n",
      " -1.99400687e+04 -1.76030902e+04 -1.56640874e+04  2.33503932e+04\n",
      " -7.21734166e+03  3.44748073e+04  2.37287358e+04 -2.51951063e+04\n",
      " -1.70336263e+04 -9.57263982e+03 -2.44450889e+03  1.43743286e+04\n",
      "  5.01990356e+04 -9.51960578e+03  2.39151185e+04  5.71750456e+03\n",
      "  3.63956455e+03  1.41385323e+04  5.88821729e+03  2.34323393e+04\n",
      "  1.06701704e+04 -4.81524234e+03 -1.89839658e+03  3.41739971e+03\n",
      "  1.88448370e+04  5.43080278e+03  3.26502393e+03  2.20384600e+03\n",
      "  3.82077176e+03  1.96148943e+04  2.16994475e+04  2.14772967e+04\n",
      " -6.59117998e+05 -3.05307347e+04 -1.78299762e+03 -3.92509015e+03\n",
      " -2.49542991e+04 -2.25901812e+04 -1.88079495e+04 -2.14627801e+04\n",
      " -4.30217112e+04 -3.07328016e+04 -2.61257290e+04 -1.71303610e+04\n",
      " -1.53192741e+04 -1.66979575e+04 -2.44711495e+03 -2.07213262e+04\n",
      "  5.91868075e+03  3.86695743e+03  3.13756844e+03  1.44589499e+03\n",
      "  1.56370517e+04  8.82306424e+03  7.76987545e-01 -1.20892502e+04\n",
      " -3.17170064e+01  3.39698040e+03  8.72398678e+03  2.09833533e+04\n",
      " -4.50040510e+03 -6.88653811e+03 -9.59641009e+03 -4.45205319e+03\n",
      " -2.46105181e+03 -9.84962796e+03 -7.35435331e+02 -1.26571712e+03\n",
      "  2.01780153e+04  1.41736673e+03 -4.22008949e+01 -7.90047574e+03\n",
      "  1.15287669e+02 -3.63600321e+03  1.68347019e+04 -4.79000228e+03\n",
      " -8.40869645e+03  2.68596735e+02 -4.83038148e+02  6.68405823e+03\n",
      " -6.74023313e+03 -1.48494663e+03  1.75556295e+03 -7.14856940e+03\n",
      " -5.02997731e+03 -6.73820632e+03 -7.04904762e+01 -5.81827235e+03\n",
      "  7.95658398e+03  2.91855493e+03  2.29586960e+03  7.78971479e+02\n",
      " -7.78971479e+02  1.13559888e+04  4.42440750e+03 -1.14865020e+03\n",
      "  1.17805365e+04  1.82355752e+04 -4.50052565e+03 -4.72979196e+03\n",
      " -9.00525757e+03  1.29530352e+03  1.56023066e+04 -5.73018802e+03\n",
      " -1.38693806e+04 -6.77037309e+03 -7.32950022e+03 -8.25102157e+03\n",
      " -2.27256213e+04  6.20506269e+03 -2.57349954e+03  9.64940244e+03\n",
      "  4.30260207e+03  5.14205362e+03  1.78536019e+03 -3.14461904e+03\n",
      "  1.35925886e+03  5.06812864e+03 -4.20756729e+03  9.17931011e+03\n",
      " -1.09558828e+04  9.16011382e+02  5.06812864e+03 -9.33981096e+03\n",
      " -3.70256299e+03  7.96462123e+03  9.62407849e+00  4.47759417e+03\n",
      " -2.55673414e+03 -1.92086003e+03 -6.72405572e+04 -3.56323565e+04\n",
      " -1.62059335e+04 -1.00664078e+03  9.97709366e+02  1.85640578e+03\n",
      " -7.53950925e+03  1.68522149e+04  1.60397103e+04  4.09699017e+03\n",
      " -2.77233849e+04 -6.08218854e+02 -6.90771285e+03 -2.17032665e+04\n",
      " -1.63698997e+04 -1.13843699e+04 -3.71389536e+03]\n"
     ]
    }
   ],
   "source": [
    "print(lr.coef_)"
   ]
  },
  {
   "cell_type": "code",
   "execution_count": 87,
   "id": "273f2bdb",
   "metadata": {
    "collapsed": true
   },
   "outputs": [
    {
     "name": "stdout",
     "output_type": "stream",
     "text": [
      "Id: -1.44\n",
      "Dwell_Type: -1.75\n",
      "LotFrontage: -9.69\n",
      "LotArea: 0.32\n",
      "OverallQual: 881.08\n",
      "OverallCond: 2256.89\n",
      "YearBuilt: 23.58\n",
      "YearRemodAdd: 96.25\n",
      "MasVnrArea: 22.97\n",
      "BsmtFinSF1: 12.36\n",
      "BsmtFinSF2: 12.45\n",
      "BsmtUnfSF: -2.07\n",
      "TotalBsmtSF: 22.75\n",
      "1stFlrSF: 23.08\n",
      "2ndFlrSF: 24.41\n",
      "LowQualFinSF: -25.86\n",
      "GrLivArea: 21.63\n",
      "BsmtFullBath: 1092.80\n",
      "BsmtHalfBath: 233.00\n",
      "FullBath: 6379.41\n",
      "HalfBath: 4228.04\n",
      "BedroomAbvGr: -3280.29\n",
      "KitchenAbvGr: -11695.27\n",
      "TotRmsAbvGrd: 2925.52\n",
      "Fireplaces: 8873.63\n",
      "GarageYrBlt: -60.00\n",
      "GarageCars: 4656.40\n",
      "GarageArea: 13.84\n",
      "WoodDeckSF: 17.32\n",
      "OpenPorchSF: 7.41\n",
      "EnclosedPorch: 9.18\n",
      "ScreenPorch: 22.45\n",
      "PoolArea: 94.43\n",
      "MoSold: -326.10\n",
      "YrSold: -124.82\n",
      "Zone_Class_C (all): -33134.97\n",
      "Zone_Class_FV: -9875.33\n",
      "Zone_Class_RL: -7381.19\n",
      "Zone_Class_RM: -6982.51\n",
      "Alley_Grvl: 93.20\n",
      "Alley_Pave: 7652.68\n",
      "Property_Shape_IR1: -15585.55\n",
      "Property_Shape_IR2: -8914.17\n",
      "Property_Shape_Reg: -13984.42\n",
      "LandContour_HLS: 14061.33\n",
      "LandContour_Low: 1655.67\n",
      "LandContour_Lvl: 9287.63\n",
      "LotConfig_Corner: 6109.69\n",
      "LotConfig_CulDSac: 12896.84\n",
      "LotConfig_FR2: -2170.61\n",
      "LotConfig_Inside: 4989.28\n",
      "LandSlope_Gtl: 28493.02\n",
      "LandSlope_Mod: 32664.72\n",
      "Neighborhood_Blmngtn: 73.05\n",
      "Neighborhood_BrkSide: -10943.32\n",
      "Neighborhood_ClearCr: -10922.11\n",
      "Neighborhood_CollgCr: -6295.69\n",
      "Neighborhood_Crawfor: 14363.53\n",
      "Neighborhood_Edwards: -26180.31\n",
      "Neighborhood_Gilbert: -8000.67\n",
      "Neighborhood_IDOTRR: -19940.07\n",
      "Neighborhood_Mitchel: -17603.09\n",
      "Neighborhood_NAmes: -15664.09\n",
      "Neighborhood_NPkVill: 23350.39\n",
      "Neighborhood_NWAmes: -7217.34\n",
      "Neighborhood_NoRidge: 34474.81\n",
      "Neighborhood_NridgHt: 23728.74\n",
      "Neighborhood_OldTown: -25195.11\n",
      "Neighborhood_SWISU: -17033.63\n",
      "Neighborhood_Sawyer: -9572.64\n",
      "Neighborhood_SawyerW: -2444.51\n",
      "Neighborhood_Somerst: 14374.33\n",
      "Neighborhood_StoneBr: 50199.04\n",
      "Neighborhood_Timber: -9519.61\n",
      "Neighborhood_Veenker: 23915.12\n",
      "Condition1_Artery: 5717.50\n",
      "Condition1_Feedr: 3639.56\n",
      "Condition1_Norm: 14138.53\n",
      "Condition1_RRNe: 5888.22\n",
      "Dwelling_Type_1Fam: 23432.34\n",
      "Dwelling_Type_2fmCon: 10670.17\n",
      "Dwelling_Type_Twnhs: -4815.24\n",
      "Dwelling_Type_TwnhsE: -1898.40\n",
      "HouseStyle_1.5Fin: 3417.40\n",
      "HouseStyle_1.5Unf: 18844.84\n",
      "HouseStyle_1Story: 5430.80\n",
      "HouseStyle_2.5Unf: 3265.02\n",
      "HouseStyle_2Story: 2203.85\n",
      "HouseStyle_SLvl: 3820.77\n",
      "RoofStyle_Gable: 19614.89\n",
      "RoofStyle_Gambrel: 21699.45\n",
      "RoofStyle_Hip: 21477.30\n",
      "RoofMatl_ClyTile: -659118.00\n",
      "RoofMatl_CompShg: -30530.73\n",
      "Exterior1st_BrkFace: -1783.00\n",
      "Exterior1st_CemntBd: -3925.09\n",
      "Exterior1st_HdBoard: -24954.30\n",
      "Exterior1st_ImStucc: -22590.18\n",
      "Exterior1st_MetalSd: -18807.95\n",
      "Exterior1st_Plywood: -21462.78\n",
      "Exterior1st_Stone: -43021.71\n",
      "Exterior1st_VinylSd: -30732.80\n",
      "Exterior1st_Wd Sdng: -26125.73\n",
      "Exterior1st_WdShing: -17130.36\n",
      "Exterior2nd_AsbShng: -15319.27\n",
      "Exterior2nd_Brk Cmn: -16697.96\n",
      "Exterior2nd_BrkFace: -2447.11\n",
      "Exterior2nd_CmentBd: -20721.33\n",
      "Exterior2nd_HdBoard: 5918.68\n",
      "Exterior2nd_ImStucc: 3866.96\n",
      "Exterior2nd_MetalSd: 3137.57\n",
      "Exterior2nd_Plywood: 1445.89\n",
      "Exterior2nd_VinylSd: 15637.05\n",
      "Exterior2nd_Wd Sdng: 8823.06\n",
      "Exterior2nd_Wd Shng: 0.78\n",
      "MasVnrType_BrkCmn: -12089.25\n",
      "MasVnrType_BrkFace: -31.72\n",
      "MasVnrType_None: 3396.98\n",
      "MasVnrType_Stone: 8723.99\n",
      "ExterQual_Ex: 20983.35\n",
      "ExterQual_Fa: -4500.41\n",
      "ExterQual_Gd: -6886.54\n",
      "ExterQual_TA: -9596.41\n",
      "ExterCond_Gd: -4452.05\n",
      "ExterCond_TA: -2461.05\n",
      "Foundation_BrkTil: -9849.63\n",
      "Foundation_CBlock: -735.44\n",
      "Foundation_PConc: -1265.72\n",
      "BsmtQual_Ex: 20178.02\n",
      "BsmtQual_Gd: 1417.37\n",
      "BsmtQual_TA: -42.20\n",
      "BsmtCond_Fa: -7900.48\n",
      "BsmtCond_TA: 115.29\n",
      "BsmtExposure_Av: -3636.00\n",
      "BsmtExposure_Gd: 16834.70\n",
      "BsmtExposure_Mn: -4790.00\n",
      "BsmtExposure_No: -8408.70\n",
      "BsmtFinType1_ALQ: 268.60\n",
      "BsmtFinType1_BLQ: -483.04\n",
      "BsmtFinType1_GLQ: 6684.06\n",
      "BsmtFinType1_LwQ: -6740.23\n",
      "BsmtFinType1_Rec: -1484.95\n",
      "BsmtFinType1_Unf: 1755.56\n",
      "BsmtFinType2_BLQ: -7148.57\n",
      "BsmtFinType2_LwQ: -5029.98\n",
      "BsmtFinType2_Rec: -6738.21\n",
      "Heating_GasA: -70.49\n",
      "Heating_Grav: -5818.27\n",
      "HeatingQC_Ex: 7956.58\n",
      "HeatingQC_Gd: 2918.55\n",
      "HeatingQC_TA: 2295.87\n",
      "CentralAir_N: 778.97\n",
      "CentralAir_Y: -778.97\n",
      "Electrical_FuseA: 11355.99\n",
      "Electrical_FuseF: 4424.41\n",
      "Electrical_FuseP: -1148.65\n",
      "Electrical_SBrkr: 11780.54\n",
      "KitchenQual_Ex: 18235.58\n",
      "KitchenQual_Fa: -4500.53\n",
      "KitchenQual_Gd: -4729.79\n",
      "KitchenQual_TA: -9005.26\n",
      "Functional_Min2: 1295.30\n",
      "Functional_Typ: 15602.31\n",
      "FireplaceQu_Ex: -5730.19\n",
      "FireplaceQu_Fa: -13869.38\n",
      "FireplaceQu_Gd: -6770.37\n",
      "FireplaceQu_Po: -7329.50\n",
      "FireplaceQu_TA: -8251.02\n",
      "GarageType_2Types: -22725.62\n",
      "GarageType_Attchd: 6205.06\n",
      "GarageType_Basment: -2573.50\n",
      "GarageType_BuiltIn: 9649.40\n",
      "GarageType_CarPort: 4302.60\n",
      "GarageType_Detchd: 5142.05\n",
      "GarageFinish_Fin: 1785.36\n",
      "GarageFinish_RFn: -3144.62\n",
      "GarageFinish_Unf: 1359.26\n",
      "GarageQual_Ex: 5068.13\n",
      "GarageQual_Fa: -4207.57\n",
      "GarageQual_Gd: 9179.31\n",
      "GarageQual_Po: -10955.88\n",
      "GarageQual_TA: 916.01\n",
      "GarageCond_Ex: 5068.13\n",
      "GarageCond_Fa: -9339.81\n",
      "GarageCond_Gd: -3702.56\n",
      "GarageCond_Po: 7964.62\n",
      "GarageCond_TA: 9.62\n",
      "PavedDrive_N: 4477.59\n",
      "PavedDrive_P: -2556.73\n",
      "PavedDrive_Y: -1920.86\n",
      "PoolQC_Ex: -67240.56\n",
      "PoolQC_Fa: -35632.36\n",
      "PoolQC_Gd: -16205.93\n",
      "Fence_GdPrv: -1006.64\n",
      "Fence_GdWo: 997.71\n",
      "Fence_MnPrv: 1856.41\n",
      "Fence_MnWw: -7539.51\n",
      "MiscFeature_Gar2: 16852.21\n",
      "MiscFeature_Othr: 16039.71\n",
      "MiscFeature_Shed: 4096.99\n",
      "MiscFeature_TenC: -27723.38\n",
      "SaleType_Oth: -608.22\n",
      "SaleType_WD: -6907.71\n",
      "SaleCondition_Abnorml: -21703.27\n",
      "SaleCondition_Family: -16369.90\n",
      "SaleCondition_Normal: -11384.37\n",
      "SaleCondition_Partial: -3713.90\n"
     ]
    }
   ],
   "source": [
    "for coef, feature in zip(lr.coef_, x_train.columns):\n",
    "    print(f\"{feature}: {coef:.2f}\")  # Format to 2 decimal places"
   ]
  },
  {
   "cell_type": "code",
   "execution_count": 88,
   "id": "c9eb3dbb",
   "metadata": {},
   "outputs": [],
   "source": [
    "y_hat_train=lr.predict(x_train)\n",
    "y_hat_test=lr.predict(x_test)"
   ]
  },
  {
   "cell_type": "code",
   "execution_count": 89,
   "id": "845a37a7",
   "metadata": {},
   "outputs": [
    {
     "data": {
      "text/plain": [
       "array([203794.0615719 , 126267.04397948, 148081.48267846, ...,\n",
       "       166648.65281959, 114878.64471025, 179407.24000676])"
      ]
     },
     "execution_count": 89,
     "metadata": {},
     "output_type": "execute_result"
    }
   ],
   "source": [
    "y_hat_train #predicted"
   ]
  },
  {
   "cell_type": "code",
   "execution_count": 91,
   "id": "6024ee0c",
   "metadata": {},
   "outputs": [
    {
     "name": "stdout",
     "output_type": "stream",
     "text": [
      "The Rms for the model is 22417.39\n"
     ]
    }
   ],
   "source": [
    "rms_train=np.sqrt(mean_squared_error(y_train,y_hat_train))\n",
    "print(\"The Rms for the model is\",round(rms_train,2))"
   ]
  },
  {
   "cell_type": "code",
   "execution_count": 92,
   "id": "a4389c90",
   "metadata": {},
   "outputs": [
    {
     "name": "stdout",
     "output_type": "stream",
     "text": [
      "The Rms for the model is 26462.67\n"
     ]
    }
   ],
   "source": [
    "rms_test=np.sqrt(mean_squared_error(y_test,y_hat_test))\n",
    "print(\"The Rms for the model is\",round(rms_test,2))"
   ]
  },
  {
   "cell_type": "code",
   "execution_count": 93,
   "id": "3d070f0a",
   "metadata": {},
   "outputs": [
    {
     "name": "stdout",
     "output_type": "stream",
     "text": [
      "The R2_score for the model is 0.92\n"
     ]
    }
   ],
   "source": [
    "r2_score_train=(r2_score(y_train,y_hat_train))\n",
    "print(\"The R2_score for the model is\",round(r2_score_train,2))"
   ]
  },
  {
   "cell_type": "code",
   "execution_count": 94,
   "id": "2f425681",
   "metadata": {},
   "outputs": [
    {
     "name": "stdout",
     "output_type": "stream",
     "text": [
      "The R2_score for the model is 0.88\n"
     ]
    }
   ],
   "source": [
    "r2_score_test=(r2_score(y_test,y_hat_test))\n",
    "print(\"The R2_score for the model is\",round(r2_score_test,2))"
   ]
  },
  {
   "cell_type": "markdown",
   "id": "5e09e81c",
   "metadata": {},
   "source": [
    "# DECISION TREE1:"
   ]
  },
  {
   "cell_type": "code",
   "execution_count": 95,
   "id": "877780f7",
   "metadata": {},
   "outputs": [
    {
     "data": {
      "text/html": [
       "<style>#sk-container-id-4 {color: black;background-color: white;}#sk-container-id-4 pre{padding: 0;}#sk-container-id-4 div.sk-toggleable {background-color: white;}#sk-container-id-4 label.sk-toggleable__label {cursor: pointer;display: block;width: 100%;margin-bottom: 0;padding: 0.3em;box-sizing: border-box;text-align: center;}#sk-container-id-4 label.sk-toggleable__label-arrow:before {content: \"▸\";float: left;margin-right: 0.25em;color: #696969;}#sk-container-id-4 label.sk-toggleable__label-arrow:hover:before {color: black;}#sk-container-id-4 div.sk-estimator:hover label.sk-toggleable__label-arrow:before {color: black;}#sk-container-id-4 div.sk-toggleable__content {max-height: 0;max-width: 0;overflow: hidden;text-align: left;background-color: #f0f8ff;}#sk-container-id-4 div.sk-toggleable__content pre {margin: 0.2em;color: black;border-radius: 0.25em;background-color: #f0f8ff;}#sk-container-id-4 input.sk-toggleable__control:checked~div.sk-toggleable__content {max-height: 200px;max-width: 100%;overflow: auto;}#sk-container-id-4 input.sk-toggleable__control:checked~label.sk-toggleable__label-arrow:before {content: \"▾\";}#sk-container-id-4 div.sk-estimator input.sk-toggleable__control:checked~label.sk-toggleable__label {background-color: #d4ebff;}#sk-container-id-4 div.sk-label input.sk-toggleable__control:checked~label.sk-toggleable__label {background-color: #d4ebff;}#sk-container-id-4 input.sk-hidden--visually {border: 0;clip: rect(1px 1px 1px 1px);clip: rect(1px, 1px, 1px, 1px);height: 1px;margin: -1px;overflow: hidden;padding: 0;position: absolute;width: 1px;}#sk-container-id-4 div.sk-estimator {font-family: monospace;background-color: #f0f8ff;border: 1px dotted black;border-radius: 0.25em;box-sizing: border-box;margin-bottom: 0.5em;}#sk-container-id-4 div.sk-estimator:hover {background-color: #d4ebff;}#sk-container-id-4 div.sk-parallel-item::after {content: \"\";width: 100%;border-bottom: 1px solid gray;flex-grow: 1;}#sk-container-id-4 div.sk-label:hover label.sk-toggleable__label {background-color: #d4ebff;}#sk-container-id-4 div.sk-serial::before {content: \"\";position: absolute;border-left: 1px solid gray;box-sizing: border-box;top: 0;bottom: 0;left: 50%;z-index: 0;}#sk-container-id-4 div.sk-serial {display: flex;flex-direction: column;align-items: center;background-color: white;padding-right: 0.2em;padding-left: 0.2em;position: relative;}#sk-container-id-4 div.sk-item {position: relative;z-index: 1;}#sk-container-id-4 div.sk-parallel {display: flex;align-items: stretch;justify-content: center;background-color: white;position: relative;}#sk-container-id-4 div.sk-item::before, #sk-container-id-4 div.sk-parallel-item::before {content: \"\";position: absolute;border-left: 1px solid gray;box-sizing: border-box;top: 0;bottom: 0;left: 50%;z-index: -1;}#sk-container-id-4 div.sk-parallel-item {display: flex;flex-direction: column;z-index: 1;position: relative;background-color: white;}#sk-container-id-4 div.sk-parallel-item:first-child::after {align-self: flex-end;width: 50%;}#sk-container-id-4 div.sk-parallel-item:last-child::after {align-self: flex-start;width: 50%;}#sk-container-id-4 div.sk-parallel-item:only-child::after {width: 0;}#sk-container-id-4 div.sk-dashed-wrapped {border: 1px dashed gray;margin: 0 0.4em 0.5em 0.4em;box-sizing: border-box;padding-bottom: 0.4em;background-color: white;}#sk-container-id-4 div.sk-label label {font-family: monospace;font-weight: bold;display: inline-block;line-height: 1.2em;}#sk-container-id-4 div.sk-label-container {text-align: center;}#sk-container-id-4 div.sk-container {/* jupyter's `normalize.less` sets `[hidden] { display: none; }` but bootstrap.min.css set `[hidden] { display: none !important; }` so we also need the `!important` here to be able to override the default hidden behavior on the sphinx rendered scikit-learn.org. See: https://github.com/scikit-learn/scikit-learn/issues/21755 */display: inline-block !important;position: relative;}#sk-container-id-4 div.sk-text-repr-fallback {display: none;}</style><div id=\"sk-container-id-4\" class=\"sk-top-container\"><div class=\"sk-text-repr-fallback\"><pre>DecisionTreeRegressor()</pre><b>In a Jupyter environment, please rerun this cell to show the HTML representation or trust the notebook. <br />On GitHub, the HTML representation is unable to render, please try loading this page with nbviewer.org.</b></div><div class=\"sk-container\" hidden><div class=\"sk-item\"><div class=\"sk-estimator sk-toggleable\"><input class=\"sk-toggleable__control sk-hidden--visually\" id=\"sk-estimator-id-4\" type=\"checkbox\" checked><label for=\"sk-estimator-id-4\" class=\"sk-toggleable__label sk-toggleable__label-arrow\">DecisionTreeRegressor</label><div class=\"sk-toggleable__content\"><pre>DecisionTreeRegressor()</pre></div></div></div></div></div>"
      ],
      "text/plain": [
       "DecisionTreeRegressor()"
      ]
     },
     "execution_count": 95,
     "metadata": {},
     "output_type": "execute_result"
    }
   ],
   "source": [
    "from sklearn.tree import DecisionTreeRegressor\n",
    "dtree=DecisionTreeRegressor()\n",
    "#fit the model\n",
    "dtree.fit(x_train,y_train)"
   ]
  },
  {
   "cell_type": "code",
   "execution_count": 96,
   "id": "8f03383d",
   "metadata": {},
   "outputs": [],
   "source": [
    "y_hat_train_dtree=dtree.predict(x_train)\n",
    "y_hat_test_dtree=dtree.predict(x_test)"
   ]
  },
  {
   "cell_type": "code",
   "execution_count": 97,
   "id": "64bd92a3",
   "metadata": {},
   "outputs": [
    {
     "name": "stdout",
     "output_type": "stream",
     "text": [
      "r2 score of the model for train data is: 1.0\n"
     ]
    }
   ],
   "source": [
    "print(\"r2 score of the model for train data is:\",round(r2_score(y_train,y_hat_train_dtree),2))"
   ]
  },
  {
   "cell_type": "code",
   "execution_count": 98,
   "id": "c67b8768",
   "metadata": {},
   "outputs": [
    {
     "name": "stdout",
     "output_type": "stream",
     "text": [
      "r2 score of the model for test data is: 0.83\n"
     ]
    }
   ],
   "source": [
    "print(\"r2 score of the model for test data is:\",round(r2_score(y_test,y_hat_test_dtree),2))"
   ]
  },
  {
   "cell_type": "code",
   "execution_count": 99,
   "id": "2c0a74d0",
   "metadata": {},
   "outputs": [
    {
     "name": "stdout",
     "output_type": "stream",
     "text": [
      "0.0\n"
     ]
    }
   ],
   "source": [
    "rmse_train = np.sqrt(mean_squared_error(y_train,y_hat_train_dtree))\n",
    "print(round(rmse_train,2))"
   ]
  },
  {
   "cell_type": "code",
   "execution_count": 100,
   "id": "5fc84aa7",
   "metadata": {},
   "outputs": [
    {
     "name": "stdout",
     "output_type": "stream",
     "text": [
      "31519.82\n"
     ]
    }
   ],
   "source": [
    "rmse_test_model = np.sqrt(mean_squared_error(y_test,y_hat_test_dtree))\n",
    "print(round(rmse_test_model,2))"
   ]
  },
  {
   "cell_type": "code",
   "execution_count": 101,
   "id": "57538299",
   "metadata": {},
   "outputs": [
    {
     "data": {
      "text/plain": [
       "Text(0.5, 1.0, 'tree for the prediction columns')"
      ]
     },
     "execution_count": 101,
     "metadata": {},
     "output_type": "execute_result"
    },
    {
     "data": {
      "image/png": "[encoded data removed]",
      "text/plain": [
       "<Figure size 1000x500 with 1 Axes>"
      ]
     },
     "metadata": {},
     "output_type": "display_data"
    }
   ],
   "source": [
    "from sklearn.tree import plot_tree\n",
    "plt.figure(figsize=(10,5))\n",
    "clf = DecisionTreeRegressor(max_depth=3).fit(x_train,y_train)\n",
    "plot_tree(clf,filled=True)\n",
    "plt.title(\"tree for the prediction columns\")"
   ]
  },
  {
   "cell_type": "code",
   "execution_count": null,
   "id": "65526abf",
   "metadata": {},
   "outputs": [],
   "source": []
  }
 ],
 "metadata": {
  "kernelspec": {
   "display_name": "Python 3 (ipykernel)",
   "language": "python",
   "name": "python3"
  },
  "language_info": {
   "codemirror_mode": {
    "name": "ipython",
    "version": 3
   },
   "file_extension": ".py",
   "mimetype": "text/x-python",
   "name": "python",
   "nbconvert_exporter": "python",
   "pygments_lexer": "ipython3",
   "version": "3.10.9"
  }
 },
 "nbformat": 4,
 "nbformat_minor": 5
}
